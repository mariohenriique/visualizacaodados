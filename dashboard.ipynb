{
 "cells": [
  {
   "cell_type": "code",
   "execution_count": 1,
   "metadata": {},
   "outputs": [],
   "source": [
    "# !pip install pandas\n",
    "# !pip install dash\n",
    "# !pip install jupyter-dash"
   ]
  },
  {
   "cell_type": "code",
   "execution_count": 2,
   "metadata": {},
   "outputs": [],
   "source": [
    "import pandas as pd\n",
    "import plotly.express as px\n",
    "import plotly.graph_objects as go\n",
    "from dash import Dash, dcc, html, Input, Output, State, no_update\n"
   ]
  },
  {
   "cell_type": "code",
   "execution_count": 3,
   "metadata": {},
   "outputs": [],
   "source": [
    "def extrair_ano(cat_number):\n",
    "    return int('20' + cat_number.split('-')[1][:2])\n",
    "\n",
    "def criar_df_area_empilhada(df,taxon,ano='year'):\n",
    "    df_area = df.copy()\n",
    "    df_area = df_area.groupby([taxon,ano]).size().reset_index(name='counts')\n",
    "    df_area = df_area.sort_values(by=ano)\n",
    "    df_area[ano] = pd.to_numeric(df_area[ano])\n",
    "    df_area = df_area.pivot_table(index=taxon, columns=ano, values='counts', fill_value=0)\n",
    "    df_area = df_area.cumsum(axis=1)\n",
    "    df_area = df_area.reset_index()\n",
    "\n",
    "    df_area_long = pd.melt(df_area, id_vars=[taxon], var_name=ano, value_name='value')\n",
    "    last_year_order_counts = df_area_long[df_area_long[ano] == df_area_long[ano].max()].groupby(taxon).size()\n",
    "    df_area_long_sorted = df_area_long.set_index(taxon).loc[last_year_order_counts.index].reset_index()\n",
    "\n",
    "    sorted_order = df_area_long_sorted[df_area_long_sorted[ano] == max(df_area_long_sorted[ano])].groupby(taxon)['value'].sum().sort_values(ascending=False).index\n",
    "\n",
    "    return df_area_long_sorted,sorted_order\n",
    "\n",
    "def criar_df_linha(df,taxon,ano='year'):\n",
    "    df_linha = df.copy()\n",
    "    df_linha = df_linha.groupby([taxon, ano]).size().reset_index(name='counts')\n",
    "    df_linha = df_linha.sort_values(by=ano)\n",
    "    df_linha[ano] = pd.to_numeric(df_linha[ano])\n",
    "    df_linha = df_linha.pivot_table(index=taxon, columns=ano, values='counts', fill_value=0)\n",
    "    df_linha_soma = df_linha.cumsum(axis=1)\n",
    "    df_linha_soma = df_linha_soma.reset_index()\n",
    "    df_linha = df_linha.reset_index()\n",
    "\n",
    "    sorted_order = list_sorted_order(df_linha_soma,taxon,ano)\n",
    "\n",
    "    df_linha[taxon] = pd.Categorical(df_linha[taxon], categories=sorted_order, ordered=True)\n",
    "    df_linha = df_linha.sort_values(by=taxon)\n",
    "    return df_linha,sorted_order\n",
    "\n",
    "def list_sorted_order(df,taxon,ano):\n",
    "    df_area_long = pd.melt(df, id_vars=[taxon], var_name=ano, value_name='value')\n",
    "    last_year_order_counts = df_area_long[df_area_long[ano] == df_area_long[ano].max()].groupby(taxon).size()\n",
    "    df_area_long_sorted = df_area_long.set_index(taxon).loc[last_year_order_counts.index].reset_index()\n",
    "\n",
    "    sorted_order = df_area_long_sorted[df_area_long_sorted[ano] == max(df_area_long_sorted[ano])].groupby(taxon)['value'].sum().sort_values(ascending=False).index\n",
    "    return sorted_order\n",
    "\n",
    "def calcula_condicional_ausentes_porcentagem(df, previous_level, current_level):\n",
    "    conditioned_df = df[df[previous_level].notnull()]\n",
    "    return (conditioned_df[current_level].isnull().sum() / len(conditioned_df)) * 100\n"
   ]
  },
  {
   "cell_type": "code",
   "execution_count": 4,
   "metadata": {},
   "outputs": [],
   "source": [
    "df = pd.read_csv('planilha_unificada.csv',low_memory=False)\n",
    "\n",
    "df['specie'] = df.apply(lambda row: row['genus'] + ' ' + row['specificEpithet'] if not pd.isna(row['genus']) and not pd.isna(row['specificEpithet']) else None, axis=1)\n",
    "\n",
    "df['year'] = df['eventDate'].str.split('/').str[0].str.split('-').str[0]\n",
    "df['mounth'] = df['eventDate'].str.split('/').str[0].str.split('-').str[1]\n",
    "df['day'] = df['eventDate'].str.split('/').str[0].str.split('-').str[2]\n",
    "df['ano'] = df['catalogNumber'].apply(lambda x: extrair_ano(x) if isinstance(x, str) else None)"
   ]
  },
  {
   "cell_type": "code",
   "execution_count": 5,
   "metadata": {},
   "outputs": [],
   "source": [
    "# Filtrando as colunas sem informações\n",
    "col = ['continent', 'country','stateProvince','county','locality']\n",
    "columns_to_fill = ['kingdom', 'phylum', 'class', 'order', 'superfamily', 'family', 'subfamily', 'genus', 'specie']\n",
    "df_sem_classificao = df.assign(**{col: df[col].fillna('sem classificação') for col in columns_to_fill})\n",
    "df_treemap_classificacao = df.assign(**{col: df[col].fillna('sem classificação') for col in columns_to_fill})\n",
    "\n",
    "df_paises = df.assign(**{col: df[col].fillna('sem informação do local') for col in col})\n",
    "df_sem_brasil = df_paises[df_paises['country'] != 'Brasil']\n",
    "df_brasil = df_paises[df_paises['country'] == 'Brasil']\n",
    "df_sem_mg = df_brasil[df_brasil['stateProvince'] != 'Minas Gerais']"
   ]
  },
  {
   "cell_type": "code",
   "execution_count": 6,
   "metadata": {},
   "outputs": [],
   "source": [
    "# COLOCAR O DF INTEIRO (TALVEZ COLOCAR ALGUNS FILTROS)"
   ]
  },
  {
   "cell_type": "code",
   "execution_count": 7,
   "metadata": {},
   "outputs": [],
   "source": [
    "\n",
    "treemap_class_taxon = px.treemap(df_treemap_classificacao, path=['kingdom','phylum', 'class','order','superfamily','family','subfamily','genus','specie'],color='order')\n",
    "treemap_class_taxon.update_layout(margin = dict(t=50, l=25, r=25, b=25))\n",
    "\n",
    "treemap_paises = px.treemap(df_paises, path=[px.Constant(\"world\"), 'continent', 'country','stateProvince','county','locality'])\n",
    "treemap_paises.update_layout(margin = dict(t=50, l=25, r=25, b=25))\n",
    "\n",
    "treemap_sem_brasil = px.treemap(df_sem_brasil, path=[px.Constant(\"world\"), 'continent', 'country','stateProvince','county','locality'])\n",
    "\n",
    "treemap_brasil = px.treemap(df_brasil, path=['country','stateProvince','county','locality'])\n",
    "\n",
    "treemap_sem_mg = px.treemap(df_sem_mg, path=['country','stateProvince','county','locality'])\n"
   ]
  },
  {
   "cell_type": "code",
   "execution_count": 8,
   "metadata": {},
   "outputs": [],
   "source": [
    "tax_levels = ['order', 'superfamily', 'family', 'subfamily', 'genus','subgenus','specie']\n",
    "area_empilhada_dict = {}\n",
    "sorted_orders = {}\n",
    "\n",
    "for tax in tax_levels:\n",
    "    # DataFrame com a coluna 'ano'\n",
    "    df_tax_ano, sorted_tax_ano = criar_df_area_empilhada(df_sem_classificao, tax, 'ano')\n",
    "    area_empilhada_ano = px.area(df_tax_ano, x='ano', y='value', color=tax,\n",
    "                      title=f'Contagem de Coletas por {tax.capitalize()} (Empilhado por Ano)',\n",
    "                      labels={'value': 'Contagem de Coletas', tax: tax.capitalize(), 'ano': 'Ano'},\n",
    "                      category_orders={tax: sorted_tax_ano})\n",
    "\n",
    "    # DataFrame com a coluna 'year'\n",
    "    df_tax_year, sorted_tax_year = criar_df_area_empilhada(df_sem_classificao, tax, 'year')\n",
    "    area_empilhada_year = px.area(df_tax_year, x='year', y='value', color=tax,\n",
    "                       title=f'Contagem de Coletas por {tax.capitalize()} (Empilhado por Ano)',\n",
    "                       labels={'value': 'Contagem de Coletas', tax: tax.capitalize(), 'year': 'Ano'},\n",
    "                       category_orders={tax: sorted_tax_year})\n",
    "\n",
    "    area_empilhada_dict[tax] = {'ano': area_empilhada_ano, 'year': area_empilhada_year}\n",
    "    sorted_orders[tax] = sorted_tax_ano\n",
    "\n",
    "# Criar uma figura de plotly.graph_objects\n",
    "grafico_area_empilhada = go.Figure()\n",
    "\n",
    "# categories = []\n",
    "for tax in tax_levels:\n",
    "    for trace in area_empilhada_dict[tax]['ano'].data:\n",
    "        if trace.name == 'sem classificação':\n",
    "            trace.visible = 'legendonly'\n",
    "        grafico_area_empilhada.add_trace(trace)\n",
    "        grafico_area_empilhada.data[-1].visible = False  # Inicialmente definir visível como False\n",
    "\n",
    "    for trace in area_empilhada_dict[tax]['year'].data:\n",
    "        grafico_area_empilhada.add_trace(trace)\n",
    "        grafico_area_empilhada.data[-1].visible = False  # Inicialmente definir visível como False\n",
    "        # categories.append((tax, 'year'))\n",
    "\n",
    "# Definir a visibilidade inicial (genus e ano)\n",
    "for i in range(len(area_empilhada_dict['order']['ano'].data)):\n",
    "    grafico_area_empilhada.data[i].visible = True\n",
    "\n"
   ]
  },
  {
   "cell_type": "code",
   "execution_count": 9,
   "metadata": {},
   "outputs": [],
   "source": [
    "histograma_tax_dict = {}\n",
    "for tax in tax_levels:\n",
    "    df_tax_filtered = df_sem_classificao[df_sem_classificao[tax] != 'sem classificação']\n",
    "    # df_tax_filtered[tax] = df_tax_filtered[tax].apply(lambda x: [s.strip() for s in x.split(' | ')] if isinstance(x, str) else x)\n",
    "\n",
    "    # # Explodir a lista resultante em várias linhas e criar uma nova coluna\n",
    "    # df_tax_filtered = df_tax_filtered.explode(tax).reset_index(drop=True)\n",
    "    # DataFrame com a contagem dos itens classificados\n",
    "    df_tax_count = df_tax_filtered[tax].value_counts()\n",
    "    hist_tax = px.bar(df_tax_count,log_y=True)\n",
    "    hist_tax.update_layout(\n",
    "        xaxis = dict(\n",
    "            tickmode = 'array',\n",
    "            tickvals = df_tax_count.index,  # Define os valores dos rótulos\n",
    "            ticktext = [str(label)[:15] for label in df_tax_count.index]  # Limita o comprimento dos rótulos\n",
    "        )\n",
    "    )\n",
    "    histograma_tax_dict[tax] = hist_tax\n"
   ]
  },
  {
   "cell_type": "code",
   "execution_count": 10,
   "metadata": {},
   "outputs": [],
   "source": [
    "# df_ano_corri = df[df['year'].str.len() == 4]\n",
    "# df_ano_corri = df_ano_corri[df_ano_corri['year']!='2061']\n",
    "# Fazer um de linha para as coletas (só tem pra identificacao)\n",
    "linha_tax_dict = {}\n",
    "\n",
    "for tax in tax_levels:\n",
    "    df_linha, sorted_orders = criar_df_linha(df_sem_classificao, tax)\n",
    "\n",
    "    todos_anos = range(max(1984, df_linha.iloc[:, 1:].values.min()), df_linha.columns[1:].max() + 1)\n",
    "    anos_faltantes = [ano for ano in todos_anos if ano not in df_linha.columns[1:]]\n",
    "    \n",
    "    traces=[]\n",
    "    linha_tax_unico_dict = {}  # Dicionário interno para armazenar os gráficos de linha por categoria\n",
    "    for index, row in df_linha.iterrows():\n",
    "        visibility = 'legendonly' if row[tax] == 'sem classificação' else True\n",
    "        trace = go.Scatter(x=df_linha.columns[1:], y=row.values[1:], mode='lines+markers', name=row[tax], visible=visibility)\n",
    "        traces.append(trace)\n",
    "        grafico_linha_unico = px.line(row,markers=True)\n",
    "        linha_tax_unico_dict[row[tax]] = grafico_linha_unico\n",
    "\n",
    "    layout = go.Layout(\n",
    "        xaxis=dict(title='Ano'),\n",
    "        yaxis=dict(\n",
    "            title='Contagem de Coletas',\n",
    "            range=[0 - (df_linha.iloc[:, 1:].values.max() * 0.03), df_linha.iloc[:, 1:].values.max() * 1.03]\n",
    "        )\n",
    "    )\n",
    "\n",
    "    grafico_linha_todos = go.Figure(data=traces, layout=layout)\n",
    "    for index, valor in enumerate(anos_faltantes):\n",
    "        grafico_linha_todos.add_shape(\n",
    "            type=\"rect\",\n",
    "            x0=valor,\n",
    "            y0=0,\n",
    "            x1=valor,\n",
    "            y1=df_linha.iloc[:, 1:].values.max() * 100,  # Altura máxima com base nos dados\n",
    "            opacity=0.3,\n",
    "            line=dict(color=\"Gray\", width=10)\n",
    "        )\n",
    "\n",
    "    grafico_linha_todos.update_layout(xaxis=dict(showgrid=False))\n",
    "    linha_tax_unico_dict['all'] = grafico_linha_todos\n",
    "    linha_tax_dict[tax] = linha_tax_unico_dict\n"
   ]
  },
  {
   "cell_type": "code",
   "execution_count": 11,
   "metadata": {},
   "outputs": [],
   "source": [
    "\n",
    "# linha_tax_dict['family']['all']\n"
   ]
  },
  {
   "cell_type": "code",
   "execution_count": 12,
   "metadata": {},
   "outputs": [],
   "source": [
    "df_percent_class = df[['order','Coorte ou Supercoorte','superfamily','family','subfamily','genus','subgenus','specie']]\n",
    "\n",
    "valores_null_porcentagem = (df_percent_class.isnull().sum() / len(df_percent_class)) * 100\n",
    "\n",
    "grafico_valores_null = px.bar(valores_null_porcentagem)\n"
   ]
  },
  {
   "cell_type": "code",
   "execution_count": 13,
   "metadata": {},
   "outputs": [],
   "source": [
    "\n",
    "# Lista de níveis hierárquicos na ordem desejada\n",
    "taxon_levels = ['class','order', 'Coorte ou Supercoorte','superfamily', 'family','genus', 'specie']\n",
    "\n",
    "# Dicionário para armazenar as porcentagens\n",
    "porcentagem_valores_ausentes = {}\n",
    "\n",
    "# Calcular as porcentagens para cada nível hierárquico\n",
    "for i in range(1, len(taxon_levels)):\n",
    "    nivel_anterior = taxon_levels[i - 1]\n",
    "    nivel_atual = taxon_levels[i]\n",
    "    porcentagem_valores_ausentes[nivel_atual] = calcula_condicional_ausentes_porcentagem(df, nivel_anterior, nivel_atual)\n",
    "\n",
    "# Criar um DataFrame a partir do dicionário de porcentagens\n",
    "df_porcentagem_valores_ausentes = pd.DataFrame(list(porcentagem_valores_ausentes.items()), columns=['nivel', 'valor'])\n",
    "\n",
    "grafico_valores_null_dependente = px.bar(df_porcentagem_valores_ausentes,x='nivel',y='valor')\n"
   ]
  },
  {
   "cell_type": "code",
   "execution_count": 14,
   "metadata": {},
   "outputs": [],
   "source": [
    "df_tax_unicos = df[tax_levels].nunique()\n",
    "\n",
    "grafico_unicos_taxon = px.bar(df_tax_unicos)\n"
   ]
  },
  {
   "cell_type": "code",
   "execution_count": 15,
   "metadata": {},
   "outputs": [],
   "source": [
    "barras_coletores_dict = {}\n",
    "df_coletores = df.copy()\n",
    "df_coletores = df_coletores[['recordedBy','year','ano']]\n",
    "\n",
    "df_coletores['recordedBy'] = df_coletores['recordedBy'].dropna().apply(lambda x: [s.strip() for s in x.split(' | ')] if isinstance(x, str) else x)\n",
    "\n",
    "# Explodir a lista resultante em várias linhas e criar uma nova coluna\n",
    "df_coletores = df_coletores.explode('recordedBy').reset_index(drop=True)\n",
    "\n",
    "df_coletores_grouped_coleta = df_coletores.groupby('year')['recordedBy'].nunique().reset_index()\n",
    "df_coletores_grouped_identificacao = df_coletores.groupby('ano')['recordedBy'].nunique().reset_index()\n",
    "\n",
    "# Criar o gráfico de barras\n",
    "grafico_barras_coletores_coleta = px.bar(df_coletores_grouped_coleta,x='year',y='recordedBy')\n",
    "barras_coletores_dict['year'] = grafico_barras_coletores_coleta\n",
    "\n",
    "grafico_barras_coletores_identificacao = px.bar(df_coletores_grouped_identificacao,x='ano',y='recordedBy')\n",
    "barras_coletores_dict['ano'] = grafico_barras_coletores_identificacao\n"
   ]
  },
  {
   "cell_type": "code",
   "execution_count": 16,
   "metadata": {},
   "outputs": [],
   "source": [
    "# Verificar os dados de cada um dos coletores\n",
    "barras_equipe_dict = {}\n",
    "df_filtrado_equipe = df_coletores[df_coletores['recordedBy'].str.contains('Equipe', na=False)]\n",
    "\n",
    "# Contar a quantidade de ocorrências em cada ano\n",
    "df_contagem_coleta = df_filtrado_equipe.groupby(['year', 'recordedBy']).size().reset_index(name='count')\n",
    "df_contagem_identificacao = df_filtrado_equipe.groupby(['ano', 'recordedBy']).size().reset_index(name='count')\n",
    "\n",
    "grafico_barras_equipe_coleta = px.bar(df_contagem_coleta, x='year', y='count', color='recordedBy', barmode='stack',\n",
    "             labels={'year': 'Ano', 'count': 'Contagem', 'recordedBy': 'Registrado por'},\n",
    "             title='Contagem de ocorrências por ano e registrado por')\n",
    "barras_equipe_dict['year'] = grafico_barras_equipe_coleta\n",
    "\n",
    "grafico_barras_equipe_identificacao = px.bar(df_contagem_identificacao, x='ano', y='count', color='recordedBy', barmode='stack',\n",
    "             labels={'year': 'Ano', 'count': 'Contagem', 'recordedBy': 'Registrado por'},\n",
    "             title='Contagem de ocorrências por ano e registrado por')\n",
    "barras_equipe_dict['ano'] = grafico_barras_equipe_identificacao\n"
   ]
  },
  {
   "cell_type": "code",
   "execution_count": 17,
   "metadata": {},
   "outputs": [],
   "source": [
    "\n",
    "barras_paises_dict = {}\n",
    "df_ano = df.copy()\n",
    "df_agrupado_cole = df_ano.groupby(['country', 'year']).size().reset_index(name='counts')\n",
    "df_agrupado = df_ano.groupby(['country', 'ano']).size().reset_index(name='counts')\n",
    "# Ordene os dados pelo ano\n",
    "df_agrupado_cole = df_agrupado_cole.sort_values(by='counts')\n",
    "df_agrupado = df_agrupado.sort_values(by='ano')\n",
    "\n",
    "# Crie o gráfico de barras empilhadas\n",
    "fig = px.bar(df_agrupado_cole, color='country', y='counts', x='year', title='Contagem de Coletas por País (Empilhado por Ano)',\n",
    "             labels={'counts': 'Contagem de Coletas', 'country': 'País', 'year': 'Ano'},\n",
    "             barmode='stack')\n",
    "fig2 = px.bar(df_agrupado, color='country', y='counts', x='ano', title='Contagem de Coletas por País (Empilhado por Ano)',\n",
    "             labels={'counts': 'Contagem de Coletas', 'country': 'País', 'year': 'Ano'},\n",
    "             barmode='stack')\n",
    "\n",
    "barras_paises_dict['ano'] = fig2\n",
    "barras_paises_dict['year'] = fig\n"
   ]
  },
  {
   "cell_type": "code",
   "execution_count": 36,
   "metadata": {},
   "outputs": [
    {
     "ename": "ValueError",
     "evalue": "Mime type rendering requires nbformat>=4.2.0 but it is not installed",
     "output_type": "error",
     "traceback": [
      "\u001b[1;31m---------------------------------------------------------------------------\u001b[0m",
      "\u001b[1;31mValueError\u001b[0m                                Traceback (most recent call last)",
      "File \u001b[1;32m~\\AppData\\Local\\Packages\\PythonSoftwareFoundation.Python.3.10_qbz5n2kfra8p0\\LocalCache\\local-packages\\Python310\\site-packages\\IPython\\core\\formatters.py:920\u001b[0m, in \u001b[0;36mIPythonDisplayFormatter.__call__\u001b[1;34m(self, obj)\u001b[0m\n\u001b[0;32m    918\u001b[0m method \u001b[38;5;241m=\u001b[39m get_real_method(obj, \u001b[38;5;28mself\u001b[39m\u001b[38;5;241m.\u001b[39mprint_method)\n\u001b[0;32m    919\u001b[0m \u001b[38;5;28;01mif\u001b[39;00m method \u001b[38;5;129;01mis\u001b[39;00m \u001b[38;5;129;01mnot\u001b[39;00m \u001b[38;5;28;01mNone\u001b[39;00m:\n\u001b[1;32m--> 920\u001b[0m     \u001b[43mmethod\u001b[49m\u001b[43m(\u001b[49m\u001b[43m)\u001b[49m\n\u001b[0;32m    921\u001b[0m     \u001b[38;5;28;01mreturn\u001b[39;00m \u001b[38;5;28;01mTrue\u001b[39;00m\n",
      "File \u001b[1;32m~\\AppData\\Local\\Packages\\PythonSoftwareFoundation.Python.3.10_qbz5n2kfra8p0\\LocalCache\\local-packages\\Python310\\site-packages\\plotly\\basedatatypes.py:832\u001b[0m, in \u001b[0;36mBaseFigure._ipython_display_\u001b[1;34m(self)\u001b[0m\n\u001b[0;32m    829\u001b[0m \u001b[38;5;28;01mimport\u001b[39;00m \u001b[38;5;21;01mplotly\u001b[39;00m\u001b[38;5;21;01m.\u001b[39;00m\u001b[38;5;21;01mio\u001b[39;00m \u001b[38;5;28;01mas\u001b[39;00m \u001b[38;5;21;01mpio\u001b[39;00m\n\u001b[0;32m    831\u001b[0m \u001b[38;5;28;01mif\u001b[39;00m pio\u001b[38;5;241m.\u001b[39mrenderers\u001b[38;5;241m.\u001b[39mrender_on_display \u001b[38;5;129;01mand\u001b[39;00m pio\u001b[38;5;241m.\u001b[39mrenderers\u001b[38;5;241m.\u001b[39mdefault:\n\u001b[1;32m--> 832\u001b[0m     \u001b[43mpio\u001b[49m\u001b[38;5;241;43m.\u001b[39;49m\u001b[43mshow\u001b[49m\u001b[43m(\u001b[49m\u001b[38;5;28;43mself\u001b[39;49m\u001b[43m)\u001b[49m\n\u001b[0;32m    833\u001b[0m \u001b[38;5;28;01melse\u001b[39;00m:\n\u001b[0;32m    834\u001b[0m     \u001b[38;5;28mprint\u001b[39m(\u001b[38;5;28mrepr\u001b[39m(\u001b[38;5;28mself\u001b[39m))\n",
      "File \u001b[1;32m~\\AppData\\Local\\Packages\\PythonSoftwareFoundation.Python.3.10_qbz5n2kfra8p0\\LocalCache\\local-packages\\Python310\\site-packages\\plotly\\io\\_renderers.py:394\u001b[0m, in \u001b[0;36mshow\u001b[1;34m(fig, renderer, validate, **kwargs)\u001b[0m\n\u001b[0;32m    389\u001b[0m         \u001b[38;5;28;01mraise\u001b[39;00m \u001b[38;5;167;01mValueError\u001b[39;00m(\n\u001b[0;32m    390\u001b[0m             \u001b[38;5;124m\"\u001b[39m\u001b[38;5;124mMime type rendering requires ipython but it is not installed\u001b[39m\u001b[38;5;124m\"\u001b[39m\n\u001b[0;32m    391\u001b[0m         )\n\u001b[0;32m    393\u001b[0m     \u001b[38;5;28;01mif\u001b[39;00m \u001b[38;5;129;01mnot\u001b[39;00m nbformat \u001b[38;5;129;01mor\u001b[39;00m Version(nbformat\u001b[38;5;241m.\u001b[39m__version__) \u001b[38;5;241m<\u001b[39m Version(\u001b[38;5;124m\"\u001b[39m\u001b[38;5;124m4.2.0\u001b[39m\u001b[38;5;124m\"\u001b[39m):\n\u001b[1;32m--> 394\u001b[0m         \u001b[38;5;28;01mraise\u001b[39;00m \u001b[38;5;167;01mValueError\u001b[39;00m(\n\u001b[0;32m    395\u001b[0m             \u001b[38;5;124m\"\u001b[39m\u001b[38;5;124mMime type rendering requires nbformat>=4.2.0 but it is not installed\u001b[39m\u001b[38;5;124m\"\u001b[39m\n\u001b[0;32m    396\u001b[0m         )\n\u001b[0;32m    398\u001b[0m     ipython_display\u001b[38;5;241m.\u001b[39mdisplay(bundle, raw\u001b[38;5;241m=\u001b[39m\u001b[38;5;28;01mTrue\u001b[39;00m)\n\u001b[0;32m    400\u001b[0m \u001b[38;5;66;03m# external renderers\u001b[39;00m\n",
      "\u001b[1;31mValueError\u001b[0m: Mime type rendering requires nbformat>=4.2.0 but it is not installed"
     ]
    },
    {
     "data": {
      "application/vnd.plotly.v1+json": {
       "config": {
        "plotlyServerURL": "https://plot.ly"
       },
       "data": [
        {
         "alignmentgroup": "True",
         "hovertemplate": "País=Alemanha<br>Ano=%{x}<br>Contagem de Coletas=%{y}<extra></extra>",
         "legendgroup": "Alemanha",
         "marker": {
          "color": "#636efa",
          "pattern": {
           "shape": ""
          }
         },
         "name": "Alemanha",
         "offsetgroup": "Alemanha",
         "orientation": "v",
         "showlegend": true,
         "textposition": "auto",
         "type": "bar",
         "x": [
          "10",
          "2022",
          "2007",
          "2009",
          "2006"
         ],
         "xaxis": "x",
         "y": [
          1,
          1,
          4,
          5,
          29
         ],
         "yaxis": "y"
        },
        {
         "alignmentgroup": "True",
         "hovertemplate": "País=Nova Zelândia<br>Ano=%{x}<br>Contagem de Coletas=%{y}<extra></extra>",
         "legendgroup": "Nova Zelândia",
         "marker": {
          "color": "#EF553B",
          "pattern": {
           "shape": ""
          }
         },
         "name": "Nova Zelândia",
         "offsetgroup": "Nova Zelândia",
         "orientation": "v",
         "showlegend": true,
         "textposition": "auto",
         "type": "bar",
         "x": [
          "2024",
          "2023",
          "2017",
          "2013",
          "2016",
          "2022"
         ],
         "xaxis": "x",
         "y": [
          1,
          1,
          1,
          2,
          3,
          57
         ],
         "yaxis": "y"
        },
        {
         "alignmentgroup": "True",
         "hovertemplate": "País=Equador<br>Ano=%{x}<br>Contagem de Coletas=%{y}<extra></extra>",
         "legendgroup": "Equador",
         "marker": {
          "color": "#00cc96",
          "pattern": {
           "shape": ""
          }
         },
         "name": "Equador",
         "offsetgroup": "Equador",
         "orientation": "v",
         "showlegend": true,
         "textposition": "auto",
         "type": "bar",
         "x": [
          "2009"
         ],
         "xaxis": "x",
         "y": [
          1
         ],
         "yaxis": "y"
        },
        {
         "alignmentgroup": "True",
         "hovertemplate": "País=Chile<br>Ano=%{x}<br>Contagem de Coletas=%{y}<extra></extra>",
         "legendgroup": "Chile",
         "marker": {
          "color": "#ab63fa",
          "pattern": {
           "shape": ""
          }
         },
         "name": "Chile",
         "offsetgroup": "Chile",
         "orientation": "v",
         "showlegend": true,
         "textposition": "auto",
         "type": "bar",
         "x": [
          "2018",
          "2002",
          "2017",
          "2016",
          "2007",
          "2010"
         ],
         "xaxis": "x",
         "y": [
          1,
          3,
          7,
          13,
          16,
          19
         ],
         "yaxis": "y"
        },
        {
         "alignmentgroup": "True",
         "hovertemplate": "País=Honduras<br>Ano=%{x}<br>Contagem de Coletas=%{y}<extra></extra>",
         "legendgroup": "Honduras",
         "marker": {
          "color": "#FFA15A",
          "pattern": {
           "shape": ""
          }
         },
         "name": "Honduras",
         "offsetgroup": "Honduras",
         "orientation": "v",
         "showlegend": true,
         "textposition": "auto",
         "type": "bar",
         "x": [
          "2010"
         ],
         "xaxis": "x",
         "y": [
          2
         ],
         "yaxis": "y"
        },
        {
         "alignmentgroup": "True",
         "hovertemplate": "País=Guiana Francesa<br>Ano=%{x}<br>Contagem de Coletas=%{y}<extra></extra>",
         "legendgroup": "Guiana Francesa",
         "marker": {
          "color": "#19d3f3",
          "pattern": {
           "shape": ""
          }
         },
         "name": "Guiana Francesa",
         "offsetgroup": "Guiana Francesa",
         "orientation": "v",
         "showlegend": true,
         "textposition": "auto",
         "type": "bar",
         "x": [
          "2008"
         ],
         "xaxis": "x",
         "y": [
          2
         ],
         "yaxis": "y"
        },
        {
         "alignmentgroup": "True",
         "hovertemplate": "País=Estados Unidos<br>Ano=%{x}<br>Contagem de Coletas=%{y}<extra></extra>",
         "legendgroup": "Estados Unidos",
         "marker": {
          "color": "#FF6692",
          "pattern": {
           "shape": ""
          }
         },
         "name": "Estados Unidos",
         "offsetgroup": "Estados Unidos",
         "orientation": "v",
         "showlegend": true,
         "textposition": "auto",
         "type": "bar",
         "x": [
          "2017",
          "2004",
          "2019",
          "2015",
          "2018"
         ],
         "xaxis": "x",
         "y": [
          2,
          2,
          8,
          18,
          39
         ],
         "yaxis": "y"
        },
        {
         "alignmentgroup": "True",
         "hovertemplate": "País=Cuba<br>Ano=%{x}<br>Contagem de Coletas=%{y}<extra></extra>",
         "legendgroup": "Cuba",
         "marker": {
          "color": "#B6E880",
          "pattern": {
           "shape": ""
          }
         },
         "name": "Cuba",
         "offsetgroup": "Cuba",
         "orientation": "v",
         "showlegend": true,
         "textposition": "auto",
         "type": "bar",
         "x": [
          "2012"
         ],
         "xaxis": "x",
         "y": [
          2
         ],
         "yaxis": "y"
        },
        {
         "alignmentgroup": "True",
         "hovertemplate": "País=Tajiquistão<br>Ano=%{x}<br>Contagem de Coletas=%{y}<extra></extra>",
         "legendgroup": "Tajiquistão",
         "marker": {
          "color": "#FF97FF",
          "pattern": {
           "shape": ""
          }
         },
         "name": "Tajiquistão",
         "offsetgroup": "Tajiquistão",
         "orientation": "v",
         "showlegend": true,
         "textposition": "auto",
         "type": "bar",
         "x": [
          "2022"
         ],
         "xaxis": "x",
         "y": [
          2
         ],
         "yaxis": "y"
        },
        {
         "alignmentgroup": "True",
         "hovertemplate": "País=Austrália<br>Ano=%{x}<br>Contagem de Coletas=%{y}<extra></extra>",
         "legendgroup": "Austrália",
         "marker": {
          "color": "#FECB52",
          "pattern": {
           "shape": ""
          }
         },
         "name": "Austrália",
         "offsetgroup": "Austrália",
         "orientation": "v",
         "showlegend": true,
         "textposition": "auto",
         "type": "bar",
         "x": [
          "2013",
          "2020",
          "2022",
          "2021",
          "2019"
         ],
         "xaxis": "x",
         "y": [
          2,
          3,
          7,
          7,
          98
         ],
         "yaxis": "y"
        },
        {
         "alignmentgroup": "True",
         "hovertemplate": "País=Bolívia<br>Ano=%{x}<br>Contagem de Coletas=%{y}<extra></extra>",
         "legendgroup": "Bolívia",
         "marker": {
          "color": "#636efa",
          "pattern": {
           "shape": ""
          }
         },
         "name": "Bolívia",
         "offsetgroup": "Bolívia",
         "orientation": "v",
         "showlegend": true,
         "textposition": "auto",
         "type": "bar",
         "x": [
          "2017",
          "2014"
         ],
         "xaxis": "x",
         "y": [
          3,
          9
         ],
         "yaxis": "y"
        },
        {
         "alignmentgroup": "True",
         "hovertemplate": "País=Rússia<br>Ano=%{x}<br>Contagem de Coletas=%{y}<extra></extra>",
         "legendgroup": "Rússia",
         "marker": {
          "color": "#EF553B",
          "pattern": {
           "shape": ""
          }
         },
         "name": "Rússia",
         "offsetgroup": "Rússia",
         "orientation": "v",
         "showlegend": true,
         "textposition": "auto",
         "type": "bar",
         "x": [
          "2019",
          "2020",
          "2018",
          "2022"
         ],
         "xaxis": "x",
         "y": [
          4,
          6,
          70,
          129
         ],
         "yaxis": "y"
        },
        {
         "alignmentgroup": "True",
         "hovertemplate": "País=Peru<br>Ano=%{x}<br>Contagem de Coletas=%{y}<extra></extra>",
         "legendgroup": "Peru",
         "marker": {
          "color": "#00cc96",
          "pattern": {
           "shape": ""
          }
         },
         "name": "Peru",
         "offsetgroup": "Peru",
         "orientation": "v",
         "showlegend": true,
         "textposition": "auto",
         "type": "bar",
         "x": [
          "2014"
         ],
         "xaxis": "x",
         "y": [
          6
         ],
         "yaxis": "y"
        },
        {
         "alignmentgroup": "True",
         "hovertemplate": "País=Panamá<br>Ano=%{x}<br>Contagem de Coletas=%{y}<extra></extra>",
         "legendgroup": "Panamá",
         "marker": {
          "color": "#ab63fa",
          "pattern": {
           "shape": ""
          }
         },
         "name": "Panamá",
         "offsetgroup": "Panamá",
         "orientation": "v",
         "showlegend": true,
         "textposition": "auto",
         "type": "bar",
         "x": [
          "2014"
         ],
         "xaxis": "x",
         "y": [
          8
         ],
         "yaxis": "y"
        },
        {
         "alignmentgroup": "True",
         "hovertemplate": "País=Azerbaijão<br>Ano=%{x}<br>Contagem de Coletas=%{y}<extra></extra>",
         "legendgroup": "Azerbaijão",
         "marker": {
          "color": "#FFA15A",
          "pattern": {
           "shape": ""
          }
         },
         "name": "Azerbaijão",
         "offsetgroup": "Azerbaijão",
         "orientation": "v",
         "showlegend": true,
         "textposition": "auto",
         "type": "bar",
         "x": [
          "2018"
         ],
         "xaxis": "x",
         "y": [
          22
         ],
         "yaxis": "y"
        },
        {
         "alignmentgroup": "True",
         "hovertemplate": "País=Irã<br>Ano=%{x}<br>Contagem de Coletas=%{y}<extra></extra>",
         "legendgroup": "Irã",
         "marker": {
          "color": "#19d3f3",
          "pattern": {
           "shape": ""
          }
         },
         "name": "Irã",
         "offsetgroup": "Irã",
         "orientation": "v",
         "showlegend": true,
         "textposition": "auto",
         "type": "bar",
         "x": [
          "2022"
         ],
         "xaxis": "x",
         "y": [
          28
         ],
         "yaxis": "y"
        },
        {
         "alignmentgroup": "True",
         "hovertemplate": "País=Espanha<br>Ano=%{x}<br>Contagem de Coletas=%{y}<extra></extra>",
         "legendgroup": "Espanha",
         "marker": {
          "color": "#FF6692",
          "pattern": {
           "shape": ""
          }
         },
         "name": "Espanha",
         "offsetgroup": "Espanha",
         "orientation": "v",
         "showlegend": true,
         "textposition": "auto",
         "type": "bar",
         "x": [
          "2008"
         ],
         "xaxis": "x",
         "y": [
          86
         ],
         "yaxis": "y"
        }
       ],
       "layout": {
        "barmode": "stack",
        "legend": {
         "title": {
          "text": "País"
         },
         "tracegroupgap": 0
        },
        "template": {
         "data": {
          "bar": [
           {
            "error_x": {
             "color": "#2a3f5f"
            },
            "error_y": {
             "color": "#2a3f5f"
            },
            "marker": {
             "line": {
              "color": "#E5ECF6",
              "width": 0.5
             },
             "pattern": {
              "fillmode": "overlay",
              "size": 10,
              "solidity": 0.2
             }
            },
            "type": "bar"
           }
          ],
          "barpolar": [
           {
            "marker": {
             "line": {
              "color": "#E5ECF6",
              "width": 0.5
             },
             "pattern": {
              "fillmode": "overlay",
              "size": 10,
              "solidity": 0.2
             }
            },
            "type": "barpolar"
           }
          ],
          "carpet": [
           {
            "aaxis": {
             "endlinecolor": "#2a3f5f",
             "gridcolor": "white",
             "linecolor": "white",
             "minorgridcolor": "white",
             "startlinecolor": "#2a3f5f"
            },
            "baxis": {
             "endlinecolor": "#2a3f5f",
             "gridcolor": "white",
             "linecolor": "white",
             "minorgridcolor": "white",
             "startlinecolor": "#2a3f5f"
            },
            "type": "carpet"
           }
          ],
          "choropleth": [
           {
            "colorbar": {
             "outlinewidth": 0,
             "ticks": ""
            },
            "type": "choropleth"
           }
          ],
          "contour": [
           {
            "colorbar": {
             "outlinewidth": 0,
             "ticks": ""
            },
            "colorscale": [
             [
              0,
              "#0d0887"
             ],
             [
              0.1111111111111111,
              "#46039f"
             ],
             [
              0.2222222222222222,
              "#7201a8"
             ],
             [
              0.3333333333333333,
              "#9c179e"
             ],
             [
              0.4444444444444444,
              "#bd3786"
             ],
             [
              0.5555555555555556,
              "#d8576b"
             ],
             [
              0.6666666666666666,
              "#ed7953"
             ],
             [
              0.7777777777777778,
              "#fb9f3a"
             ],
             [
              0.8888888888888888,
              "#fdca26"
             ],
             [
              1,
              "#f0f921"
             ]
            ],
            "type": "contour"
           }
          ],
          "contourcarpet": [
           {
            "colorbar": {
             "outlinewidth": 0,
             "ticks": ""
            },
            "type": "contourcarpet"
           }
          ],
          "heatmap": [
           {
            "colorbar": {
             "outlinewidth": 0,
             "ticks": ""
            },
            "colorscale": [
             [
              0,
              "#0d0887"
             ],
             [
              0.1111111111111111,
              "#46039f"
             ],
             [
              0.2222222222222222,
              "#7201a8"
             ],
             [
              0.3333333333333333,
              "#9c179e"
             ],
             [
              0.4444444444444444,
              "#bd3786"
             ],
             [
              0.5555555555555556,
              "#d8576b"
             ],
             [
              0.6666666666666666,
              "#ed7953"
             ],
             [
              0.7777777777777778,
              "#fb9f3a"
             ],
             [
              0.8888888888888888,
              "#fdca26"
             ],
             [
              1,
              "#f0f921"
             ]
            ],
            "type": "heatmap"
           }
          ],
          "heatmapgl": [
           {
            "colorbar": {
             "outlinewidth": 0,
             "ticks": ""
            },
            "colorscale": [
             [
              0,
              "#0d0887"
             ],
             [
              0.1111111111111111,
              "#46039f"
             ],
             [
              0.2222222222222222,
              "#7201a8"
             ],
             [
              0.3333333333333333,
              "#9c179e"
             ],
             [
              0.4444444444444444,
              "#bd3786"
             ],
             [
              0.5555555555555556,
              "#d8576b"
             ],
             [
              0.6666666666666666,
              "#ed7953"
             ],
             [
              0.7777777777777778,
              "#fb9f3a"
             ],
             [
              0.8888888888888888,
              "#fdca26"
             ],
             [
              1,
              "#f0f921"
             ]
            ],
            "type": "heatmapgl"
           }
          ],
          "histogram": [
           {
            "marker": {
             "pattern": {
              "fillmode": "overlay",
              "size": 10,
              "solidity": 0.2
             }
            },
            "type": "histogram"
           }
          ],
          "histogram2d": [
           {
            "colorbar": {
             "outlinewidth": 0,
             "ticks": ""
            },
            "colorscale": [
             [
              0,
              "#0d0887"
             ],
             [
              0.1111111111111111,
              "#46039f"
             ],
             [
              0.2222222222222222,
              "#7201a8"
             ],
             [
              0.3333333333333333,
              "#9c179e"
             ],
             [
              0.4444444444444444,
              "#bd3786"
             ],
             [
              0.5555555555555556,
              "#d8576b"
             ],
             [
              0.6666666666666666,
              "#ed7953"
             ],
             [
              0.7777777777777778,
              "#fb9f3a"
             ],
             [
              0.8888888888888888,
              "#fdca26"
             ],
             [
              1,
              "#f0f921"
             ]
            ],
            "type": "histogram2d"
           }
          ],
          "histogram2dcontour": [
           {
            "colorbar": {
             "outlinewidth": 0,
             "ticks": ""
            },
            "colorscale": [
             [
              0,
              "#0d0887"
             ],
             [
              0.1111111111111111,
              "#46039f"
             ],
             [
              0.2222222222222222,
              "#7201a8"
             ],
             [
              0.3333333333333333,
              "#9c179e"
             ],
             [
              0.4444444444444444,
              "#bd3786"
             ],
             [
              0.5555555555555556,
              "#d8576b"
             ],
             [
              0.6666666666666666,
              "#ed7953"
             ],
             [
              0.7777777777777778,
              "#fb9f3a"
             ],
             [
              0.8888888888888888,
              "#fdca26"
             ],
             [
              1,
              "#f0f921"
             ]
            ],
            "type": "histogram2dcontour"
           }
          ],
          "mesh3d": [
           {
            "colorbar": {
             "outlinewidth": 0,
             "ticks": ""
            },
            "type": "mesh3d"
           }
          ],
          "parcoords": [
           {
            "line": {
             "colorbar": {
              "outlinewidth": 0,
              "ticks": ""
             }
            },
            "type": "parcoords"
           }
          ],
          "pie": [
           {
            "automargin": true,
            "type": "pie"
           }
          ],
          "scatter": [
           {
            "fillpattern": {
             "fillmode": "overlay",
             "size": 10,
             "solidity": 0.2
            },
            "type": "scatter"
           }
          ],
          "scatter3d": [
           {
            "line": {
             "colorbar": {
              "outlinewidth": 0,
              "ticks": ""
             }
            },
            "marker": {
             "colorbar": {
              "outlinewidth": 0,
              "ticks": ""
             }
            },
            "type": "scatter3d"
           }
          ],
          "scattercarpet": [
           {
            "marker": {
             "colorbar": {
              "outlinewidth": 0,
              "ticks": ""
             }
            },
            "type": "scattercarpet"
           }
          ],
          "scattergeo": [
           {
            "marker": {
             "colorbar": {
              "outlinewidth": 0,
              "ticks": ""
             }
            },
            "type": "scattergeo"
           }
          ],
          "scattergl": [
           {
            "marker": {
             "colorbar": {
              "outlinewidth": 0,
              "ticks": ""
             }
            },
            "type": "scattergl"
           }
          ],
          "scattermapbox": [
           {
            "marker": {
             "colorbar": {
              "outlinewidth": 0,
              "ticks": ""
             }
            },
            "type": "scattermapbox"
           }
          ],
          "scatterpolar": [
           {
            "marker": {
             "colorbar": {
              "outlinewidth": 0,
              "ticks": ""
             }
            },
            "type": "scatterpolar"
           }
          ],
          "scatterpolargl": [
           {
            "marker": {
             "colorbar": {
              "outlinewidth": 0,
              "ticks": ""
             }
            },
            "type": "scatterpolargl"
           }
          ],
          "scatterternary": [
           {
            "marker": {
             "colorbar": {
              "outlinewidth": 0,
              "ticks": ""
             }
            },
            "type": "scatterternary"
           }
          ],
          "surface": [
           {
            "colorbar": {
             "outlinewidth": 0,
             "ticks": ""
            },
            "colorscale": [
             [
              0,
              "#0d0887"
             ],
             [
              0.1111111111111111,
              "#46039f"
             ],
             [
              0.2222222222222222,
              "#7201a8"
             ],
             [
              0.3333333333333333,
              "#9c179e"
             ],
             [
              0.4444444444444444,
              "#bd3786"
             ],
             [
              0.5555555555555556,
              "#d8576b"
             ],
             [
              0.6666666666666666,
              "#ed7953"
             ],
             [
              0.7777777777777778,
              "#fb9f3a"
             ],
             [
              0.8888888888888888,
              "#fdca26"
             ],
             [
              1,
              "#f0f921"
             ]
            ],
            "type": "surface"
           }
          ],
          "table": [
           {
            "cells": {
             "fill": {
              "color": "#EBF0F8"
             },
             "line": {
              "color": "white"
             }
            },
            "header": {
             "fill": {
              "color": "#C8D4E3"
             },
             "line": {
              "color": "white"
             }
            },
            "type": "table"
           }
          ]
         },
         "layout": {
          "annotationdefaults": {
           "arrowcolor": "#2a3f5f",
           "arrowhead": 0,
           "arrowwidth": 1
          },
          "autotypenumbers": "strict",
          "coloraxis": {
           "colorbar": {
            "outlinewidth": 0,
            "ticks": ""
           }
          },
          "colorscale": {
           "diverging": [
            [
             0,
             "#8e0152"
            ],
            [
             0.1,
             "#c51b7d"
            ],
            [
             0.2,
             "#de77ae"
            ],
            [
             0.3,
             "#f1b6da"
            ],
            [
             0.4,
             "#fde0ef"
            ],
            [
             0.5,
             "#f7f7f7"
            ],
            [
             0.6,
             "#e6f5d0"
            ],
            [
             0.7,
             "#b8e186"
            ],
            [
             0.8,
             "#7fbc41"
            ],
            [
             0.9,
             "#4d9221"
            ],
            [
             1,
             "#276419"
            ]
           ],
           "sequential": [
            [
             0,
             "#0d0887"
            ],
            [
             0.1111111111111111,
             "#46039f"
            ],
            [
             0.2222222222222222,
             "#7201a8"
            ],
            [
             0.3333333333333333,
             "#9c179e"
            ],
            [
             0.4444444444444444,
             "#bd3786"
            ],
            [
             0.5555555555555556,
             "#d8576b"
            ],
            [
             0.6666666666666666,
             "#ed7953"
            ],
            [
             0.7777777777777778,
             "#fb9f3a"
            ],
            [
             0.8888888888888888,
             "#fdca26"
            ],
            [
             1,
             "#f0f921"
            ]
           ],
           "sequentialminus": [
            [
             0,
             "#0d0887"
            ],
            [
             0.1111111111111111,
             "#46039f"
            ],
            [
             0.2222222222222222,
             "#7201a8"
            ],
            [
             0.3333333333333333,
             "#9c179e"
            ],
            [
             0.4444444444444444,
             "#bd3786"
            ],
            [
             0.5555555555555556,
             "#d8576b"
            ],
            [
             0.6666666666666666,
             "#ed7953"
            ],
            [
             0.7777777777777778,
             "#fb9f3a"
            ],
            [
             0.8888888888888888,
             "#fdca26"
            ],
            [
             1,
             "#f0f921"
            ]
           ]
          },
          "colorway": [
           "#636efa",
           "#EF553B",
           "#00cc96",
           "#ab63fa",
           "#FFA15A",
           "#19d3f3",
           "#FF6692",
           "#B6E880",
           "#FF97FF",
           "#FECB52"
          ],
          "font": {
           "color": "#2a3f5f"
          },
          "geo": {
           "bgcolor": "white",
           "lakecolor": "white",
           "landcolor": "#E5ECF6",
           "showlakes": true,
           "showland": true,
           "subunitcolor": "white"
          },
          "hoverlabel": {
           "align": "left"
          },
          "hovermode": "closest",
          "mapbox": {
           "style": "light"
          },
          "paper_bgcolor": "white",
          "plot_bgcolor": "#E5ECF6",
          "polar": {
           "angularaxis": {
            "gridcolor": "white",
            "linecolor": "white",
            "ticks": ""
           },
           "bgcolor": "#E5ECF6",
           "radialaxis": {
            "gridcolor": "white",
            "linecolor": "white",
            "ticks": ""
           }
          },
          "scene": {
           "xaxis": {
            "backgroundcolor": "#E5ECF6",
            "gridcolor": "white",
            "gridwidth": 2,
            "linecolor": "white",
            "showbackground": true,
            "ticks": "",
            "zerolinecolor": "white"
           },
           "yaxis": {
            "backgroundcolor": "#E5ECF6",
            "gridcolor": "white",
            "gridwidth": 2,
            "linecolor": "white",
            "showbackground": true,
            "ticks": "",
            "zerolinecolor": "white"
           },
           "zaxis": {
            "backgroundcolor": "#E5ECF6",
            "gridcolor": "white",
            "gridwidth": 2,
            "linecolor": "white",
            "showbackground": true,
            "ticks": "",
            "zerolinecolor": "white"
           }
          },
          "shapedefaults": {
           "line": {
            "color": "#2a3f5f"
           }
          },
          "ternary": {
           "aaxis": {
            "gridcolor": "white",
            "linecolor": "white",
            "ticks": ""
           },
           "baxis": {
            "gridcolor": "white",
            "linecolor": "white",
            "ticks": ""
           },
           "bgcolor": "#E5ECF6",
           "caxis": {
            "gridcolor": "white",
            "linecolor": "white",
            "ticks": ""
           }
          },
          "title": {
           "x": 0.05
          },
          "xaxis": {
           "automargin": true,
           "gridcolor": "white",
           "linecolor": "white",
           "ticks": "",
           "title": {
            "standoff": 15
           },
           "zerolinecolor": "white",
           "zerolinewidth": 2
          },
          "yaxis": {
           "automargin": true,
           "gridcolor": "white",
           "linecolor": "white",
           "ticks": "",
           "title": {
            "standoff": 15
           },
           "zerolinecolor": "white",
           "zerolinewidth": 2
          }
         }
        },
        "title": {
         "text": "Contagem de Coletas por País (Empilhado por Ano)"
        },
        "xaxis": {
         "anchor": "y",
         "domain": [
          0,
          1
         ],
         "title": {
          "text": "Ano"
         }
        },
        "yaxis": {
         "anchor": "x",
         "domain": [
          0,
          1
         ],
         "title": {
          "text": "Contagem de Coletas"
         }
        }
       }
      },
      "text/html": [
       "<div>                        <script type=\"text/javascript\">window.PlotlyConfig = {MathJaxConfig: 'local'};</script>\n",
       "        <script charset=\"utf-8\" src=\"https://cdn.plot.ly/plotly-2.32.0.min.js\"></script>                <div id=\"19a39867-e8af-4597-82a2-e6855804b206\" class=\"plotly-graph-div\" style=\"height:100%; width:100%;\"></div>            <script type=\"text/javascript\">                                    window.PLOTLYENV=window.PLOTLYENV || {};                                    if (document.getElementById(\"19a39867-e8af-4597-82a2-e6855804b206\")) {                    Plotly.newPlot(                        \"19a39867-e8af-4597-82a2-e6855804b206\",                        [{\"alignmentgroup\":\"True\",\"hovertemplate\":\"Pa\\u00eds=Alemanha\\u003cbr\\u003eAno=%{x}\\u003cbr\\u003eContagem de Coletas=%{y}\\u003cextra\\u003e\\u003c\\u002fextra\\u003e\",\"legendgroup\":\"Alemanha\",\"marker\":{\"color\":\"#636efa\",\"pattern\":{\"shape\":\"\"}},\"name\":\"Alemanha\",\"offsetgroup\":\"Alemanha\",\"orientation\":\"v\",\"showlegend\":true,\"textposition\":\"auto\",\"x\":[\"10\",\"2022\",\"2007\",\"2009\",\"2006\"],\"xaxis\":\"x\",\"y\":[1,1,4,5,29],\"yaxis\":\"y\",\"type\":\"bar\"},{\"alignmentgroup\":\"True\",\"hovertemplate\":\"Pa\\u00eds=Nova Zel\\u00e2ndia\\u003cbr\\u003eAno=%{x}\\u003cbr\\u003eContagem de Coletas=%{y}\\u003cextra\\u003e\\u003c\\u002fextra\\u003e\",\"legendgroup\":\"Nova Zel\\u00e2ndia\",\"marker\":{\"color\":\"#EF553B\",\"pattern\":{\"shape\":\"\"}},\"name\":\"Nova Zel\\u00e2ndia\",\"offsetgroup\":\"Nova Zel\\u00e2ndia\",\"orientation\":\"v\",\"showlegend\":true,\"textposition\":\"auto\",\"x\":[\"2024\",\"2023\",\"2017\",\"2013\",\"2016\",\"2022\"],\"xaxis\":\"x\",\"y\":[1,1,1,2,3,57],\"yaxis\":\"y\",\"type\":\"bar\"},{\"alignmentgroup\":\"True\",\"hovertemplate\":\"Pa\\u00eds=Equador\\u003cbr\\u003eAno=%{x}\\u003cbr\\u003eContagem de Coletas=%{y}\\u003cextra\\u003e\\u003c\\u002fextra\\u003e\",\"legendgroup\":\"Equador\",\"marker\":{\"color\":\"#00cc96\",\"pattern\":{\"shape\":\"\"}},\"name\":\"Equador\",\"offsetgroup\":\"Equador\",\"orientation\":\"v\",\"showlegend\":true,\"textposition\":\"auto\",\"x\":[\"2009\"],\"xaxis\":\"x\",\"y\":[1],\"yaxis\":\"y\",\"type\":\"bar\"},{\"alignmentgroup\":\"True\",\"hovertemplate\":\"Pa\\u00eds=Chile\\u003cbr\\u003eAno=%{x}\\u003cbr\\u003eContagem de Coletas=%{y}\\u003cextra\\u003e\\u003c\\u002fextra\\u003e\",\"legendgroup\":\"Chile\",\"marker\":{\"color\":\"#ab63fa\",\"pattern\":{\"shape\":\"\"}},\"name\":\"Chile\",\"offsetgroup\":\"Chile\",\"orientation\":\"v\",\"showlegend\":true,\"textposition\":\"auto\",\"x\":[\"2018\",\"2002\",\"2017\",\"2016\",\"2007\",\"2010\"],\"xaxis\":\"x\",\"y\":[1,3,7,13,16,19],\"yaxis\":\"y\",\"type\":\"bar\"},{\"alignmentgroup\":\"True\",\"hovertemplate\":\"Pa\\u00eds=Honduras\\u003cbr\\u003eAno=%{x}\\u003cbr\\u003eContagem de Coletas=%{y}\\u003cextra\\u003e\\u003c\\u002fextra\\u003e\",\"legendgroup\":\"Honduras\",\"marker\":{\"color\":\"#FFA15A\",\"pattern\":{\"shape\":\"\"}},\"name\":\"Honduras\",\"offsetgroup\":\"Honduras\",\"orientation\":\"v\",\"showlegend\":true,\"textposition\":\"auto\",\"x\":[\"2010\"],\"xaxis\":\"x\",\"y\":[2],\"yaxis\":\"y\",\"type\":\"bar\"},{\"alignmentgroup\":\"True\",\"hovertemplate\":\"Pa\\u00eds=Guiana Francesa\\u003cbr\\u003eAno=%{x}\\u003cbr\\u003eContagem de Coletas=%{y}\\u003cextra\\u003e\\u003c\\u002fextra\\u003e\",\"legendgroup\":\"Guiana Francesa\",\"marker\":{\"color\":\"#19d3f3\",\"pattern\":{\"shape\":\"\"}},\"name\":\"Guiana Francesa\",\"offsetgroup\":\"Guiana Francesa\",\"orientation\":\"v\",\"showlegend\":true,\"textposition\":\"auto\",\"x\":[\"2008\"],\"xaxis\":\"x\",\"y\":[2],\"yaxis\":\"y\",\"type\":\"bar\"},{\"alignmentgroup\":\"True\",\"hovertemplate\":\"Pa\\u00eds=Estados Unidos\\u003cbr\\u003eAno=%{x}\\u003cbr\\u003eContagem de Coletas=%{y}\\u003cextra\\u003e\\u003c\\u002fextra\\u003e\",\"legendgroup\":\"Estados Unidos\",\"marker\":{\"color\":\"#FF6692\",\"pattern\":{\"shape\":\"\"}},\"name\":\"Estados Unidos\",\"offsetgroup\":\"Estados Unidos\",\"orientation\":\"v\",\"showlegend\":true,\"textposition\":\"auto\",\"x\":[\"2017\",\"2004\",\"2019\",\"2015\",\"2018\"],\"xaxis\":\"x\",\"y\":[2,2,8,18,39],\"yaxis\":\"y\",\"type\":\"bar\"},{\"alignmentgroup\":\"True\",\"hovertemplate\":\"Pa\\u00eds=Cuba\\u003cbr\\u003eAno=%{x}\\u003cbr\\u003eContagem de Coletas=%{y}\\u003cextra\\u003e\\u003c\\u002fextra\\u003e\",\"legendgroup\":\"Cuba\",\"marker\":{\"color\":\"#B6E880\",\"pattern\":{\"shape\":\"\"}},\"name\":\"Cuba\",\"offsetgroup\":\"Cuba\",\"orientation\":\"v\",\"showlegend\":true,\"textposition\":\"auto\",\"x\":[\"2012\"],\"xaxis\":\"x\",\"y\":[2],\"yaxis\":\"y\",\"type\":\"bar\"},{\"alignmentgroup\":\"True\",\"hovertemplate\":\"Pa\\u00eds=Tajiquist\\u00e3o\\u003cbr\\u003eAno=%{x}\\u003cbr\\u003eContagem de Coletas=%{y}\\u003cextra\\u003e\\u003c\\u002fextra\\u003e\",\"legendgroup\":\"Tajiquist\\u00e3o\",\"marker\":{\"color\":\"#FF97FF\",\"pattern\":{\"shape\":\"\"}},\"name\":\"Tajiquist\\u00e3o\",\"offsetgroup\":\"Tajiquist\\u00e3o\",\"orientation\":\"v\",\"showlegend\":true,\"textposition\":\"auto\",\"x\":[\"2022\"],\"xaxis\":\"x\",\"y\":[2],\"yaxis\":\"y\",\"type\":\"bar\"},{\"alignmentgroup\":\"True\",\"hovertemplate\":\"Pa\\u00eds=Austr\\u00e1lia\\u003cbr\\u003eAno=%{x}\\u003cbr\\u003eContagem de Coletas=%{y}\\u003cextra\\u003e\\u003c\\u002fextra\\u003e\",\"legendgroup\":\"Austr\\u00e1lia\",\"marker\":{\"color\":\"#FECB52\",\"pattern\":{\"shape\":\"\"}},\"name\":\"Austr\\u00e1lia\",\"offsetgroup\":\"Austr\\u00e1lia\",\"orientation\":\"v\",\"showlegend\":true,\"textposition\":\"auto\",\"x\":[\"2013\",\"2020\",\"2022\",\"2021\",\"2019\"],\"xaxis\":\"x\",\"y\":[2,3,7,7,98],\"yaxis\":\"y\",\"type\":\"bar\"},{\"alignmentgroup\":\"True\",\"hovertemplate\":\"Pa\\u00eds=Bol\\u00edvia\\u003cbr\\u003eAno=%{x}\\u003cbr\\u003eContagem de Coletas=%{y}\\u003cextra\\u003e\\u003c\\u002fextra\\u003e\",\"legendgroup\":\"Bol\\u00edvia\",\"marker\":{\"color\":\"#636efa\",\"pattern\":{\"shape\":\"\"}},\"name\":\"Bol\\u00edvia\",\"offsetgroup\":\"Bol\\u00edvia\",\"orientation\":\"v\",\"showlegend\":true,\"textposition\":\"auto\",\"x\":[\"2017\",\"2014\"],\"xaxis\":\"x\",\"y\":[3,9],\"yaxis\":\"y\",\"type\":\"bar\"},{\"alignmentgroup\":\"True\",\"hovertemplate\":\"Pa\\u00eds=R\\u00fassia\\u003cbr\\u003eAno=%{x}\\u003cbr\\u003eContagem de Coletas=%{y}\\u003cextra\\u003e\\u003c\\u002fextra\\u003e\",\"legendgroup\":\"R\\u00fassia\",\"marker\":{\"color\":\"#EF553B\",\"pattern\":{\"shape\":\"\"}},\"name\":\"R\\u00fassia\",\"offsetgroup\":\"R\\u00fassia\",\"orientation\":\"v\",\"showlegend\":true,\"textposition\":\"auto\",\"x\":[\"2019\",\"2020\",\"2018\",\"2022\"],\"xaxis\":\"x\",\"y\":[4,6,70,129],\"yaxis\":\"y\",\"type\":\"bar\"},{\"alignmentgroup\":\"True\",\"hovertemplate\":\"Pa\\u00eds=Peru\\u003cbr\\u003eAno=%{x}\\u003cbr\\u003eContagem de Coletas=%{y}\\u003cextra\\u003e\\u003c\\u002fextra\\u003e\",\"legendgroup\":\"Peru\",\"marker\":{\"color\":\"#00cc96\",\"pattern\":{\"shape\":\"\"}},\"name\":\"Peru\",\"offsetgroup\":\"Peru\",\"orientation\":\"v\",\"showlegend\":true,\"textposition\":\"auto\",\"x\":[\"2014\"],\"xaxis\":\"x\",\"y\":[6],\"yaxis\":\"y\",\"type\":\"bar\"},{\"alignmentgroup\":\"True\",\"hovertemplate\":\"Pa\\u00eds=Panam\\u00e1\\u003cbr\\u003eAno=%{x}\\u003cbr\\u003eContagem de Coletas=%{y}\\u003cextra\\u003e\\u003c\\u002fextra\\u003e\",\"legendgroup\":\"Panam\\u00e1\",\"marker\":{\"color\":\"#ab63fa\",\"pattern\":{\"shape\":\"\"}},\"name\":\"Panam\\u00e1\",\"offsetgroup\":\"Panam\\u00e1\",\"orientation\":\"v\",\"showlegend\":true,\"textposition\":\"auto\",\"x\":[\"2014\"],\"xaxis\":\"x\",\"y\":[8],\"yaxis\":\"y\",\"type\":\"bar\"},{\"alignmentgroup\":\"True\",\"hovertemplate\":\"Pa\\u00eds=Azerbaij\\u00e3o\\u003cbr\\u003eAno=%{x}\\u003cbr\\u003eContagem de Coletas=%{y}\\u003cextra\\u003e\\u003c\\u002fextra\\u003e\",\"legendgroup\":\"Azerbaij\\u00e3o\",\"marker\":{\"color\":\"#FFA15A\",\"pattern\":{\"shape\":\"\"}},\"name\":\"Azerbaij\\u00e3o\",\"offsetgroup\":\"Azerbaij\\u00e3o\",\"orientation\":\"v\",\"showlegend\":true,\"textposition\":\"auto\",\"x\":[\"2018\"],\"xaxis\":\"x\",\"y\":[22],\"yaxis\":\"y\",\"type\":\"bar\"},{\"alignmentgroup\":\"True\",\"hovertemplate\":\"Pa\\u00eds=Ir\\u00e3\\u003cbr\\u003eAno=%{x}\\u003cbr\\u003eContagem de Coletas=%{y}\\u003cextra\\u003e\\u003c\\u002fextra\\u003e\",\"legendgroup\":\"Ir\\u00e3\",\"marker\":{\"color\":\"#19d3f3\",\"pattern\":{\"shape\":\"\"}},\"name\":\"Ir\\u00e3\",\"offsetgroup\":\"Ir\\u00e3\",\"orientation\":\"v\",\"showlegend\":true,\"textposition\":\"auto\",\"x\":[\"2022\"],\"xaxis\":\"x\",\"y\":[28],\"yaxis\":\"y\",\"type\":\"bar\"},{\"alignmentgroup\":\"True\",\"hovertemplate\":\"Pa\\u00eds=Espanha\\u003cbr\\u003eAno=%{x}\\u003cbr\\u003eContagem de Coletas=%{y}\\u003cextra\\u003e\\u003c\\u002fextra\\u003e\",\"legendgroup\":\"Espanha\",\"marker\":{\"color\":\"#FF6692\",\"pattern\":{\"shape\":\"\"}},\"name\":\"Espanha\",\"offsetgroup\":\"Espanha\",\"orientation\":\"v\",\"showlegend\":true,\"textposition\":\"auto\",\"x\":[\"2008\"],\"xaxis\":\"x\",\"y\":[86],\"yaxis\":\"y\",\"type\":\"bar\"}],                        {\"template\":{\"data\":{\"histogram2dcontour\":[{\"type\":\"histogram2dcontour\",\"colorbar\":{\"outlinewidth\":0,\"ticks\":\"\"},\"colorscale\":[[0.0,\"#0d0887\"],[0.1111111111111111,\"#46039f\"],[0.2222222222222222,\"#7201a8\"],[0.3333333333333333,\"#9c179e\"],[0.4444444444444444,\"#bd3786\"],[0.5555555555555556,\"#d8576b\"],[0.6666666666666666,\"#ed7953\"],[0.7777777777777778,\"#fb9f3a\"],[0.8888888888888888,\"#fdca26\"],[1.0,\"#f0f921\"]]}],\"choropleth\":[{\"type\":\"choropleth\",\"colorbar\":{\"outlinewidth\":0,\"ticks\":\"\"}}],\"histogram2d\":[{\"type\":\"histogram2d\",\"colorbar\":{\"outlinewidth\":0,\"ticks\":\"\"},\"colorscale\":[[0.0,\"#0d0887\"],[0.1111111111111111,\"#46039f\"],[0.2222222222222222,\"#7201a8\"],[0.3333333333333333,\"#9c179e\"],[0.4444444444444444,\"#bd3786\"],[0.5555555555555556,\"#d8576b\"],[0.6666666666666666,\"#ed7953\"],[0.7777777777777778,\"#fb9f3a\"],[0.8888888888888888,\"#fdca26\"],[1.0,\"#f0f921\"]]}],\"heatmap\":[{\"type\":\"heatmap\",\"colorbar\":{\"outlinewidth\":0,\"ticks\":\"\"},\"colorscale\":[[0.0,\"#0d0887\"],[0.1111111111111111,\"#46039f\"],[0.2222222222222222,\"#7201a8\"],[0.3333333333333333,\"#9c179e\"],[0.4444444444444444,\"#bd3786\"],[0.5555555555555556,\"#d8576b\"],[0.6666666666666666,\"#ed7953\"],[0.7777777777777778,\"#fb9f3a\"],[0.8888888888888888,\"#fdca26\"],[1.0,\"#f0f921\"]]}],\"heatmapgl\":[{\"type\":\"heatmapgl\",\"colorbar\":{\"outlinewidth\":0,\"ticks\":\"\"},\"colorscale\":[[0.0,\"#0d0887\"],[0.1111111111111111,\"#46039f\"],[0.2222222222222222,\"#7201a8\"],[0.3333333333333333,\"#9c179e\"],[0.4444444444444444,\"#bd3786\"],[0.5555555555555556,\"#d8576b\"],[0.6666666666666666,\"#ed7953\"],[0.7777777777777778,\"#fb9f3a\"],[0.8888888888888888,\"#fdca26\"],[1.0,\"#f0f921\"]]}],\"contourcarpet\":[{\"type\":\"contourcarpet\",\"colorbar\":{\"outlinewidth\":0,\"ticks\":\"\"}}],\"contour\":[{\"type\":\"contour\",\"colorbar\":{\"outlinewidth\":0,\"ticks\":\"\"},\"colorscale\":[[0.0,\"#0d0887\"],[0.1111111111111111,\"#46039f\"],[0.2222222222222222,\"#7201a8\"],[0.3333333333333333,\"#9c179e\"],[0.4444444444444444,\"#bd3786\"],[0.5555555555555556,\"#d8576b\"],[0.6666666666666666,\"#ed7953\"],[0.7777777777777778,\"#fb9f3a\"],[0.8888888888888888,\"#fdca26\"],[1.0,\"#f0f921\"]]}],\"surface\":[{\"type\":\"surface\",\"colorbar\":{\"outlinewidth\":0,\"ticks\":\"\"},\"colorscale\":[[0.0,\"#0d0887\"],[0.1111111111111111,\"#46039f\"],[0.2222222222222222,\"#7201a8\"],[0.3333333333333333,\"#9c179e\"],[0.4444444444444444,\"#bd3786\"],[0.5555555555555556,\"#d8576b\"],[0.6666666666666666,\"#ed7953\"],[0.7777777777777778,\"#fb9f3a\"],[0.8888888888888888,\"#fdca26\"],[1.0,\"#f0f921\"]]}],\"mesh3d\":[{\"type\":\"mesh3d\",\"colorbar\":{\"outlinewidth\":0,\"ticks\":\"\"}}],\"scatter\":[{\"fillpattern\":{\"fillmode\":\"overlay\",\"size\":10,\"solidity\":0.2},\"type\":\"scatter\"}],\"parcoords\":[{\"type\":\"parcoords\",\"line\":{\"colorbar\":{\"outlinewidth\":0,\"ticks\":\"\"}}}],\"scatterpolargl\":[{\"type\":\"scatterpolargl\",\"marker\":{\"colorbar\":{\"outlinewidth\":0,\"ticks\":\"\"}}}],\"bar\":[{\"error_x\":{\"color\":\"#2a3f5f\"},\"error_y\":{\"color\":\"#2a3f5f\"},\"marker\":{\"line\":{\"color\":\"#E5ECF6\",\"width\":0.5},\"pattern\":{\"fillmode\":\"overlay\",\"size\":10,\"solidity\":0.2}},\"type\":\"bar\"}],\"scattergeo\":[{\"type\":\"scattergeo\",\"marker\":{\"colorbar\":{\"outlinewidth\":0,\"ticks\":\"\"}}}],\"scatterpolar\":[{\"type\":\"scatterpolar\",\"marker\":{\"colorbar\":{\"outlinewidth\":0,\"ticks\":\"\"}}}],\"histogram\":[{\"marker\":{\"pattern\":{\"fillmode\":\"overlay\",\"size\":10,\"solidity\":0.2}},\"type\":\"histogram\"}],\"scattergl\":[{\"type\":\"scattergl\",\"marker\":{\"colorbar\":{\"outlinewidth\":0,\"ticks\":\"\"}}}],\"scatter3d\":[{\"type\":\"scatter3d\",\"line\":{\"colorbar\":{\"outlinewidth\":0,\"ticks\":\"\"}},\"marker\":{\"colorbar\":{\"outlinewidth\":0,\"ticks\":\"\"}}}],\"scattermapbox\":[{\"type\":\"scattermapbox\",\"marker\":{\"colorbar\":{\"outlinewidth\":0,\"ticks\":\"\"}}}],\"scatterternary\":[{\"type\":\"scatterternary\",\"marker\":{\"colorbar\":{\"outlinewidth\":0,\"ticks\":\"\"}}}],\"scattercarpet\":[{\"type\":\"scattercarpet\",\"marker\":{\"colorbar\":{\"outlinewidth\":0,\"ticks\":\"\"}}}],\"carpet\":[{\"aaxis\":{\"endlinecolor\":\"#2a3f5f\",\"gridcolor\":\"white\",\"linecolor\":\"white\",\"minorgridcolor\":\"white\",\"startlinecolor\":\"#2a3f5f\"},\"baxis\":{\"endlinecolor\":\"#2a3f5f\",\"gridcolor\":\"white\",\"linecolor\":\"white\",\"minorgridcolor\":\"white\",\"startlinecolor\":\"#2a3f5f\"},\"type\":\"carpet\"}],\"table\":[{\"cells\":{\"fill\":{\"color\":\"#EBF0F8\"},\"line\":{\"color\":\"white\"}},\"header\":{\"fill\":{\"color\":\"#C8D4E3\"},\"line\":{\"color\":\"white\"}},\"type\":\"table\"}],\"barpolar\":[{\"marker\":{\"line\":{\"color\":\"#E5ECF6\",\"width\":0.5},\"pattern\":{\"fillmode\":\"overlay\",\"size\":10,\"solidity\":0.2}},\"type\":\"barpolar\"}],\"pie\":[{\"automargin\":true,\"type\":\"pie\"}]},\"layout\":{\"autotypenumbers\":\"strict\",\"colorway\":[\"#636efa\",\"#EF553B\",\"#00cc96\",\"#ab63fa\",\"#FFA15A\",\"#19d3f3\",\"#FF6692\",\"#B6E880\",\"#FF97FF\",\"#FECB52\"],\"font\":{\"color\":\"#2a3f5f\"},\"hovermode\":\"closest\",\"hoverlabel\":{\"align\":\"left\"},\"paper_bgcolor\":\"white\",\"plot_bgcolor\":\"#E5ECF6\",\"polar\":{\"bgcolor\":\"#E5ECF6\",\"angularaxis\":{\"gridcolor\":\"white\",\"linecolor\":\"white\",\"ticks\":\"\"},\"radialaxis\":{\"gridcolor\":\"white\",\"linecolor\":\"white\",\"ticks\":\"\"}},\"ternary\":{\"bgcolor\":\"#E5ECF6\",\"aaxis\":{\"gridcolor\":\"white\",\"linecolor\":\"white\",\"ticks\":\"\"},\"baxis\":{\"gridcolor\":\"white\",\"linecolor\":\"white\",\"ticks\":\"\"},\"caxis\":{\"gridcolor\":\"white\",\"linecolor\":\"white\",\"ticks\":\"\"}},\"coloraxis\":{\"colorbar\":{\"outlinewidth\":0,\"ticks\":\"\"}},\"colorscale\":{\"sequential\":[[0.0,\"#0d0887\"],[0.1111111111111111,\"#46039f\"],[0.2222222222222222,\"#7201a8\"],[0.3333333333333333,\"#9c179e\"],[0.4444444444444444,\"#bd3786\"],[0.5555555555555556,\"#d8576b\"],[0.6666666666666666,\"#ed7953\"],[0.7777777777777778,\"#fb9f3a\"],[0.8888888888888888,\"#fdca26\"],[1.0,\"#f0f921\"]],\"sequentialminus\":[[0.0,\"#0d0887\"],[0.1111111111111111,\"#46039f\"],[0.2222222222222222,\"#7201a8\"],[0.3333333333333333,\"#9c179e\"],[0.4444444444444444,\"#bd3786\"],[0.5555555555555556,\"#d8576b\"],[0.6666666666666666,\"#ed7953\"],[0.7777777777777778,\"#fb9f3a\"],[0.8888888888888888,\"#fdca26\"],[1.0,\"#f0f921\"]],\"diverging\":[[0,\"#8e0152\"],[0.1,\"#c51b7d\"],[0.2,\"#de77ae\"],[0.3,\"#f1b6da\"],[0.4,\"#fde0ef\"],[0.5,\"#f7f7f7\"],[0.6,\"#e6f5d0\"],[0.7,\"#b8e186\"],[0.8,\"#7fbc41\"],[0.9,\"#4d9221\"],[1,\"#276419\"]]},\"xaxis\":{\"gridcolor\":\"white\",\"linecolor\":\"white\",\"ticks\":\"\",\"title\":{\"standoff\":15},\"zerolinecolor\":\"white\",\"automargin\":true,\"zerolinewidth\":2},\"yaxis\":{\"gridcolor\":\"white\",\"linecolor\":\"white\",\"ticks\":\"\",\"title\":{\"standoff\":15},\"zerolinecolor\":\"white\",\"automargin\":true,\"zerolinewidth\":2},\"scene\":{\"xaxis\":{\"backgroundcolor\":\"#E5ECF6\",\"gridcolor\":\"white\",\"linecolor\":\"white\",\"showbackground\":true,\"ticks\":\"\",\"zerolinecolor\":\"white\",\"gridwidth\":2},\"yaxis\":{\"backgroundcolor\":\"#E5ECF6\",\"gridcolor\":\"white\",\"linecolor\":\"white\",\"showbackground\":true,\"ticks\":\"\",\"zerolinecolor\":\"white\",\"gridwidth\":2},\"zaxis\":{\"backgroundcolor\":\"#E5ECF6\",\"gridcolor\":\"white\",\"linecolor\":\"white\",\"showbackground\":true,\"ticks\":\"\",\"zerolinecolor\":\"white\",\"gridwidth\":2}},\"shapedefaults\":{\"line\":{\"color\":\"#2a3f5f\"}},\"annotationdefaults\":{\"arrowcolor\":\"#2a3f5f\",\"arrowhead\":0,\"arrowwidth\":1},\"geo\":{\"bgcolor\":\"white\",\"landcolor\":\"#E5ECF6\",\"subunitcolor\":\"white\",\"showland\":true,\"showlakes\":true,\"lakecolor\":\"white\"},\"title\":{\"x\":0.05},\"mapbox\":{\"style\":\"light\"}}},\"xaxis\":{\"anchor\":\"y\",\"domain\":[0.0,1.0],\"title\":{\"text\":\"Ano\"}},\"yaxis\":{\"anchor\":\"x\",\"domain\":[0.0,1.0],\"title\":{\"text\":\"Contagem de Coletas\"}},\"legend\":{\"title\":{\"text\":\"Pa\\u00eds\"},\"tracegroupgap\":0},\"title\":{\"text\":\"Contagem de Coletas por Pa\\u00eds (Empilhado por Ano)\"},\"barmode\":\"stack\"},                        {\"responsive\": true}                    )                };                            </script>        </div>"
      ],
      "text/plain": [
       "Figure({\n",
       "    'data': [{'alignmentgroup': 'True',\n",
       "              'hovertemplate': 'País=Alemanha<br>Ano=%{x}<br>Contagem de Coletas=%{y}<extra></extra>',\n",
       "              'legendgroup': 'Alemanha',\n",
       "              'marker': {'color': '#636efa', 'pattern': {'shape': ''}},\n",
       "              'name': 'Alemanha',\n",
       "              'offsetgroup': 'Alemanha',\n",
       "              'orientation': 'v',\n",
       "              'showlegend': True,\n",
       "              'textposition': 'auto',\n",
       "              'type': 'bar',\n",
       "              'x': array(['10', '2022', '2007', '2009', '2006'], dtype=object),\n",
       "              'xaxis': 'x',\n",
       "              'y': array([ 1,  1,  4,  5, 29], dtype=int64),\n",
       "              'yaxis': 'y'},\n",
       "             {'alignmentgroup': 'True',\n",
       "              'hovertemplate': 'País=Nova Zelândia<br>Ano=%{x}<br>Contagem de Coletas=%{y}<extra></extra>',\n",
       "              'legendgroup': 'Nova Zelândia',\n",
       "              'marker': {'color': '#EF553B', 'pattern': {'shape': ''}},\n",
       "              'name': 'Nova Zelândia',\n",
       "              'offsetgroup': 'Nova Zelândia',\n",
       "              'orientation': 'v',\n",
       "              'showlegend': True,\n",
       "              'textposition': 'auto',\n",
       "              'type': 'bar',\n",
       "              'x': array(['2024', '2023', '2017', '2013', '2016', '2022'], dtype=object),\n",
       "              'xaxis': 'x',\n",
       "              'y': array([ 1,  1,  1,  2,  3, 57], dtype=int64),\n",
       "              'yaxis': 'y'},\n",
       "             {'alignmentgroup': 'True',\n",
       "              'hovertemplate': 'País=Equador<br>Ano=%{x}<br>Contagem de Coletas=%{y}<extra></extra>',\n",
       "              'legendgroup': 'Equador',\n",
       "              'marker': {'color': '#00cc96', 'pattern': {'shape': ''}},\n",
       "              'name': 'Equador',\n",
       "              'offsetgroup': 'Equador',\n",
       "              'orientation': 'v',\n",
       "              'showlegend': True,\n",
       "              'textposition': 'auto',\n",
       "              'type': 'bar',\n",
       "              'x': array(['2009'], dtype=object),\n",
       "              'xaxis': 'x',\n",
       "              'y': array([1], dtype=int64),\n",
       "              'yaxis': 'y'},\n",
       "             {'alignmentgroup': 'True',\n",
       "              'hovertemplate': 'País=Chile<br>Ano=%{x}<br>Contagem de Coletas=%{y}<extra></extra>',\n",
       "              'legendgroup': 'Chile',\n",
       "              'marker': {'color': '#ab63fa', 'pattern': {'shape': ''}},\n",
       "              'name': 'Chile',\n",
       "              'offsetgroup': 'Chile',\n",
       "              'orientation': 'v',\n",
       "              'showlegend': True,\n",
       "              'textposition': 'auto',\n",
       "              'type': 'bar',\n",
       "              'x': array(['2018', '2002', '2017', '2016', '2007', '2010'], dtype=object),\n",
       "              'xaxis': 'x',\n",
       "              'y': array([ 1,  3,  7, 13, 16, 19], dtype=int64),\n",
       "              'yaxis': 'y'},\n",
       "             {'alignmentgroup': 'True',\n",
       "              'hovertemplate': 'País=Honduras<br>Ano=%{x}<br>Contagem de Coletas=%{y}<extra></extra>',\n",
       "              'legendgroup': 'Honduras',\n",
       "              'marker': {'color': '#FFA15A', 'pattern': {'shape': ''}},\n",
       "              'name': 'Honduras',\n",
       "              'offsetgroup': 'Honduras',\n",
       "              'orientation': 'v',\n",
       "              'showlegend': True,\n",
       "              'textposition': 'auto',\n",
       "              'type': 'bar',\n",
       "              'x': array(['2010'], dtype=object),\n",
       "              'xaxis': 'x',\n",
       "              'y': array([2], dtype=int64),\n",
       "              'yaxis': 'y'},\n",
       "             {'alignmentgroup': 'True',\n",
       "              'hovertemplate': 'País=Guiana Francesa<br>Ano=%{x}<br>Contagem de Coletas=%{y}<extra></extra>',\n",
       "              'legendgroup': 'Guiana Francesa',\n",
       "              'marker': {'color': '#19d3f3', 'pattern': {'shape': ''}},\n",
       "              'name': 'Guiana Francesa',\n",
       "              'offsetgroup': 'Guiana Francesa',\n",
       "              'orientation': 'v',\n",
       "              'showlegend': True,\n",
       "              'textposition': 'auto',\n",
       "              'type': 'bar',\n",
       "              'x': array(['2008'], dtype=object),\n",
       "              'xaxis': 'x',\n",
       "              'y': array([2], dtype=int64),\n",
       "              'yaxis': 'y'},\n",
       "             {'alignmentgroup': 'True',\n",
       "              'hovertemplate': 'País=Estados Unidos<br>Ano=%{x}<br>Contagem de Coletas=%{y}<extra></extra>',\n",
       "              'legendgroup': 'Estados Unidos',\n",
       "              'marker': {'color': '#FF6692', 'pattern': {'shape': ''}},\n",
       "              'name': 'Estados Unidos',\n",
       "              'offsetgroup': 'Estados Unidos',\n",
       "              'orientation': 'v',\n",
       "              'showlegend': True,\n",
       "              'textposition': 'auto',\n",
       "              'type': 'bar',\n",
       "              'x': array(['2017', '2004', '2019', '2015', '2018'], dtype=object),\n",
       "              'xaxis': 'x',\n",
       "              'y': array([ 2,  2,  8, 18, 39], dtype=int64),\n",
       "              'yaxis': 'y'},\n",
       "             {'alignmentgroup': 'True',\n",
       "              'hovertemplate': 'País=Cuba<br>Ano=%{x}<br>Contagem de Coletas=%{y}<extra></extra>',\n",
       "              'legendgroup': 'Cuba',\n",
       "              'marker': {'color': '#B6E880', 'pattern': {'shape': ''}},\n",
       "              'name': 'Cuba',\n",
       "              'offsetgroup': 'Cuba',\n",
       "              'orientation': 'v',\n",
       "              'showlegend': True,\n",
       "              'textposition': 'auto',\n",
       "              'type': 'bar',\n",
       "              'x': array(['2012'], dtype=object),\n",
       "              'xaxis': 'x',\n",
       "              'y': array([2], dtype=int64),\n",
       "              'yaxis': 'y'},\n",
       "             {'alignmentgroup': 'True',\n",
       "              'hovertemplate': 'País=Tajiquistão<br>Ano=%{x}<br>Contagem de Coletas=%{y}<extra></extra>',\n",
       "              'legendgroup': 'Tajiquistão',\n",
       "              'marker': {'color': '#FF97FF', 'pattern': {'shape': ''}},\n",
       "              'name': 'Tajiquistão',\n",
       "              'offsetgroup': 'Tajiquistão',\n",
       "              'orientation': 'v',\n",
       "              'showlegend': True,\n",
       "              'textposition': 'auto',\n",
       "              'type': 'bar',\n",
       "              'x': array(['2022'], dtype=object),\n",
       "              'xaxis': 'x',\n",
       "              'y': array([2], dtype=int64),\n",
       "              'yaxis': 'y'},\n",
       "             {'alignmentgroup': 'True',\n",
       "              'hovertemplate': 'País=Austrália<br>Ano=%{x}<br>Contagem de Coletas=%{y}<extra></extra>',\n",
       "              'legendgroup': 'Austrália',\n",
       "              'marker': {'color': '#FECB52', 'pattern': {'shape': ''}},\n",
       "              'name': 'Austrália',\n",
       "              'offsetgroup': 'Austrália',\n",
       "              'orientation': 'v',\n",
       "              'showlegend': True,\n",
       "              'textposition': 'auto',\n",
       "              'type': 'bar',\n",
       "              'x': array(['2013', '2020', '2022', '2021', '2019'], dtype=object),\n",
       "              'xaxis': 'x',\n",
       "              'y': array([ 2,  3,  7,  7, 98], dtype=int64),\n",
       "              'yaxis': 'y'},\n",
       "             {'alignmentgroup': 'True',\n",
       "              'hovertemplate': 'País=Bolívia<br>Ano=%{x}<br>Contagem de Coletas=%{y}<extra></extra>',\n",
       "              'legendgroup': 'Bolívia',\n",
       "              'marker': {'color': '#636efa', 'pattern': {'shape': ''}},\n",
       "              'name': 'Bolívia',\n",
       "              'offsetgroup': 'Bolívia',\n",
       "              'orientation': 'v',\n",
       "              'showlegend': True,\n",
       "              'textposition': 'auto',\n",
       "              'type': 'bar',\n",
       "              'x': array(['2017', '2014'], dtype=object),\n",
       "              'xaxis': 'x',\n",
       "              'y': array([3, 9], dtype=int64),\n",
       "              'yaxis': 'y'},\n",
       "             {'alignmentgroup': 'True',\n",
       "              'hovertemplate': 'País=Rússia<br>Ano=%{x}<br>Contagem de Coletas=%{y}<extra></extra>',\n",
       "              'legendgroup': 'Rússia',\n",
       "              'marker': {'color': '#EF553B', 'pattern': {'shape': ''}},\n",
       "              'name': 'Rússia',\n",
       "              'offsetgroup': 'Rússia',\n",
       "              'orientation': 'v',\n",
       "              'showlegend': True,\n",
       "              'textposition': 'auto',\n",
       "              'type': 'bar',\n",
       "              'x': array(['2019', '2020', '2018', '2022'], dtype=object),\n",
       "              'xaxis': 'x',\n",
       "              'y': array([  4,   6,  70, 129], dtype=int64),\n",
       "              'yaxis': 'y'},\n",
       "             {'alignmentgroup': 'True',\n",
       "              'hovertemplate': 'País=Peru<br>Ano=%{x}<br>Contagem de Coletas=%{y}<extra></extra>',\n",
       "              'legendgroup': 'Peru',\n",
       "              'marker': {'color': '#00cc96', 'pattern': {'shape': ''}},\n",
       "              'name': 'Peru',\n",
       "              'offsetgroup': 'Peru',\n",
       "              'orientation': 'v',\n",
       "              'showlegend': True,\n",
       "              'textposition': 'auto',\n",
       "              'type': 'bar',\n",
       "              'x': array(['2014'], dtype=object),\n",
       "              'xaxis': 'x',\n",
       "              'y': array([6], dtype=int64),\n",
       "              'yaxis': 'y'},\n",
       "             {'alignmentgroup': 'True',\n",
       "              'hovertemplate': 'País=Panamá<br>Ano=%{x}<br>Contagem de Coletas=%{y}<extra></extra>',\n",
       "              'legendgroup': 'Panamá',\n",
       "              'marker': {'color': '#ab63fa', 'pattern': {'shape': ''}},\n",
       "              'name': 'Panamá',\n",
       "              'offsetgroup': 'Panamá',\n",
       "              'orientation': 'v',\n",
       "              'showlegend': True,\n",
       "              'textposition': 'auto',\n",
       "              'type': 'bar',\n",
       "              'x': array(['2014'], dtype=object),\n",
       "              'xaxis': 'x',\n",
       "              'y': array([8], dtype=int64),\n",
       "              'yaxis': 'y'},\n",
       "             {'alignmentgroup': 'True',\n",
       "              'hovertemplate': 'País=Azerbaijão<br>Ano=%{x}<br>Contagem de Coletas=%{y}<extra></extra>',\n",
       "              'legendgroup': 'Azerbaijão',\n",
       "              'marker': {'color': '#FFA15A', 'pattern': {'shape': ''}},\n",
       "              'name': 'Azerbaijão',\n",
       "              'offsetgroup': 'Azerbaijão',\n",
       "              'orientation': 'v',\n",
       "              'showlegend': True,\n",
       "              'textposition': 'auto',\n",
       "              'type': 'bar',\n",
       "              'x': array(['2018'], dtype=object),\n",
       "              'xaxis': 'x',\n",
       "              'y': array([22], dtype=int64),\n",
       "              'yaxis': 'y'},\n",
       "             {'alignmentgroup': 'True',\n",
       "              'hovertemplate': 'País=Irã<br>Ano=%{x}<br>Contagem de Coletas=%{y}<extra></extra>',\n",
       "              'legendgroup': 'Irã',\n",
       "              'marker': {'color': '#19d3f3', 'pattern': {'shape': ''}},\n",
       "              'name': 'Irã',\n",
       "              'offsetgroup': 'Irã',\n",
       "              'orientation': 'v',\n",
       "              'showlegend': True,\n",
       "              'textposition': 'auto',\n",
       "              'type': 'bar',\n",
       "              'x': array(['2022'], dtype=object),\n",
       "              'xaxis': 'x',\n",
       "              'y': array([28], dtype=int64),\n",
       "              'yaxis': 'y'},\n",
       "             {'alignmentgroup': 'True',\n",
       "              'hovertemplate': 'País=Espanha<br>Ano=%{x}<br>Contagem de Coletas=%{y}<extra></extra>',\n",
       "              'legendgroup': 'Espanha',\n",
       "              'marker': {'color': '#FF6692', 'pattern': {'shape': ''}},\n",
       "              'name': 'Espanha',\n",
       "              'offsetgroup': 'Espanha',\n",
       "              'orientation': 'v',\n",
       "              'showlegend': True,\n",
       "              'textposition': 'auto',\n",
       "              'type': 'bar',\n",
       "              'x': array(['2008'], dtype=object),\n",
       "              'xaxis': 'x',\n",
       "              'y': array([86], dtype=int64),\n",
       "              'yaxis': 'y'}],\n",
       "    'layout': {'barmode': 'stack',\n",
       "               'legend': {'title': {'text': 'País'}, 'tracegroupgap': 0},\n",
       "               'template': '...',\n",
       "               'title': {'text': 'Contagem de Coletas por País (Empilhado por Ano)'},\n",
       "               'xaxis': {'anchor': 'y', 'domain': [0.0, 1.0], 'title': {'text': 'Ano'}},\n",
       "               'yaxis': {'anchor': 'x', 'domain': [0.0, 1.0], 'title': {'text': 'Contagem de Coletas'}}}\n",
       "})"
      ]
     },
     "execution_count": 36,
     "metadata": {},
     "output_type": "execute_result"
    }
   ],
   "source": [
    "\n",
    "barras_sem_brasil_dict = {}\n",
    "df_ano = df[df['country'] != 'Brasil']\n",
    "df_agrupado_cole = df_ano.groupby(['country', 'year']).size().reset_index(name='counts')\n",
    "df_agrupado = df_ano.groupby(['country', 'ano']).size().reset_index(name='counts')\n",
    "# Ordene os dados pelo ano\n",
    "df_agrupado_cole = df_agrupado_cole.sort_values(by='counts')\n",
    "df_agrupado = df_agrupado.sort_values(by='ano')\n",
    "\n",
    "# Crie o gráfico de barras empilhadas\n",
    "fig = px.bar(df_agrupado_cole, color='country', y='counts', x='year', title='Contagem de Coletas por País (Empilhado por Ano)',\n",
    "             labels={'counts': 'Contagem de Coletas', 'country': 'País', 'year': 'Ano'},\n",
    "             barmode='stack')\n",
    "fig2 = px.bar(df_agrupado, color='country', y='counts', x='ano', title='Contagem de Coletas por País (Empilhado por Ano)',\n",
    "             labels={'counts': 'Contagem de Coletas', 'country': 'País', 'year': 'Ano'},\n",
    "             barmode='stack')\n",
    "\n",
    "barras_sem_brasil_dict['ano'] = fig2\n",
    "barras_sem_brasil_dict['year'] = fig\n",
    "fig"
   ]
  },
  {
   "cell_type": "code",
   "execution_count": 19,
   "metadata": {},
   "outputs": [
    {
     "ename": "ValueError",
     "evalue": "Mime type rendering requires nbformat>=4.2.0 but it is not installed",
     "output_type": "error",
     "traceback": [
      "\u001b[1;31m---------------------------------------------------------------------------\u001b[0m",
      "\u001b[1;31mValueError\u001b[0m                                Traceback (most recent call last)",
      "File \u001b[1;32m~\\AppData\\Local\\Packages\\PythonSoftwareFoundation.Python.3.10_qbz5n2kfra8p0\\LocalCache\\local-packages\\Python310\\site-packages\\IPython\\core\\formatters.py:920\u001b[0m, in \u001b[0;36mIPythonDisplayFormatter.__call__\u001b[1;34m(self, obj)\u001b[0m\n\u001b[0;32m    918\u001b[0m method \u001b[38;5;241m=\u001b[39m get_real_method(obj, \u001b[38;5;28mself\u001b[39m\u001b[38;5;241m.\u001b[39mprint_method)\n\u001b[0;32m    919\u001b[0m \u001b[38;5;28;01mif\u001b[39;00m method \u001b[38;5;129;01mis\u001b[39;00m \u001b[38;5;129;01mnot\u001b[39;00m \u001b[38;5;28;01mNone\u001b[39;00m:\n\u001b[1;32m--> 920\u001b[0m     \u001b[43mmethod\u001b[49m\u001b[43m(\u001b[49m\u001b[43m)\u001b[49m\n\u001b[0;32m    921\u001b[0m     \u001b[38;5;28;01mreturn\u001b[39;00m \u001b[38;5;28;01mTrue\u001b[39;00m\n",
      "File \u001b[1;32m~\\AppData\\Local\\Packages\\PythonSoftwareFoundation.Python.3.10_qbz5n2kfra8p0\\LocalCache\\local-packages\\Python310\\site-packages\\plotly\\basedatatypes.py:832\u001b[0m, in \u001b[0;36mBaseFigure._ipython_display_\u001b[1;34m(self)\u001b[0m\n\u001b[0;32m    829\u001b[0m \u001b[38;5;28;01mimport\u001b[39;00m \u001b[38;5;21;01mplotly\u001b[39;00m\u001b[38;5;21;01m.\u001b[39;00m\u001b[38;5;21;01mio\u001b[39;00m \u001b[38;5;28;01mas\u001b[39;00m \u001b[38;5;21;01mpio\u001b[39;00m\n\u001b[0;32m    831\u001b[0m \u001b[38;5;28;01mif\u001b[39;00m pio\u001b[38;5;241m.\u001b[39mrenderers\u001b[38;5;241m.\u001b[39mrender_on_display \u001b[38;5;129;01mand\u001b[39;00m pio\u001b[38;5;241m.\u001b[39mrenderers\u001b[38;5;241m.\u001b[39mdefault:\n\u001b[1;32m--> 832\u001b[0m     \u001b[43mpio\u001b[49m\u001b[38;5;241;43m.\u001b[39;49m\u001b[43mshow\u001b[49m\u001b[43m(\u001b[49m\u001b[38;5;28;43mself\u001b[39;49m\u001b[43m)\u001b[49m\n\u001b[0;32m    833\u001b[0m \u001b[38;5;28;01melse\u001b[39;00m:\n\u001b[0;32m    834\u001b[0m     \u001b[38;5;28mprint\u001b[39m(\u001b[38;5;28mrepr\u001b[39m(\u001b[38;5;28mself\u001b[39m))\n",
      "File \u001b[1;32m~\\AppData\\Local\\Packages\\PythonSoftwareFoundation.Python.3.10_qbz5n2kfra8p0\\LocalCache\\local-packages\\Python310\\site-packages\\plotly\\io\\_renderers.py:394\u001b[0m, in \u001b[0;36mshow\u001b[1;34m(fig, renderer, validate, **kwargs)\u001b[0m\n\u001b[0;32m    389\u001b[0m         \u001b[38;5;28;01mraise\u001b[39;00m \u001b[38;5;167;01mValueError\u001b[39;00m(\n\u001b[0;32m    390\u001b[0m             \u001b[38;5;124m\"\u001b[39m\u001b[38;5;124mMime type rendering requires ipython but it is not installed\u001b[39m\u001b[38;5;124m\"\u001b[39m\n\u001b[0;32m    391\u001b[0m         )\n\u001b[0;32m    393\u001b[0m     \u001b[38;5;28;01mif\u001b[39;00m \u001b[38;5;129;01mnot\u001b[39;00m nbformat \u001b[38;5;129;01mor\u001b[39;00m Version(nbformat\u001b[38;5;241m.\u001b[39m__version__) \u001b[38;5;241m<\u001b[39m Version(\u001b[38;5;124m\"\u001b[39m\u001b[38;5;124m4.2.0\u001b[39m\u001b[38;5;124m\"\u001b[39m):\n\u001b[1;32m--> 394\u001b[0m         \u001b[38;5;28;01mraise\u001b[39;00m \u001b[38;5;167;01mValueError\u001b[39;00m(\n\u001b[0;32m    395\u001b[0m             \u001b[38;5;124m\"\u001b[39m\u001b[38;5;124mMime type rendering requires nbformat>=4.2.0 but it is not installed\u001b[39m\u001b[38;5;124m\"\u001b[39m\n\u001b[0;32m    396\u001b[0m         )\n\u001b[0;32m    398\u001b[0m     ipython_display\u001b[38;5;241m.\u001b[39mdisplay(bundle, raw\u001b[38;5;241m=\u001b[39m\u001b[38;5;28;01mTrue\u001b[39;00m)\n\u001b[0;32m    400\u001b[0m \u001b[38;5;66;03m# external renderers\u001b[39;00m\n",
      "\u001b[1;31mValueError\u001b[0m: Mime type rendering requires nbformat>=4.2.0 but it is not installed"
     ]
    },
    {
     "data": {
      "application/vnd.plotly.v1+json": {
       "config": {
        "plotlyServerURL": "https://plot.ly"
       },
       "data": [
        {
         "alignmentgroup": "True",
         "hovertemplate": "stateProvince=Bahia<br>ano=%{x}<br>Contagem de Coletas=%{y}<extra></extra>",
         "legendgroup": "Bahia",
         "marker": {
          "color": "#636efa",
          "pattern": {
           "shape": ""
          }
         },
         "name": "Bahia",
         "offsetgroup": "Bahia",
         "orientation": "v",
         "showlegend": true,
         "textposition": "auto",
         "type": "bar",
         "x": [
          2022,
          2021,
          2014,
          2023,
          2013,
          2019,
          2016,
          2017,
          2020
         ],
         "xaxis": "x",
         "y": [
          1,
          5,
          10,
          12,
          12,
          22,
          26,
          83,
          122
         ],
         "yaxis": "y"
        },
        {
         "alignmentgroup": "True",
         "hovertemplate": "stateProvince=Rio Grande do Sul<br>ano=%{x}<br>Contagem de Coletas=%{y}<extra></extra>",
         "legendgroup": "Rio Grande do Sul",
         "marker": {
          "color": "#EF553B",
          "pattern": {
           "shape": ""
          }
         },
         "name": "Rio Grande do Sul",
         "offsetgroup": "Rio Grande do Sul",
         "orientation": "v",
         "showlegend": true,
         "textposition": "auto",
         "type": "bar",
         "x": [
          2023,
          2020,
          2013,
          2014,
          2016,
          2012,
          2017
         ],
         "xaxis": "x",
         "y": [
          1,
          5,
          6,
          12,
          19,
          34,
          35
         ],
         "yaxis": "y"
        },
        {
         "alignmentgroup": "True",
         "hovertemplate": "stateProvince=Rio Grande do Norte<br>ano=%{x}<br>Contagem de Coletas=%{y}<extra></extra>",
         "legendgroup": "Rio Grande do Norte",
         "marker": {
          "color": "#00cc96",
          "pattern": {
           "shape": ""
          }
         },
         "name": "Rio Grande do Norte",
         "offsetgroup": "Rio Grande do Norte",
         "orientation": "v",
         "showlegend": true,
         "textposition": "auto",
         "type": "bar",
         "x": [
          2018,
          2020,
          2019,
          2017
         ],
         "xaxis": "x",
         "y": [
          1,
          3,
          4,
          44
         ],
         "yaxis": "y"
        },
        {
         "alignmentgroup": "True",
         "hovertemplate": "stateProvince=Pernambuco<br>ano=%{x}<br>Contagem de Coletas=%{y}<extra></extra>",
         "legendgroup": "Pernambuco",
         "marker": {
          "color": "#ab63fa",
          "pattern": {
           "shape": ""
          }
         },
         "name": "Pernambuco",
         "offsetgroup": "Pernambuco",
         "orientation": "v",
         "showlegend": true,
         "textposition": "auto",
         "type": "bar",
         "x": [
          2018,
          2020,
          2012,
          2014,
          2013,
          2017
         ],
         "xaxis": "x",
         "y": [
          1,
          6,
          12,
          15,
          36,
          43
         ],
         "yaxis": "y"
        },
        {
         "alignmentgroup": "True",
         "hovertemplate": "stateProvince=Pará<br>ano=%{x}<br>Contagem de Coletas=%{y}<extra></extra>",
         "legendgroup": "Pará",
         "marker": {
          "color": "#FFA15A",
          "pattern": {
           "shape": ""
          }
         },
         "name": "Pará",
         "offsetgroup": "Pará",
         "orientation": "v",
         "showlegend": true,
         "textposition": "auto",
         "type": "bar",
         "x": [
          2012,
          2021,
          2018,
          2023,
          2022,
          2016,
          2013,
          2015,
          2014,
          2017
         ],
         "xaxis": "x",
         "y": [
          1,
          4,
          12,
          17,
          19,
          70,
          76,
          84,
          85,
          118
         ],
         "yaxis": "y"
        },
        {
         "alignmentgroup": "True",
         "hovertemplate": "stateProvince=Paraíba<br>ano=%{x}<br>Contagem de Coletas=%{y}<extra></extra>",
         "legendgroup": "Paraíba",
         "marker": {
          "color": "#19d3f3",
          "pattern": {
           "shape": ""
          }
         },
         "name": "Paraíba",
         "offsetgroup": "Paraíba",
         "orientation": "v",
         "showlegend": true,
         "textposition": "auto",
         "type": "bar",
         "x": [
          2023,
          2013,
          2019,
          2022,
          2017
         ],
         "xaxis": "x",
         "y": [
          1,
          1,
          2,
          2,
          35
         ],
         "yaxis": "y"
        },
        {
         "alignmentgroup": "True",
         "hovertemplate": "stateProvince=Espírito Santo<br>ano=%{x}<br>Contagem de Coletas=%{y}<extra></extra>",
         "legendgroup": "Espírito Santo",
         "marker": {
          "color": "#FF6692",
          "pattern": {
           "shape": ""
          }
         },
         "name": "Espírito Santo",
         "offsetgroup": "Espírito Santo",
         "orientation": "v",
         "showlegend": true,
         "textposition": "auto",
         "type": "bar",
         "x": [
          2018,
          2021,
          2014,
          2016,
          2023,
          2013,
          2020,
          2017,
          2019,
          2022
         ],
         "xaxis": "x",
         "y": [
          1,
          1,
          4,
          11,
          12,
          15,
          37,
          52,
          105,
          130
         ],
         "yaxis": "y"
        },
        {
         "alignmentgroup": "True",
         "hovertemplate": "stateProvince=Rio de Janeiro<br>ano=%{x}<br>Contagem de Coletas=%{y}<extra></extra>",
         "legendgroup": "Rio de Janeiro",
         "marker": {
          "color": "#B6E880",
          "pattern": {
           "shape": ""
          }
         },
         "name": "Rio de Janeiro",
         "offsetgroup": "Rio de Janeiro",
         "orientation": "v",
         "showlegend": true,
         "textposition": "auto",
         "type": "bar",
         "x": [
          2012,
          2022,
          2023,
          2014,
          2015,
          2017,
          2019,
          2020,
          2016,
          2013
         ],
         "xaxis": "x",
         "y": [
          1,
          1,
          3,
          12,
          12,
          14,
          15,
          18,
          21,
          27
         ],
         "yaxis": "y"
        },
        {
         "alignmentgroup": "True",
         "hovertemplate": "stateProvince=Paraná<br>ano=%{x}<br>Contagem de Coletas=%{y}<extra></extra>",
         "legendgroup": "Paraná",
         "marker": {
          "color": "#FF97FF",
          "pattern": {
           "shape": ""
          }
         },
         "name": "Paraná",
         "offsetgroup": "Paraná",
         "orientation": "v",
         "showlegend": true,
         "textposition": "auto",
         "type": "bar",
         "x": [
          2019,
          2018,
          2016,
          2014,
          2013
         ],
         "xaxis": "x",
         "y": [
          1,
          1,
          1,
          4,
          42
         ],
         "yaxis": "y"
        },
        {
         "alignmentgroup": "True",
         "hovertemplate": "stateProvince=Maranhão<br>ano=%{x}<br>Contagem de Coletas=%{y}<extra></extra>",
         "legendgroup": "Maranhão",
         "marker": {
          "color": "#FECB52",
          "pattern": {
           "shape": ""
          }
         },
         "name": "Maranhão",
         "offsetgroup": "Maranhão",
         "orientation": "v",
         "showlegend": true,
         "textposition": "auto",
         "type": "bar",
         "x": [
          2013,
          2020,
          2023,
          2017
         ],
         "xaxis": "x",
         "y": [
          1,
          1,
          2,
          7
         ],
         "yaxis": "y"
        },
        {
         "alignmentgroup": "True",
         "hovertemplate": "stateProvince=Mato Grosso<br>ano=%{x}<br>Contagem de Coletas=%{y}<extra></extra>",
         "legendgroup": "Mato Grosso",
         "marker": {
          "color": "#636efa",
          "pattern": {
           "shape": ""
          }
         },
         "name": "Mato Grosso",
         "offsetgroup": "Mato Grosso",
         "orientation": "v",
         "showlegend": true,
         "textposition": "auto",
         "type": "bar",
         "x": [
          2019,
          2014,
          2016,
          2022
         ],
         "xaxis": "x",
         "y": [
          1,
          2,
          3,
          5
         ],
         "yaxis": "y"
        },
        {
         "alignmentgroup": "True",
         "hovertemplate": "stateProvince=Mato Grosso do Sul<br>ano=%{x}<br>Contagem de Coletas=%{y}<extra></extra>",
         "legendgroup": "Mato Grosso do Sul",
         "marker": {
          "color": "#EF553B",
          "pattern": {
           "shape": ""
          }
         },
         "name": "Mato Grosso do Sul",
         "offsetgroup": "Mato Grosso do Sul",
         "orientation": "v",
         "showlegend": true,
         "textposition": "auto",
         "type": "bar",
         "x": [
          2018,
          2023,
          2014
         ],
         "xaxis": "x",
         "y": [
          1,
          6,
          44
         ],
         "yaxis": "y"
        },
        {
         "alignmentgroup": "True",
         "hovertemplate": "stateProvince=Amazonas<br>ano=%{x}<br>Contagem de Coletas=%{y}<extra></extra>",
         "legendgroup": "Amazonas",
         "marker": {
          "color": "#00cc96",
          "pattern": {
           "shape": ""
          }
         },
         "name": "Amazonas",
         "offsetgroup": "Amazonas",
         "orientation": "v",
         "showlegend": true,
         "textposition": "auto",
         "type": "bar",
         "x": [
          2021,
          2015,
          2022,
          2014,
          2019,
          2012,
          2017,
          2013
         ],
         "xaxis": "x",
         "y": [
          1,
          2,
          3,
          5,
          7,
          18,
          35,
          55
         ],
         "yaxis": "y"
        },
        {
         "alignmentgroup": "True",
         "hovertemplate": "stateProvince=Acre<br>ano=%{x}<br>Contagem de Coletas=%{y}<extra></extra>",
         "legendgroup": "Acre",
         "marker": {
          "color": "#ab63fa",
          "pattern": {
           "shape": ""
          }
         },
         "name": "Acre",
         "offsetgroup": "Acre",
         "orientation": "v",
         "showlegend": true,
         "textposition": "auto",
         "type": "bar",
         "x": [
          2018,
          2023,
          2017,
          2014
         ],
         "xaxis": "x",
         "y": [
          1,
          1,
          2,
          4
         ],
         "yaxis": "y"
        },
        {
         "alignmentgroup": "True",
         "hovertemplate": "stateProvince=Santa Catarina<br>ano=%{x}<br>Contagem de Coletas=%{y}<extra></extra>",
         "legendgroup": "Santa Catarina",
         "marker": {
          "color": "#FFA15A",
          "pattern": {
           "shape": ""
          }
         },
         "name": "Santa Catarina",
         "offsetgroup": "Santa Catarina",
         "orientation": "v",
         "showlegend": true,
         "textposition": "auto",
         "type": "bar",
         "x": [
          2022,
          2019,
          2020,
          2014,
          2013,
          2016,
          2017
         ],
         "xaxis": "x",
         "y": [
          1,
          2,
          11,
          16,
          24,
          26,
          42
         ],
         "yaxis": "y"
        },
        {
         "alignmentgroup": "True",
         "hovertemplate": "stateProvince=Alagoas<br>ano=%{x}<br>Contagem de Coletas=%{y}<extra></extra>",
         "legendgroup": "Alagoas",
         "marker": {
          "color": "#19d3f3",
          "pattern": {
           "shape": ""
          }
         },
         "name": "Alagoas",
         "offsetgroup": "Alagoas",
         "orientation": "v",
         "showlegend": true,
         "textposition": "auto",
         "type": "bar",
         "x": [
          2020,
          2022,
          2019,
          2017
         ],
         "xaxis": "x",
         "y": [
          1,
          1,
          12,
          47
         ],
         "yaxis": "y"
        },
        {
         "alignmentgroup": "True",
         "hovertemplate": "stateProvince=Rondônia<br>ano=%{x}<br>Contagem de Coletas=%{y}<extra></extra>",
         "legendgroup": "Rondônia",
         "marker": {
          "color": "#FF6692",
          "pattern": {
           "shape": ""
          }
         },
         "name": "Rondônia",
         "offsetgroup": "Rondônia",
         "orientation": "v",
         "showlegend": true,
         "textposition": "auto",
         "type": "bar",
         "x": [
          2017,
          2022,
          2013,
          2019,
          2012
         ],
         "xaxis": "x",
         "y": [
          1,
          1,
          2,
          2,
          27
         ],
         "yaxis": "y"
        },
        {
         "alignmentgroup": "True",
         "hovertemplate": "stateProvince=Minas Gerais | São Paulo<br>ano=%{x}<br>Contagem de Coletas=%{y}<extra></extra>",
         "legendgroup": "Minas Gerais | São Paulo",
         "marker": {
          "color": "#B6E880",
          "pattern": {
           "shape": ""
          }
         },
         "name": "Minas Gerais | São Paulo",
         "offsetgroup": "Minas Gerais | São Paulo",
         "orientation": "v",
         "showlegend": true,
         "textposition": "auto",
         "type": "bar",
         "x": [
          2013
         ],
         "xaxis": "x",
         "y": [
          2
         ],
         "yaxis": "y"
        },
        {
         "alignmentgroup": "True",
         "hovertemplate": "stateProvince=Piauí<br>ano=%{x}<br>Contagem de Coletas=%{y}<extra></extra>",
         "legendgroup": "Piauí",
         "marker": {
          "color": "#FF97FF",
          "pattern": {
           "shape": ""
          }
         },
         "name": "Piauí",
         "offsetgroup": "Piauí",
         "orientation": "v",
         "showlegend": true,
         "textposition": "auto",
         "type": "bar",
         "x": [
          2019,
          2020,
          2023,
          2017
         ],
         "xaxis": "x",
         "y": [
          3,
          4,
          5,
          76
         ],
         "yaxis": "y"
        },
        {
         "alignmentgroup": "True",
         "hovertemplate": "stateProvince=Ceará<br>ano=%{x}<br>Contagem de Coletas=%{y}<extra></extra>",
         "legendgroup": "Ceará",
         "marker": {
          "color": "#FECB52",
          "pattern": {
           "shape": ""
          }
         },
         "name": "Ceará",
         "offsetgroup": "Ceará",
         "orientation": "v",
         "showlegend": true,
         "textposition": "auto",
         "type": "bar",
         "x": [
          2016,
          2017
         ],
         "xaxis": "x",
         "y": [
          3,
          46
         ],
         "yaxis": "y"
        },
        {
         "alignmentgroup": "True",
         "hovertemplate": "stateProvince=Sergipe<br>ano=%{x}<br>Contagem de Coletas=%{y}<extra></extra>",
         "legendgroup": "Sergipe",
         "marker": {
          "color": "#636efa",
          "pattern": {
           "shape": ""
          }
         },
         "name": "Sergipe",
         "offsetgroup": "Sergipe",
         "orientation": "v",
         "showlegend": true,
         "textposition": "auto",
         "type": "bar",
         "x": [
          2017,
          2020,
          2022
         ],
         "xaxis": "x",
         "y": [
          3,
          5,
          6
         ],
         "yaxis": "y"
        },
        {
         "alignmentgroup": "True",
         "hovertemplate": "stateProvince=São Paulo<br>ano=%{x}<br>Contagem de Coletas=%{y}<extra></extra>",
         "legendgroup": "São Paulo",
         "marker": {
          "color": "#EF553B",
          "pattern": {
           "shape": ""
          }
         },
         "name": "São Paulo",
         "offsetgroup": "São Paulo",
         "orientation": "v",
         "showlegend": true,
         "textposition": "auto",
         "type": "bar",
         "x": [
          2023,
          2021,
          2022,
          2014,
          2018,
          2020,
          2016,
          2019,
          2017,
          2013,
          2015,
          2012
         ],
         "xaxis": "x",
         "y": [
          4,
          8,
          8,
          13,
          15,
          34,
          48,
          75,
          132,
          209,
          333,
          390
         ],
         "yaxis": "y"
        },
        {
         "alignmentgroup": "True",
         "hovertemplate": "stateProvince=Minas Gerais<br>ano=%{x}<br>Contagem de Coletas=%{y}<extra></extra>",
         "legendgroup": "Minas Gerais",
         "marker": {
          "color": "#00cc96",
          "pattern": {
           "shape": ""
          }
         },
         "name": "Minas Gerais",
         "offsetgroup": "Minas Gerais",
         "orientation": "v",
         "showlegend": true,
         "textposition": "auto",
         "type": "bar",
         "x": [
          2012,
          2020,
          2021,
          2013,
          2023,
          2014,
          2018,
          2016,
          2015,
          2022,
          2019,
          2017
         ],
         "xaxis": "x",
         "y": [
          58,
          125,
          361,
          394,
          597,
          620,
          921,
          942,
          1080,
          1099,
          1788,
          3762
         ],
         "yaxis": "y"
        }
       ],
       "layout": {
        "barmode": "stack",
        "legend": {
         "title": {
          "text": "stateProvince"
         },
         "tracegroupgap": 0
        },
        "template": {
         "data": {
          "bar": [
           {
            "error_x": {
             "color": "#2a3f5f"
            },
            "error_y": {
             "color": "#2a3f5f"
            },
            "marker": {
             "line": {
              "color": "#E5ECF6",
              "width": 0.5
             },
             "pattern": {
              "fillmode": "overlay",
              "size": 10,
              "solidity": 0.2
             }
            },
            "type": "bar"
           }
          ],
          "barpolar": [
           {
            "marker": {
             "line": {
              "color": "#E5ECF6",
              "width": 0.5
             },
             "pattern": {
              "fillmode": "overlay",
              "size": 10,
              "solidity": 0.2
             }
            },
            "type": "barpolar"
           }
          ],
          "carpet": [
           {
            "aaxis": {
             "endlinecolor": "#2a3f5f",
             "gridcolor": "white",
             "linecolor": "white",
             "minorgridcolor": "white",
             "startlinecolor": "#2a3f5f"
            },
            "baxis": {
             "endlinecolor": "#2a3f5f",
             "gridcolor": "white",
             "linecolor": "white",
             "minorgridcolor": "white",
             "startlinecolor": "#2a3f5f"
            },
            "type": "carpet"
           }
          ],
          "choropleth": [
           {
            "colorbar": {
             "outlinewidth": 0,
             "ticks": ""
            },
            "type": "choropleth"
           }
          ],
          "contour": [
           {
            "colorbar": {
             "outlinewidth": 0,
             "ticks": ""
            },
            "colorscale": [
             [
              0,
              "#0d0887"
             ],
             [
              0.1111111111111111,
              "#46039f"
             ],
             [
              0.2222222222222222,
              "#7201a8"
             ],
             [
              0.3333333333333333,
              "#9c179e"
             ],
             [
              0.4444444444444444,
              "#bd3786"
             ],
             [
              0.5555555555555556,
              "#d8576b"
             ],
             [
              0.6666666666666666,
              "#ed7953"
             ],
             [
              0.7777777777777778,
              "#fb9f3a"
             ],
             [
              0.8888888888888888,
              "#fdca26"
             ],
             [
              1,
              "#f0f921"
             ]
            ],
            "type": "contour"
           }
          ],
          "contourcarpet": [
           {
            "colorbar": {
             "outlinewidth": 0,
             "ticks": ""
            },
            "type": "contourcarpet"
           }
          ],
          "heatmap": [
           {
            "colorbar": {
             "outlinewidth": 0,
             "ticks": ""
            },
            "colorscale": [
             [
              0,
              "#0d0887"
             ],
             [
              0.1111111111111111,
              "#46039f"
             ],
             [
              0.2222222222222222,
              "#7201a8"
             ],
             [
              0.3333333333333333,
              "#9c179e"
             ],
             [
              0.4444444444444444,
              "#bd3786"
             ],
             [
              0.5555555555555556,
              "#d8576b"
             ],
             [
              0.6666666666666666,
              "#ed7953"
             ],
             [
              0.7777777777777778,
              "#fb9f3a"
             ],
             [
              0.8888888888888888,
              "#fdca26"
             ],
             [
              1,
              "#f0f921"
             ]
            ],
            "type": "heatmap"
           }
          ],
          "heatmapgl": [
           {
            "colorbar": {
             "outlinewidth": 0,
             "ticks": ""
            },
            "colorscale": [
             [
              0,
              "#0d0887"
             ],
             [
              0.1111111111111111,
              "#46039f"
             ],
             [
              0.2222222222222222,
              "#7201a8"
             ],
             [
              0.3333333333333333,
              "#9c179e"
             ],
             [
              0.4444444444444444,
              "#bd3786"
             ],
             [
              0.5555555555555556,
              "#d8576b"
             ],
             [
              0.6666666666666666,
              "#ed7953"
             ],
             [
              0.7777777777777778,
              "#fb9f3a"
             ],
             [
              0.8888888888888888,
              "#fdca26"
             ],
             [
              1,
              "#f0f921"
             ]
            ],
            "type": "heatmapgl"
           }
          ],
          "histogram": [
           {
            "marker": {
             "pattern": {
              "fillmode": "overlay",
              "size": 10,
              "solidity": 0.2
             }
            },
            "type": "histogram"
           }
          ],
          "histogram2d": [
           {
            "colorbar": {
             "outlinewidth": 0,
             "ticks": ""
            },
            "colorscale": [
             [
              0,
              "#0d0887"
             ],
             [
              0.1111111111111111,
              "#46039f"
             ],
             [
              0.2222222222222222,
              "#7201a8"
             ],
             [
              0.3333333333333333,
              "#9c179e"
             ],
             [
              0.4444444444444444,
              "#bd3786"
             ],
             [
              0.5555555555555556,
              "#d8576b"
             ],
             [
              0.6666666666666666,
              "#ed7953"
             ],
             [
              0.7777777777777778,
              "#fb9f3a"
             ],
             [
              0.8888888888888888,
              "#fdca26"
             ],
             [
              1,
              "#f0f921"
             ]
            ],
            "type": "histogram2d"
           }
          ],
          "histogram2dcontour": [
           {
            "colorbar": {
             "outlinewidth": 0,
             "ticks": ""
            },
            "colorscale": [
             [
              0,
              "#0d0887"
             ],
             [
              0.1111111111111111,
              "#46039f"
             ],
             [
              0.2222222222222222,
              "#7201a8"
             ],
             [
              0.3333333333333333,
              "#9c179e"
             ],
             [
              0.4444444444444444,
              "#bd3786"
             ],
             [
              0.5555555555555556,
              "#d8576b"
             ],
             [
              0.6666666666666666,
              "#ed7953"
             ],
             [
              0.7777777777777778,
              "#fb9f3a"
             ],
             [
              0.8888888888888888,
              "#fdca26"
             ],
             [
              1,
              "#f0f921"
             ]
            ],
            "type": "histogram2dcontour"
           }
          ],
          "mesh3d": [
           {
            "colorbar": {
             "outlinewidth": 0,
             "ticks": ""
            },
            "type": "mesh3d"
           }
          ],
          "parcoords": [
           {
            "line": {
             "colorbar": {
              "outlinewidth": 0,
              "ticks": ""
             }
            },
            "type": "parcoords"
           }
          ],
          "pie": [
           {
            "automargin": true,
            "type": "pie"
           }
          ],
          "scatter": [
           {
            "fillpattern": {
             "fillmode": "overlay",
             "size": 10,
             "solidity": 0.2
            },
            "type": "scatter"
           }
          ],
          "scatter3d": [
           {
            "line": {
             "colorbar": {
              "outlinewidth": 0,
              "ticks": ""
             }
            },
            "marker": {
             "colorbar": {
              "outlinewidth": 0,
              "ticks": ""
             }
            },
            "type": "scatter3d"
           }
          ],
          "scattercarpet": [
           {
            "marker": {
             "colorbar": {
              "outlinewidth": 0,
              "ticks": ""
             }
            },
            "type": "scattercarpet"
           }
          ],
          "scattergeo": [
           {
            "marker": {
             "colorbar": {
              "outlinewidth": 0,
              "ticks": ""
             }
            },
            "type": "scattergeo"
           }
          ],
          "scattergl": [
           {
            "marker": {
             "colorbar": {
              "outlinewidth": 0,
              "ticks": ""
             }
            },
            "type": "scattergl"
           }
          ],
          "scattermapbox": [
           {
            "marker": {
             "colorbar": {
              "outlinewidth": 0,
              "ticks": ""
             }
            },
            "type": "scattermapbox"
           }
          ],
          "scatterpolar": [
           {
            "marker": {
             "colorbar": {
              "outlinewidth": 0,
              "ticks": ""
             }
            },
            "type": "scatterpolar"
           }
          ],
          "scatterpolargl": [
           {
            "marker": {
             "colorbar": {
              "outlinewidth": 0,
              "ticks": ""
             }
            },
            "type": "scatterpolargl"
           }
          ],
          "scatterternary": [
           {
            "marker": {
             "colorbar": {
              "outlinewidth": 0,
              "ticks": ""
             }
            },
            "type": "scatterternary"
           }
          ],
          "surface": [
           {
            "colorbar": {
             "outlinewidth": 0,
             "ticks": ""
            },
            "colorscale": [
             [
              0,
              "#0d0887"
             ],
             [
              0.1111111111111111,
              "#46039f"
             ],
             [
              0.2222222222222222,
              "#7201a8"
             ],
             [
              0.3333333333333333,
              "#9c179e"
             ],
             [
              0.4444444444444444,
              "#bd3786"
             ],
             [
              0.5555555555555556,
              "#d8576b"
             ],
             [
              0.6666666666666666,
              "#ed7953"
             ],
             [
              0.7777777777777778,
              "#fb9f3a"
             ],
             [
              0.8888888888888888,
              "#fdca26"
             ],
             [
              1,
              "#f0f921"
             ]
            ],
            "type": "surface"
           }
          ],
          "table": [
           {
            "cells": {
             "fill": {
              "color": "#EBF0F8"
             },
             "line": {
              "color": "white"
             }
            },
            "header": {
             "fill": {
              "color": "#C8D4E3"
             },
             "line": {
              "color": "white"
             }
            },
            "type": "table"
           }
          ]
         },
         "layout": {
          "annotationdefaults": {
           "arrowcolor": "#2a3f5f",
           "arrowhead": 0,
           "arrowwidth": 1
          },
          "autotypenumbers": "strict",
          "coloraxis": {
           "colorbar": {
            "outlinewidth": 0,
            "ticks": ""
           }
          },
          "colorscale": {
           "diverging": [
            [
             0,
             "#8e0152"
            ],
            [
             0.1,
             "#c51b7d"
            ],
            [
             0.2,
             "#de77ae"
            ],
            [
             0.3,
             "#f1b6da"
            ],
            [
             0.4,
             "#fde0ef"
            ],
            [
             0.5,
             "#f7f7f7"
            ],
            [
             0.6,
             "#e6f5d0"
            ],
            [
             0.7,
             "#b8e186"
            ],
            [
             0.8,
             "#7fbc41"
            ],
            [
             0.9,
             "#4d9221"
            ],
            [
             1,
             "#276419"
            ]
           ],
           "sequential": [
            [
             0,
             "#0d0887"
            ],
            [
             0.1111111111111111,
             "#46039f"
            ],
            [
             0.2222222222222222,
             "#7201a8"
            ],
            [
             0.3333333333333333,
             "#9c179e"
            ],
            [
             0.4444444444444444,
             "#bd3786"
            ],
            [
             0.5555555555555556,
             "#d8576b"
            ],
            [
             0.6666666666666666,
             "#ed7953"
            ],
            [
             0.7777777777777778,
             "#fb9f3a"
            ],
            [
             0.8888888888888888,
             "#fdca26"
            ],
            [
             1,
             "#f0f921"
            ]
           ],
           "sequentialminus": [
            [
             0,
             "#0d0887"
            ],
            [
             0.1111111111111111,
             "#46039f"
            ],
            [
             0.2222222222222222,
             "#7201a8"
            ],
            [
             0.3333333333333333,
             "#9c179e"
            ],
            [
             0.4444444444444444,
             "#bd3786"
            ],
            [
             0.5555555555555556,
             "#d8576b"
            ],
            [
             0.6666666666666666,
             "#ed7953"
            ],
            [
             0.7777777777777778,
             "#fb9f3a"
            ],
            [
             0.8888888888888888,
             "#fdca26"
            ],
            [
             1,
             "#f0f921"
            ]
           ]
          },
          "colorway": [
           "#636efa",
           "#EF553B",
           "#00cc96",
           "#ab63fa",
           "#FFA15A",
           "#19d3f3",
           "#FF6692",
           "#B6E880",
           "#FF97FF",
           "#FECB52"
          ],
          "font": {
           "color": "#2a3f5f"
          },
          "geo": {
           "bgcolor": "white",
           "lakecolor": "white",
           "landcolor": "#E5ECF6",
           "showlakes": true,
           "showland": true,
           "subunitcolor": "white"
          },
          "hoverlabel": {
           "align": "left"
          },
          "hovermode": "closest",
          "mapbox": {
           "style": "light"
          },
          "paper_bgcolor": "white",
          "plot_bgcolor": "#E5ECF6",
          "polar": {
           "angularaxis": {
            "gridcolor": "white",
            "linecolor": "white",
            "ticks": ""
           },
           "bgcolor": "#E5ECF6",
           "radialaxis": {
            "gridcolor": "white",
            "linecolor": "white",
            "ticks": ""
           }
          },
          "scene": {
           "xaxis": {
            "backgroundcolor": "#E5ECF6",
            "gridcolor": "white",
            "gridwidth": 2,
            "linecolor": "white",
            "showbackground": true,
            "ticks": "",
            "zerolinecolor": "white"
           },
           "yaxis": {
            "backgroundcolor": "#E5ECF6",
            "gridcolor": "white",
            "gridwidth": 2,
            "linecolor": "white",
            "showbackground": true,
            "ticks": "",
            "zerolinecolor": "white"
           },
           "zaxis": {
            "backgroundcolor": "#E5ECF6",
            "gridcolor": "white",
            "gridwidth": 2,
            "linecolor": "white",
            "showbackground": true,
            "ticks": "",
            "zerolinecolor": "white"
           }
          },
          "shapedefaults": {
           "line": {
            "color": "#2a3f5f"
           }
          },
          "ternary": {
           "aaxis": {
            "gridcolor": "white",
            "linecolor": "white",
            "ticks": ""
           },
           "baxis": {
            "gridcolor": "white",
            "linecolor": "white",
            "ticks": ""
           },
           "bgcolor": "#E5ECF6",
           "caxis": {
            "gridcolor": "white",
            "linecolor": "white",
            "ticks": ""
           }
          },
          "title": {
           "x": 0.05
          },
          "xaxis": {
           "automargin": true,
           "gridcolor": "white",
           "linecolor": "white",
           "ticks": "",
           "title": {
            "standoff": 15
           },
           "zerolinecolor": "white",
           "zerolinewidth": 2
          },
          "yaxis": {
           "automargin": true,
           "gridcolor": "white",
           "linecolor": "white",
           "ticks": "",
           "title": {
            "standoff": 15
           },
           "zerolinecolor": "white",
           "zerolinewidth": 2
          }
         }
        },
        "title": {
         "text": "Contagem de Coletas por País (Empilhado por Ano)"
        },
        "xaxis": {
         "anchor": "y",
         "domain": [
          0,
          1
         ],
         "title": {
          "text": "ano"
         }
        },
        "yaxis": {
         "anchor": "x",
         "domain": [
          0,
          1
         ],
         "title": {
          "text": "Contagem de Coletas"
         }
        }
       }
      },
      "text/html": [
       "<div>                        <script type=\"text/javascript\">window.PlotlyConfig = {MathJaxConfig: 'local'};</script>\n",
       "        <script charset=\"utf-8\" src=\"https://cdn.plot.ly/plotly-2.32.0.min.js\"></script>                <div id=\"f9734b9e-8836-4379-bba0-e7717001f1a3\" class=\"plotly-graph-div\" style=\"height:100%; width:100%;\"></div>            <script type=\"text/javascript\">                                    window.PLOTLYENV=window.PLOTLYENV || {};                                    if (document.getElementById(\"f9734b9e-8836-4379-bba0-e7717001f1a3\")) {                    Plotly.newPlot(                        \"f9734b9e-8836-4379-bba0-e7717001f1a3\",                        [{\"alignmentgroup\":\"True\",\"hovertemplate\":\"stateProvince=Bahia\\u003cbr\\u003eano=%{x}\\u003cbr\\u003eContagem de Coletas=%{y}\\u003cextra\\u003e\\u003c\\u002fextra\\u003e\",\"legendgroup\":\"Bahia\",\"marker\":{\"color\":\"#636efa\",\"pattern\":{\"shape\":\"\"}},\"name\":\"Bahia\",\"offsetgroup\":\"Bahia\",\"orientation\":\"v\",\"showlegend\":true,\"textposition\":\"auto\",\"x\":[2022,2021,2014,2023,2013,2019,2016,2017,2020],\"xaxis\":\"x\",\"y\":[1,5,10,12,12,22,26,83,122],\"yaxis\":\"y\",\"type\":\"bar\"},{\"alignmentgroup\":\"True\",\"hovertemplate\":\"stateProvince=Rio Grande do Sul\\u003cbr\\u003eano=%{x}\\u003cbr\\u003eContagem de Coletas=%{y}\\u003cextra\\u003e\\u003c\\u002fextra\\u003e\",\"legendgroup\":\"Rio Grande do Sul\",\"marker\":{\"color\":\"#EF553B\",\"pattern\":{\"shape\":\"\"}},\"name\":\"Rio Grande do Sul\",\"offsetgroup\":\"Rio Grande do Sul\",\"orientation\":\"v\",\"showlegend\":true,\"textposition\":\"auto\",\"x\":[2023,2020,2013,2014,2016,2012,2017],\"xaxis\":\"x\",\"y\":[1,5,6,12,19,34,35],\"yaxis\":\"y\",\"type\":\"bar\"},{\"alignmentgroup\":\"True\",\"hovertemplate\":\"stateProvince=Rio Grande do Norte\\u003cbr\\u003eano=%{x}\\u003cbr\\u003eContagem de Coletas=%{y}\\u003cextra\\u003e\\u003c\\u002fextra\\u003e\",\"legendgroup\":\"Rio Grande do Norte\",\"marker\":{\"color\":\"#00cc96\",\"pattern\":{\"shape\":\"\"}},\"name\":\"Rio Grande do Norte\",\"offsetgroup\":\"Rio Grande do Norte\",\"orientation\":\"v\",\"showlegend\":true,\"textposition\":\"auto\",\"x\":[2018,2020,2019,2017],\"xaxis\":\"x\",\"y\":[1,3,4,44],\"yaxis\":\"y\",\"type\":\"bar\"},{\"alignmentgroup\":\"True\",\"hovertemplate\":\"stateProvince=Pernambuco\\u003cbr\\u003eano=%{x}\\u003cbr\\u003eContagem de Coletas=%{y}\\u003cextra\\u003e\\u003c\\u002fextra\\u003e\",\"legendgroup\":\"Pernambuco\",\"marker\":{\"color\":\"#ab63fa\",\"pattern\":{\"shape\":\"\"}},\"name\":\"Pernambuco\",\"offsetgroup\":\"Pernambuco\",\"orientation\":\"v\",\"showlegend\":true,\"textposition\":\"auto\",\"x\":[2018,2020,2012,2014,2013,2017],\"xaxis\":\"x\",\"y\":[1,6,12,15,36,43],\"yaxis\":\"y\",\"type\":\"bar\"},{\"alignmentgroup\":\"True\",\"hovertemplate\":\"stateProvince=Par\\u00e1\\u003cbr\\u003eano=%{x}\\u003cbr\\u003eContagem de Coletas=%{y}\\u003cextra\\u003e\\u003c\\u002fextra\\u003e\",\"legendgroup\":\"Par\\u00e1\",\"marker\":{\"color\":\"#FFA15A\",\"pattern\":{\"shape\":\"\"}},\"name\":\"Par\\u00e1\",\"offsetgroup\":\"Par\\u00e1\",\"orientation\":\"v\",\"showlegend\":true,\"textposition\":\"auto\",\"x\":[2012,2021,2018,2023,2022,2016,2013,2015,2014,2017],\"xaxis\":\"x\",\"y\":[1,4,12,17,19,70,76,84,85,118],\"yaxis\":\"y\",\"type\":\"bar\"},{\"alignmentgroup\":\"True\",\"hovertemplate\":\"stateProvince=Para\\u00edba\\u003cbr\\u003eano=%{x}\\u003cbr\\u003eContagem de Coletas=%{y}\\u003cextra\\u003e\\u003c\\u002fextra\\u003e\",\"legendgroup\":\"Para\\u00edba\",\"marker\":{\"color\":\"#19d3f3\",\"pattern\":{\"shape\":\"\"}},\"name\":\"Para\\u00edba\",\"offsetgroup\":\"Para\\u00edba\",\"orientation\":\"v\",\"showlegend\":true,\"textposition\":\"auto\",\"x\":[2023,2013,2019,2022,2017],\"xaxis\":\"x\",\"y\":[1,1,2,2,35],\"yaxis\":\"y\",\"type\":\"bar\"},{\"alignmentgroup\":\"True\",\"hovertemplate\":\"stateProvince=Esp\\u00edrito Santo\\u003cbr\\u003eano=%{x}\\u003cbr\\u003eContagem de Coletas=%{y}\\u003cextra\\u003e\\u003c\\u002fextra\\u003e\",\"legendgroup\":\"Esp\\u00edrito Santo\",\"marker\":{\"color\":\"#FF6692\",\"pattern\":{\"shape\":\"\"}},\"name\":\"Esp\\u00edrito Santo\",\"offsetgroup\":\"Esp\\u00edrito Santo\",\"orientation\":\"v\",\"showlegend\":true,\"textposition\":\"auto\",\"x\":[2018,2021,2014,2016,2023,2013,2020,2017,2019,2022],\"xaxis\":\"x\",\"y\":[1,1,4,11,12,15,37,52,105,130],\"yaxis\":\"y\",\"type\":\"bar\"},{\"alignmentgroup\":\"True\",\"hovertemplate\":\"stateProvince=Rio de Janeiro\\u003cbr\\u003eano=%{x}\\u003cbr\\u003eContagem de Coletas=%{y}\\u003cextra\\u003e\\u003c\\u002fextra\\u003e\",\"legendgroup\":\"Rio de Janeiro\",\"marker\":{\"color\":\"#B6E880\",\"pattern\":{\"shape\":\"\"}},\"name\":\"Rio de Janeiro\",\"offsetgroup\":\"Rio de Janeiro\",\"orientation\":\"v\",\"showlegend\":true,\"textposition\":\"auto\",\"x\":[2012,2022,2023,2014,2015,2017,2019,2020,2016,2013],\"xaxis\":\"x\",\"y\":[1,1,3,12,12,14,15,18,21,27],\"yaxis\":\"y\",\"type\":\"bar\"},{\"alignmentgroup\":\"True\",\"hovertemplate\":\"stateProvince=Paran\\u00e1\\u003cbr\\u003eano=%{x}\\u003cbr\\u003eContagem de Coletas=%{y}\\u003cextra\\u003e\\u003c\\u002fextra\\u003e\",\"legendgroup\":\"Paran\\u00e1\",\"marker\":{\"color\":\"#FF97FF\",\"pattern\":{\"shape\":\"\"}},\"name\":\"Paran\\u00e1\",\"offsetgroup\":\"Paran\\u00e1\",\"orientation\":\"v\",\"showlegend\":true,\"textposition\":\"auto\",\"x\":[2019,2018,2016,2014,2013],\"xaxis\":\"x\",\"y\":[1,1,1,4,42],\"yaxis\":\"y\",\"type\":\"bar\"},{\"alignmentgroup\":\"True\",\"hovertemplate\":\"stateProvince=Maranh\\u00e3o\\u003cbr\\u003eano=%{x}\\u003cbr\\u003eContagem de Coletas=%{y}\\u003cextra\\u003e\\u003c\\u002fextra\\u003e\",\"legendgroup\":\"Maranh\\u00e3o\",\"marker\":{\"color\":\"#FECB52\",\"pattern\":{\"shape\":\"\"}},\"name\":\"Maranh\\u00e3o\",\"offsetgroup\":\"Maranh\\u00e3o\",\"orientation\":\"v\",\"showlegend\":true,\"textposition\":\"auto\",\"x\":[2013,2020,2023,2017],\"xaxis\":\"x\",\"y\":[1,1,2,7],\"yaxis\":\"y\",\"type\":\"bar\"},{\"alignmentgroup\":\"True\",\"hovertemplate\":\"stateProvince=Mato Grosso\\u003cbr\\u003eano=%{x}\\u003cbr\\u003eContagem de Coletas=%{y}\\u003cextra\\u003e\\u003c\\u002fextra\\u003e\",\"legendgroup\":\"Mato Grosso\",\"marker\":{\"color\":\"#636efa\",\"pattern\":{\"shape\":\"\"}},\"name\":\"Mato Grosso\",\"offsetgroup\":\"Mato Grosso\",\"orientation\":\"v\",\"showlegend\":true,\"textposition\":\"auto\",\"x\":[2019,2014,2016,2022],\"xaxis\":\"x\",\"y\":[1,2,3,5],\"yaxis\":\"y\",\"type\":\"bar\"},{\"alignmentgroup\":\"True\",\"hovertemplate\":\"stateProvince=Mato Grosso do Sul\\u003cbr\\u003eano=%{x}\\u003cbr\\u003eContagem de Coletas=%{y}\\u003cextra\\u003e\\u003c\\u002fextra\\u003e\",\"legendgroup\":\"Mato Grosso do Sul\",\"marker\":{\"color\":\"#EF553B\",\"pattern\":{\"shape\":\"\"}},\"name\":\"Mato Grosso do Sul\",\"offsetgroup\":\"Mato Grosso do Sul\",\"orientation\":\"v\",\"showlegend\":true,\"textposition\":\"auto\",\"x\":[2018,2023,2014],\"xaxis\":\"x\",\"y\":[1,6,44],\"yaxis\":\"y\",\"type\":\"bar\"},{\"alignmentgroup\":\"True\",\"hovertemplate\":\"stateProvince=Amazonas\\u003cbr\\u003eano=%{x}\\u003cbr\\u003eContagem de Coletas=%{y}\\u003cextra\\u003e\\u003c\\u002fextra\\u003e\",\"legendgroup\":\"Amazonas\",\"marker\":{\"color\":\"#00cc96\",\"pattern\":{\"shape\":\"\"}},\"name\":\"Amazonas\",\"offsetgroup\":\"Amazonas\",\"orientation\":\"v\",\"showlegend\":true,\"textposition\":\"auto\",\"x\":[2021,2015,2022,2014,2019,2012,2017,2013],\"xaxis\":\"x\",\"y\":[1,2,3,5,7,18,35,55],\"yaxis\":\"y\",\"type\":\"bar\"},{\"alignmentgroup\":\"True\",\"hovertemplate\":\"stateProvince=Acre\\u003cbr\\u003eano=%{x}\\u003cbr\\u003eContagem de Coletas=%{y}\\u003cextra\\u003e\\u003c\\u002fextra\\u003e\",\"legendgroup\":\"Acre\",\"marker\":{\"color\":\"#ab63fa\",\"pattern\":{\"shape\":\"\"}},\"name\":\"Acre\",\"offsetgroup\":\"Acre\",\"orientation\":\"v\",\"showlegend\":true,\"textposition\":\"auto\",\"x\":[2018,2023,2017,2014],\"xaxis\":\"x\",\"y\":[1,1,2,4],\"yaxis\":\"y\",\"type\":\"bar\"},{\"alignmentgroup\":\"True\",\"hovertemplate\":\"stateProvince=Santa Catarina\\u003cbr\\u003eano=%{x}\\u003cbr\\u003eContagem de Coletas=%{y}\\u003cextra\\u003e\\u003c\\u002fextra\\u003e\",\"legendgroup\":\"Santa Catarina\",\"marker\":{\"color\":\"#FFA15A\",\"pattern\":{\"shape\":\"\"}},\"name\":\"Santa Catarina\",\"offsetgroup\":\"Santa Catarina\",\"orientation\":\"v\",\"showlegend\":true,\"textposition\":\"auto\",\"x\":[2022,2019,2020,2014,2013,2016,2017],\"xaxis\":\"x\",\"y\":[1,2,11,16,24,26,42],\"yaxis\":\"y\",\"type\":\"bar\"},{\"alignmentgroup\":\"True\",\"hovertemplate\":\"stateProvince=Alagoas\\u003cbr\\u003eano=%{x}\\u003cbr\\u003eContagem de Coletas=%{y}\\u003cextra\\u003e\\u003c\\u002fextra\\u003e\",\"legendgroup\":\"Alagoas\",\"marker\":{\"color\":\"#19d3f3\",\"pattern\":{\"shape\":\"\"}},\"name\":\"Alagoas\",\"offsetgroup\":\"Alagoas\",\"orientation\":\"v\",\"showlegend\":true,\"textposition\":\"auto\",\"x\":[2020,2022,2019,2017],\"xaxis\":\"x\",\"y\":[1,1,12,47],\"yaxis\":\"y\",\"type\":\"bar\"},{\"alignmentgroup\":\"True\",\"hovertemplate\":\"stateProvince=Rond\\u00f4nia\\u003cbr\\u003eano=%{x}\\u003cbr\\u003eContagem de Coletas=%{y}\\u003cextra\\u003e\\u003c\\u002fextra\\u003e\",\"legendgroup\":\"Rond\\u00f4nia\",\"marker\":{\"color\":\"#FF6692\",\"pattern\":{\"shape\":\"\"}},\"name\":\"Rond\\u00f4nia\",\"offsetgroup\":\"Rond\\u00f4nia\",\"orientation\":\"v\",\"showlegend\":true,\"textposition\":\"auto\",\"x\":[2017,2022,2013,2019,2012],\"xaxis\":\"x\",\"y\":[1,1,2,2,27],\"yaxis\":\"y\",\"type\":\"bar\"},{\"alignmentgroup\":\"True\",\"hovertemplate\":\"stateProvince=Minas Gerais | S\\u00e3o Paulo\\u003cbr\\u003eano=%{x}\\u003cbr\\u003eContagem de Coletas=%{y}\\u003cextra\\u003e\\u003c\\u002fextra\\u003e\",\"legendgroup\":\"Minas Gerais | S\\u00e3o Paulo\",\"marker\":{\"color\":\"#B6E880\",\"pattern\":{\"shape\":\"\"}},\"name\":\"Minas Gerais | S\\u00e3o Paulo\",\"offsetgroup\":\"Minas Gerais | S\\u00e3o Paulo\",\"orientation\":\"v\",\"showlegend\":true,\"textposition\":\"auto\",\"x\":[2013],\"xaxis\":\"x\",\"y\":[2],\"yaxis\":\"y\",\"type\":\"bar\"},{\"alignmentgroup\":\"True\",\"hovertemplate\":\"stateProvince=Piau\\u00ed\\u003cbr\\u003eano=%{x}\\u003cbr\\u003eContagem de Coletas=%{y}\\u003cextra\\u003e\\u003c\\u002fextra\\u003e\",\"legendgroup\":\"Piau\\u00ed\",\"marker\":{\"color\":\"#FF97FF\",\"pattern\":{\"shape\":\"\"}},\"name\":\"Piau\\u00ed\",\"offsetgroup\":\"Piau\\u00ed\",\"orientation\":\"v\",\"showlegend\":true,\"textposition\":\"auto\",\"x\":[2019,2020,2023,2017],\"xaxis\":\"x\",\"y\":[3,4,5,76],\"yaxis\":\"y\",\"type\":\"bar\"},{\"alignmentgroup\":\"True\",\"hovertemplate\":\"stateProvince=Cear\\u00e1\\u003cbr\\u003eano=%{x}\\u003cbr\\u003eContagem de Coletas=%{y}\\u003cextra\\u003e\\u003c\\u002fextra\\u003e\",\"legendgroup\":\"Cear\\u00e1\",\"marker\":{\"color\":\"#FECB52\",\"pattern\":{\"shape\":\"\"}},\"name\":\"Cear\\u00e1\",\"offsetgroup\":\"Cear\\u00e1\",\"orientation\":\"v\",\"showlegend\":true,\"textposition\":\"auto\",\"x\":[2016,2017],\"xaxis\":\"x\",\"y\":[3,46],\"yaxis\":\"y\",\"type\":\"bar\"},{\"alignmentgroup\":\"True\",\"hovertemplate\":\"stateProvince=Sergipe\\u003cbr\\u003eano=%{x}\\u003cbr\\u003eContagem de Coletas=%{y}\\u003cextra\\u003e\\u003c\\u002fextra\\u003e\",\"legendgroup\":\"Sergipe\",\"marker\":{\"color\":\"#636efa\",\"pattern\":{\"shape\":\"\"}},\"name\":\"Sergipe\",\"offsetgroup\":\"Sergipe\",\"orientation\":\"v\",\"showlegend\":true,\"textposition\":\"auto\",\"x\":[2017,2020,2022],\"xaxis\":\"x\",\"y\":[3,5,6],\"yaxis\":\"y\",\"type\":\"bar\"},{\"alignmentgroup\":\"True\",\"hovertemplate\":\"stateProvince=S\\u00e3o Paulo\\u003cbr\\u003eano=%{x}\\u003cbr\\u003eContagem de Coletas=%{y}\\u003cextra\\u003e\\u003c\\u002fextra\\u003e\",\"legendgroup\":\"S\\u00e3o Paulo\",\"marker\":{\"color\":\"#EF553B\",\"pattern\":{\"shape\":\"\"}},\"name\":\"S\\u00e3o Paulo\",\"offsetgroup\":\"S\\u00e3o Paulo\",\"orientation\":\"v\",\"showlegend\":true,\"textposition\":\"auto\",\"x\":[2023,2021,2022,2014,2018,2020,2016,2019,2017,2013,2015,2012],\"xaxis\":\"x\",\"y\":[4,8,8,13,15,34,48,75,132,209,333,390],\"yaxis\":\"y\",\"type\":\"bar\"},{\"alignmentgroup\":\"True\",\"hovertemplate\":\"stateProvince=Minas Gerais\\u003cbr\\u003eano=%{x}\\u003cbr\\u003eContagem de Coletas=%{y}\\u003cextra\\u003e\\u003c\\u002fextra\\u003e\",\"legendgroup\":\"Minas Gerais\",\"marker\":{\"color\":\"#00cc96\",\"pattern\":{\"shape\":\"\"}},\"name\":\"Minas Gerais\",\"offsetgroup\":\"Minas Gerais\",\"orientation\":\"v\",\"showlegend\":true,\"textposition\":\"auto\",\"x\":[2012,2020,2021,2013,2023,2014,2018,2016,2015,2022,2019,2017],\"xaxis\":\"x\",\"y\":[58,125,361,394,597,620,921,942,1080,1099,1788,3762],\"yaxis\":\"y\",\"type\":\"bar\"}],                        {\"template\":{\"data\":{\"histogram2dcontour\":[{\"type\":\"histogram2dcontour\",\"colorbar\":{\"outlinewidth\":0,\"ticks\":\"\"},\"colorscale\":[[0.0,\"#0d0887\"],[0.1111111111111111,\"#46039f\"],[0.2222222222222222,\"#7201a8\"],[0.3333333333333333,\"#9c179e\"],[0.4444444444444444,\"#bd3786\"],[0.5555555555555556,\"#d8576b\"],[0.6666666666666666,\"#ed7953\"],[0.7777777777777778,\"#fb9f3a\"],[0.8888888888888888,\"#fdca26\"],[1.0,\"#f0f921\"]]}],\"choropleth\":[{\"type\":\"choropleth\",\"colorbar\":{\"outlinewidth\":0,\"ticks\":\"\"}}],\"histogram2d\":[{\"type\":\"histogram2d\",\"colorbar\":{\"outlinewidth\":0,\"ticks\":\"\"},\"colorscale\":[[0.0,\"#0d0887\"],[0.1111111111111111,\"#46039f\"],[0.2222222222222222,\"#7201a8\"],[0.3333333333333333,\"#9c179e\"],[0.4444444444444444,\"#bd3786\"],[0.5555555555555556,\"#d8576b\"],[0.6666666666666666,\"#ed7953\"],[0.7777777777777778,\"#fb9f3a\"],[0.8888888888888888,\"#fdca26\"],[1.0,\"#f0f921\"]]}],\"heatmap\":[{\"type\":\"heatmap\",\"colorbar\":{\"outlinewidth\":0,\"ticks\":\"\"},\"colorscale\":[[0.0,\"#0d0887\"],[0.1111111111111111,\"#46039f\"],[0.2222222222222222,\"#7201a8\"],[0.3333333333333333,\"#9c179e\"],[0.4444444444444444,\"#bd3786\"],[0.5555555555555556,\"#d8576b\"],[0.6666666666666666,\"#ed7953\"],[0.7777777777777778,\"#fb9f3a\"],[0.8888888888888888,\"#fdca26\"],[1.0,\"#f0f921\"]]}],\"heatmapgl\":[{\"type\":\"heatmapgl\",\"colorbar\":{\"outlinewidth\":0,\"ticks\":\"\"},\"colorscale\":[[0.0,\"#0d0887\"],[0.1111111111111111,\"#46039f\"],[0.2222222222222222,\"#7201a8\"],[0.3333333333333333,\"#9c179e\"],[0.4444444444444444,\"#bd3786\"],[0.5555555555555556,\"#d8576b\"],[0.6666666666666666,\"#ed7953\"],[0.7777777777777778,\"#fb9f3a\"],[0.8888888888888888,\"#fdca26\"],[1.0,\"#f0f921\"]]}],\"contourcarpet\":[{\"type\":\"contourcarpet\",\"colorbar\":{\"outlinewidth\":0,\"ticks\":\"\"}}],\"contour\":[{\"type\":\"contour\",\"colorbar\":{\"outlinewidth\":0,\"ticks\":\"\"},\"colorscale\":[[0.0,\"#0d0887\"],[0.1111111111111111,\"#46039f\"],[0.2222222222222222,\"#7201a8\"],[0.3333333333333333,\"#9c179e\"],[0.4444444444444444,\"#bd3786\"],[0.5555555555555556,\"#d8576b\"],[0.6666666666666666,\"#ed7953\"],[0.7777777777777778,\"#fb9f3a\"],[0.8888888888888888,\"#fdca26\"],[1.0,\"#f0f921\"]]}],\"surface\":[{\"type\":\"surface\",\"colorbar\":{\"outlinewidth\":0,\"ticks\":\"\"},\"colorscale\":[[0.0,\"#0d0887\"],[0.1111111111111111,\"#46039f\"],[0.2222222222222222,\"#7201a8\"],[0.3333333333333333,\"#9c179e\"],[0.4444444444444444,\"#bd3786\"],[0.5555555555555556,\"#d8576b\"],[0.6666666666666666,\"#ed7953\"],[0.7777777777777778,\"#fb9f3a\"],[0.8888888888888888,\"#fdca26\"],[1.0,\"#f0f921\"]]}],\"mesh3d\":[{\"type\":\"mesh3d\",\"colorbar\":{\"outlinewidth\":0,\"ticks\":\"\"}}],\"scatter\":[{\"fillpattern\":{\"fillmode\":\"overlay\",\"size\":10,\"solidity\":0.2},\"type\":\"scatter\"}],\"parcoords\":[{\"type\":\"parcoords\",\"line\":{\"colorbar\":{\"outlinewidth\":0,\"ticks\":\"\"}}}],\"scatterpolargl\":[{\"type\":\"scatterpolargl\",\"marker\":{\"colorbar\":{\"outlinewidth\":0,\"ticks\":\"\"}}}],\"bar\":[{\"error_x\":{\"color\":\"#2a3f5f\"},\"error_y\":{\"color\":\"#2a3f5f\"},\"marker\":{\"line\":{\"color\":\"#E5ECF6\",\"width\":0.5},\"pattern\":{\"fillmode\":\"overlay\",\"size\":10,\"solidity\":0.2}},\"type\":\"bar\"}],\"scattergeo\":[{\"type\":\"scattergeo\",\"marker\":{\"colorbar\":{\"outlinewidth\":0,\"ticks\":\"\"}}}],\"scatterpolar\":[{\"type\":\"scatterpolar\",\"marker\":{\"colorbar\":{\"outlinewidth\":0,\"ticks\":\"\"}}}],\"histogram\":[{\"marker\":{\"pattern\":{\"fillmode\":\"overlay\",\"size\":10,\"solidity\":0.2}},\"type\":\"histogram\"}],\"scattergl\":[{\"type\":\"scattergl\",\"marker\":{\"colorbar\":{\"outlinewidth\":0,\"ticks\":\"\"}}}],\"scatter3d\":[{\"type\":\"scatter3d\",\"line\":{\"colorbar\":{\"outlinewidth\":0,\"ticks\":\"\"}},\"marker\":{\"colorbar\":{\"outlinewidth\":0,\"ticks\":\"\"}}}],\"scattermapbox\":[{\"type\":\"scattermapbox\",\"marker\":{\"colorbar\":{\"outlinewidth\":0,\"ticks\":\"\"}}}],\"scatterternary\":[{\"type\":\"scatterternary\",\"marker\":{\"colorbar\":{\"outlinewidth\":0,\"ticks\":\"\"}}}],\"scattercarpet\":[{\"type\":\"scattercarpet\",\"marker\":{\"colorbar\":{\"outlinewidth\":0,\"ticks\":\"\"}}}],\"carpet\":[{\"aaxis\":{\"endlinecolor\":\"#2a3f5f\",\"gridcolor\":\"white\",\"linecolor\":\"white\",\"minorgridcolor\":\"white\",\"startlinecolor\":\"#2a3f5f\"},\"baxis\":{\"endlinecolor\":\"#2a3f5f\",\"gridcolor\":\"white\",\"linecolor\":\"white\",\"minorgridcolor\":\"white\",\"startlinecolor\":\"#2a3f5f\"},\"type\":\"carpet\"}],\"table\":[{\"cells\":{\"fill\":{\"color\":\"#EBF0F8\"},\"line\":{\"color\":\"white\"}},\"header\":{\"fill\":{\"color\":\"#C8D4E3\"},\"line\":{\"color\":\"white\"}},\"type\":\"table\"}],\"barpolar\":[{\"marker\":{\"line\":{\"color\":\"#E5ECF6\",\"width\":0.5},\"pattern\":{\"fillmode\":\"overlay\",\"size\":10,\"solidity\":0.2}},\"type\":\"barpolar\"}],\"pie\":[{\"automargin\":true,\"type\":\"pie\"}]},\"layout\":{\"autotypenumbers\":\"strict\",\"colorway\":[\"#636efa\",\"#EF553B\",\"#00cc96\",\"#ab63fa\",\"#FFA15A\",\"#19d3f3\",\"#FF6692\",\"#B6E880\",\"#FF97FF\",\"#FECB52\"],\"font\":{\"color\":\"#2a3f5f\"},\"hovermode\":\"closest\",\"hoverlabel\":{\"align\":\"left\"},\"paper_bgcolor\":\"white\",\"plot_bgcolor\":\"#E5ECF6\",\"polar\":{\"bgcolor\":\"#E5ECF6\",\"angularaxis\":{\"gridcolor\":\"white\",\"linecolor\":\"white\",\"ticks\":\"\"},\"radialaxis\":{\"gridcolor\":\"white\",\"linecolor\":\"white\",\"ticks\":\"\"}},\"ternary\":{\"bgcolor\":\"#E5ECF6\",\"aaxis\":{\"gridcolor\":\"white\",\"linecolor\":\"white\",\"ticks\":\"\"},\"baxis\":{\"gridcolor\":\"white\",\"linecolor\":\"white\",\"ticks\":\"\"},\"caxis\":{\"gridcolor\":\"white\",\"linecolor\":\"white\",\"ticks\":\"\"}},\"coloraxis\":{\"colorbar\":{\"outlinewidth\":0,\"ticks\":\"\"}},\"colorscale\":{\"sequential\":[[0.0,\"#0d0887\"],[0.1111111111111111,\"#46039f\"],[0.2222222222222222,\"#7201a8\"],[0.3333333333333333,\"#9c179e\"],[0.4444444444444444,\"#bd3786\"],[0.5555555555555556,\"#d8576b\"],[0.6666666666666666,\"#ed7953\"],[0.7777777777777778,\"#fb9f3a\"],[0.8888888888888888,\"#fdca26\"],[1.0,\"#f0f921\"]],\"sequentialminus\":[[0.0,\"#0d0887\"],[0.1111111111111111,\"#46039f\"],[0.2222222222222222,\"#7201a8\"],[0.3333333333333333,\"#9c179e\"],[0.4444444444444444,\"#bd3786\"],[0.5555555555555556,\"#d8576b\"],[0.6666666666666666,\"#ed7953\"],[0.7777777777777778,\"#fb9f3a\"],[0.8888888888888888,\"#fdca26\"],[1.0,\"#f0f921\"]],\"diverging\":[[0,\"#8e0152\"],[0.1,\"#c51b7d\"],[0.2,\"#de77ae\"],[0.3,\"#f1b6da\"],[0.4,\"#fde0ef\"],[0.5,\"#f7f7f7\"],[0.6,\"#e6f5d0\"],[0.7,\"#b8e186\"],[0.8,\"#7fbc41\"],[0.9,\"#4d9221\"],[1,\"#276419\"]]},\"xaxis\":{\"gridcolor\":\"white\",\"linecolor\":\"white\",\"ticks\":\"\",\"title\":{\"standoff\":15},\"zerolinecolor\":\"white\",\"automargin\":true,\"zerolinewidth\":2},\"yaxis\":{\"gridcolor\":\"white\",\"linecolor\":\"white\",\"ticks\":\"\",\"title\":{\"standoff\":15},\"zerolinecolor\":\"white\",\"automargin\":true,\"zerolinewidth\":2},\"scene\":{\"xaxis\":{\"backgroundcolor\":\"#E5ECF6\",\"gridcolor\":\"white\",\"linecolor\":\"white\",\"showbackground\":true,\"ticks\":\"\",\"zerolinecolor\":\"white\",\"gridwidth\":2},\"yaxis\":{\"backgroundcolor\":\"#E5ECF6\",\"gridcolor\":\"white\",\"linecolor\":\"white\",\"showbackground\":true,\"ticks\":\"\",\"zerolinecolor\":\"white\",\"gridwidth\":2},\"zaxis\":{\"backgroundcolor\":\"#E5ECF6\",\"gridcolor\":\"white\",\"linecolor\":\"white\",\"showbackground\":true,\"ticks\":\"\",\"zerolinecolor\":\"white\",\"gridwidth\":2}},\"shapedefaults\":{\"line\":{\"color\":\"#2a3f5f\"}},\"annotationdefaults\":{\"arrowcolor\":\"#2a3f5f\",\"arrowhead\":0,\"arrowwidth\":1},\"geo\":{\"bgcolor\":\"white\",\"landcolor\":\"#E5ECF6\",\"subunitcolor\":\"white\",\"showland\":true,\"showlakes\":true,\"lakecolor\":\"white\"},\"title\":{\"x\":0.05},\"mapbox\":{\"style\":\"light\"}}},\"xaxis\":{\"anchor\":\"y\",\"domain\":[0.0,1.0],\"title\":{\"text\":\"ano\"}},\"yaxis\":{\"anchor\":\"x\",\"domain\":[0.0,1.0],\"title\":{\"text\":\"Contagem de Coletas\"}},\"legend\":{\"title\":{\"text\":\"stateProvince\"},\"tracegroupgap\":0},\"title\":{\"text\":\"Contagem de Coletas por Pa\\u00eds (Empilhado por Ano)\"},\"barmode\":\"stack\"},                        {\"responsive\": true}                    )                };                            </script>        </div>"
      ],
      "text/plain": [
       "Figure({\n",
       "    'data': [{'alignmentgroup': 'True',\n",
       "              'hovertemplate': 'stateProvince=Bahia<br>ano=%{x}<br>Contagem de Coletas=%{y}<extra></extra>',\n",
       "              'legendgroup': 'Bahia',\n",
       "              'marker': {'color': '#636efa', 'pattern': {'shape': ''}},\n",
       "              'name': 'Bahia',\n",
       "              'offsetgroup': 'Bahia',\n",
       "              'orientation': 'v',\n",
       "              'showlegend': True,\n",
       "              'textposition': 'auto',\n",
       "              'type': 'bar',\n",
       "              'x': array([2022, 2021, 2014, 2023, 2013, 2019, 2016, 2017, 2020], dtype=int64),\n",
       "              'xaxis': 'x',\n",
       "              'y': array([  1,   5,  10,  12,  12,  22,  26,  83, 122], dtype=int64),\n",
       "              'yaxis': 'y'},\n",
       "             {'alignmentgroup': 'True',\n",
       "              'hovertemplate': ('stateProvince=Rio Grande do Su' ... 'de Coletas=%{y}<extra></extra>'),\n",
       "              'legendgroup': 'Rio Grande do Sul',\n",
       "              'marker': {'color': '#EF553B', 'pattern': {'shape': ''}},\n",
       "              'name': 'Rio Grande do Sul',\n",
       "              'offsetgroup': 'Rio Grande do Sul',\n",
       "              'orientation': 'v',\n",
       "              'showlegend': True,\n",
       "              'textposition': 'auto',\n",
       "              'type': 'bar',\n",
       "              'x': array([2023, 2020, 2013, 2014, 2016, 2012, 2017], dtype=int64),\n",
       "              'xaxis': 'x',\n",
       "              'y': array([ 1,  5,  6, 12, 19, 34, 35], dtype=int64),\n",
       "              'yaxis': 'y'},\n",
       "             {'alignmentgroup': 'True',\n",
       "              'hovertemplate': ('stateProvince=Rio Grande do No' ... 'de Coletas=%{y}<extra></extra>'),\n",
       "              'legendgroup': 'Rio Grande do Norte',\n",
       "              'marker': {'color': '#00cc96', 'pattern': {'shape': ''}},\n",
       "              'name': 'Rio Grande do Norte',\n",
       "              'offsetgroup': 'Rio Grande do Norte',\n",
       "              'orientation': 'v',\n",
       "              'showlegend': True,\n",
       "              'textposition': 'auto',\n",
       "              'type': 'bar',\n",
       "              'x': array([2018, 2020, 2019, 2017], dtype=int64),\n",
       "              'xaxis': 'x',\n",
       "              'y': array([ 1,  3,  4, 44], dtype=int64),\n",
       "              'yaxis': 'y'},\n",
       "             {'alignmentgroup': 'True',\n",
       "              'hovertemplate': 'stateProvince=Pernambuco<br>ano=%{x}<br>Contagem de Coletas=%{y}<extra></extra>',\n",
       "              'legendgroup': 'Pernambuco',\n",
       "              'marker': {'color': '#ab63fa', 'pattern': {'shape': ''}},\n",
       "              'name': 'Pernambuco',\n",
       "              'offsetgroup': 'Pernambuco',\n",
       "              'orientation': 'v',\n",
       "              'showlegend': True,\n",
       "              'textposition': 'auto',\n",
       "              'type': 'bar',\n",
       "              'x': array([2018, 2020, 2012, 2014, 2013, 2017], dtype=int64),\n",
       "              'xaxis': 'x',\n",
       "              'y': array([ 1,  6, 12, 15, 36, 43], dtype=int64),\n",
       "              'yaxis': 'y'},\n",
       "             {'alignmentgroup': 'True',\n",
       "              'hovertemplate': 'stateProvince=Pará<br>ano=%{x}<br>Contagem de Coletas=%{y}<extra></extra>',\n",
       "              'legendgroup': 'Pará',\n",
       "              'marker': {'color': '#FFA15A', 'pattern': {'shape': ''}},\n",
       "              'name': 'Pará',\n",
       "              'offsetgroup': 'Pará',\n",
       "              'orientation': 'v',\n",
       "              'showlegend': True,\n",
       "              'textposition': 'auto',\n",
       "              'type': 'bar',\n",
       "              'x': array([2012, 2021, 2018, 2023, 2022, 2016, 2013, 2015, 2014, 2017], dtype=int64),\n",
       "              'xaxis': 'x',\n",
       "              'y': array([  1,   4,  12,  17,  19,  70,  76,  84,  85, 118], dtype=int64),\n",
       "              'yaxis': 'y'},\n",
       "             {'alignmentgroup': 'True',\n",
       "              'hovertemplate': 'stateProvince=Paraíba<br>ano=%{x}<br>Contagem de Coletas=%{y}<extra></extra>',\n",
       "              'legendgroup': 'Paraíba',\n",
       "              'marker': {'color': '#19d3f3', 'pattern': {'shape': ''}},\n",
       "              'name': 'Paraíba',\n",
       "              'offsetgroup': 'Paraíba',\n",
       "              'orientation': 'v',\n",
       "              'showlegend': True,\n",
       "              'textposition': 'auto',\n",
       "              'type': 'bar',\n",
       "              'x': array([2023, 2013, 2019, 2022, 2017], dtype=int64),\n",
       "              'xaxis': 'x',\n",
       "              'y': array([ 1,  1,  2,  2, 35], dtype=int64),\n",
       "              'yaxis': 'y'},\n",
       "             {'alignmentgroup': 'True',\n",
       "              'hovertemplate': ('stateProvince=Espírito Santo<b' ... 'de Coletas=%{y}<extra></extra>'),\n",
       "              'legendgroup': 'Espírito Santo',\n",
       "              'marker': {'color': '#FF6692', 'pattern': {'shape': ''}},\n",
       "              'name': 'Espírito Santo',\n",
       "              'offsetgroup': 'Espírito Santo',\n",
       "              'orientation': 'v',\n",
       "              'showlegend': True,\n",
       "              'textposition': 'auto',\n",
       "              'type': 'bar',\n",
       "              'x': array([2018, 2021, 2014, 2016, 2023, 2013, 2020, 2017, 2019, 2022], dtype=int64),\n",
       "              'xaxis': 'x',\n",
       "              'y': array([  1,   1,   4,  11,  12,  15,  37,  52, 105, 130], dtype=int64),\n",
       "              'yaxis': 'y'},\n",
       "             {'alignmentgroup': 'True',\n",
       "              'hovertemplate': ('stateProvince=Rio de Janeiro<b' ... 'de Coletas=%{y}<extra></extra>'),\n",
       "              'legendgroup': 'Rio de Janeiro',\n",
       "              'marker': {'color': '#B6E880', 'pattern': {'shape': ''}},\n",
       "              'name': 'Rio de Janeiro',\n",
       "              'offsetgroup': 'Rio de Janeiro',\n",
       "              'orientation': 'v',\n",
       "              'showlegend': True,\n",
       "              'textposition': 'auto',\n",
       "              'type': 'bar',\n",
       "              'x': array([2012, 2022, 2023, 2014, 2015, 2017, 2019, 2020, 2016, 2013], dtype=int64),\n",
       "              'xaxis': 'x',\n",
       "              'y': array([ 1,  1,  3, 12, 12, 14, 15, 18, 21, 27], dtype=int64),\n",
       "              'yaxis': 'y'},\n",
       "             {'alignmentgroup': 'True',\n",
       "              'hovertemplate': 'stateProvince=Paraná<br>ano=%{x}<br>Contagem de Coletas=%{y}<extra></extra>',\n",
       "              'legendgroup': 'Paraná',\n",
       "              'marker': {'color': '#FF97FF', 'pattern': {'shape': ''}},\n",
       "              'name': 'Paraná',\n",
       "              'offsetgroup': 'Paraná',\n",
       "              'orientation': 'v',\n",
       "              'showlegend': True,\n",
       "              'textposition': 'auto',\n",
       "              'type': 'bar',\n",
       "              'x': array([2019, 2018, 2016, 2014, 2013], dtype=int64),\n",
       "              'xaxis': 'x',\n",
       "              'y': array([ 1,  1,  1,  4, 42], dtype=int64),\n",
       "              'yaxis': 'y'},\n",
       "             {'alignmentgroup': 'True',\n",
       "              'hovertemplate': 'stateProvince=Maranhão<br>ano=%{x}<br>Contagem de Coletas=%{y}<extra></extra>',\n",
       "              'legendgroup': 'Maranhão',\n",
       "              'marker': {'color': '#FECB52', 'pattern': {'shape': ''}},\n",
       "              'name': 'Maranhão',\n",
       "              'offsetgroup': 'Maranhão',\n",
       "              'orientation': 'v',\n",
       "              'showlegend': True,\n",
       "              'textposition': 'auto',\n",
       "              'type': 'bar',\n",
       "              'x': array([2013, 2020, 2023, 2017], dtype=int64),\n",
       "              'xaxis': 'x',\n",
       "              'y': array([1, 1, 2, 7], dtype=int64),\n",
       "              'yaxis': 'y'},\n",
       "             {'alignmentgroup': 'True',\n",
       "              'hovertemplate': 'stateProvince=Mato Grosso<br>ano=%{x}<br>Contagem de Coletas=%{y}<extra></extra>',\n",
       "              'legendgroup': 'Mato Grosso',\n",
       "              'marker': {'color': '#636efa', 'pattern': {'shape': ''}},\n",
       "              'name': 'Mato Grosso',\n",
       "              'offsetgroup': 'Mato Grosso',\n",
       "              'orientation': 'v',\n",
       "              'showlegend': True,\n",
       "              'textposition': 'auto',\n",
       "              'type': 'bar',\n",
       "              'x': array([2019, 2014, 2016, 2022], dtype=int64),\n",
       "              'xaxis': 'x',\n",
       "              'y': array([1, 2, 3, 5], dtype=int64),\n",
       "              'yaxis': 'y'},\n",
       "             {'alignmentgroup': 'True',\n",
       "              'hovertemplate': ('stateProvince=Mato Grosso do S' ... 'de Coletas=%{y}<extra></extra>'),\n",
       "              'legendgroup': 'Mato Grosso do Sul',\n",
       "              'marker': {'color': '#EF553B', 'pattern': {'shape': ''}},\n",
       "              'name': 'Mato Grosso do Sul',\n",
       "              'offsetgroup': 'Mato Grosso do Sul',\n",
       "              'orientation': 'v',\n",
       "              'showlegend': True,\n",
       "              'textposition': 'auto',\n",
       "              'type': 'bar',\n",
       "              'x': array([2018, 2023, 2014], dtype=int64),\n",
       "              'xaxis': 'x',\n",
       "              'y': array([ 1,  6, 44], dtype=int64),\n",
       "              'yaxis': 'y'},\n",
       "             {'alignmentgroup': 'True',\n",
       "              'hovertemplate': 'stateProvince=Amazonas<br>ano=%{x}<br>Contagem de Coletas=%{y}<extra></extra>',\n",
       "              'legendgroup': 'Amazonas',\n",
       "              'marker': {'color': '#00cc96', 'pattern': {'shape': ''}},\n",
       "              'name': 'Amazonas',\n",
       "              'offsetgroup': 'Amazonas',\n",
       "              'orientation': 'v',\n",
       "              'showlegend': True,\n",
       "              'textposition': 'auto',\n",
       "              'type': 'bar',\n",
       "              'x': array([2021, 2015, 2022, 2014, 2019, 2012, 2017, 2013], dtype=int64),\n",
       "              'xaxis': 'x',\n",
       "              'y': array([ 1,  2,  3,  5,  7, 18, 35, 55], dtype=int64),\n",
       "              'yaxis': 'y'},\n",
       "             {'alignmentgroup': 'True',\n",
       "              'hovertemplate': 'stateProvince=Acre<br>ano=%{x}<br>Contagem de Coletas=%{y}<extra></extra>',\n",
       "              'legendgroup': 'Acre',\n",
       "              'marker': {'color': '#ab63fa', 'pattern': {'shape': ''}},\n",
       "              'name': 'Acre',\n",
       "              'offsetgroup': 'Acre',\n",
       "              'orientation': 'v',\n",
       "              'showlegend': True,\n",
       "              'textposition': 'auto',\n",
       "              'type': 'bar',\n",
       "              'x': array([2018, 2023, 2017, 2014], dtype=int64),\n",
       "              'xaxis': 'x',\n",
       "              'y': array([1, 1, 2, 4], dtype=int64),\n",
       "              'yaxis': 'y'},\n",
       "             {'alignmentgroup': 'True',\n",
       "              'hovertemplate': ('stateProvince=Santa Catarina<b' ... 'de Coletas=%{y}<extra></extra>'),\n",
       "              'legendgroup': 'Santa Catarina',\n",
       "              'marker': {'color': '#FFA15A', 'pattern': {'shape': ''}},\n",
       "              'name': 'Santa Catarina',\n",
       "              'offsetgroup': 'Santa Catarina',\n",
       "              'orientation': 'v',\n",
       "              'showlegend': True,\n",
       "              'textposition': 'auto',\n",
       "              'type': 'bar',\n",
       "              'x': array([2022, 2019, 2020, 2014, 2013, 2016, 2017], dtype=int64),\n",
       "              'xaxis': 'x',\n",
       "              'y': array([ 1,  2, 11, 16, 24, 26, 42], dtype=int64),\n",
       "              'yaxis': 'y'},\n",
       "             {'alignmentgroup': 'True',\n",
       "              'hovertemplate': 'stateProvince=Alagoas<br>ano=%{x}<br>Contagem de Coletas=%{y}<extra></extra>',\n",
       "              'legendgroup': 'Alagoas',\n",
       "              'marker': {'color': '#19d3f3', 'pattern': {'shape': ''}},\n",
       "              'name': 'Alagoas',\n",
       "              'offsetgroup': 'Alagoas',\n",
       "              'orientation': 'v',\n",
       "              'showlegend': True,\n",
       "              'textposition': 'auto',\n",
       "              'type': 'bar',\n",
       "              'x': array([2020, 2022, 2019, 2017], dtype=int64),\n",
       "              'xaxis': 'x',\n",
       "              'y': array([ 1,  1, 12, 47], dtype=int64),\n",
       "              'yaxis': 'y'},\n",
       "             {'alignmentgroup': 'True',\n",
       "              'hovertemplate': 'stateProvince=Rondônia<br>ano=%{x}<br>Contagem de Coletas=%{y}<extra></extra>',\n",
       "              'legendgroup': 'Rondônia',\n",
       "              'marker': {'color': '#FF6692', 'pattern': {'shape': ''}},\n",
       "              'name': 'Rondônia',\n",
       "              'offsetgroup': 'Rondônia',\n",
       "              'orientation': 'v',\n",
       "              'showlegend': True,\n",
       "              'textposition': 'auto',\n",
       "              'type': 'bar',\n",
       "              'x': array([2017, 2022, 2013, 2019, 2012], dtype=int64),\n",
       "              'xaxis': 'x',\n",
       "              'y': array([ 1,  1,  2,  2, 27], dtype=int64),\n",
       "              'yaxis': 'y'},\n",
       "             {'alignmentgroup': 'True',\n",
       "              'hovertemplate': ('stateProvince=Minas Gerais | S' ... 'de Coletas=%{y}<extra></extra>'),\n",
       "              'legendgroup': 'Minas Gerais | São Paulo',\n",
       "              'marker': {'color': '#B6E880', 'pattern': {'shape': ''}},\n",
       "              'name': 'Minas Gerais | São Paulo',\n",
       "              'offsetgroup': 'Minas Gerais | São Paulo',\n",
       "              'orientation': 'v',\n",
       "              'showlegend': True,\n",
       "              'textposition': 'auto',\n",
       "              'type': 'bar',\n",
       "              'x': array([2013], dtype=int64),\n",
       "              'xaxis': 'x',\n",
       "              'y': array([2], dtype=int64),\n",
       "              'yaxis': 'y'},\n",
       "             {'alignmentgroup': 'True',\n",
       "              'hovertemplate': 'stateProvince=Piauí<br>ano=%{x}<br>Contagem de Coletas=%{y}<extra></extra>',\n",
       "              'legendgroup': 'Piauí',\n",
       "              'marker': {'color': '#FF97FF', 'pattern': {'shape': ''}},\n",
       "              'name': 'Piauí',\n",
       "              'offsetgroup': 'Piauí',\n",
       "              'orientation': 'v',\n",
       "              'showlegend': True,\n",
       "              'textposition': 'auto',\n",
       "              'type': 'bar',\n",
       "              'x': array([2019, 2020, 2023, 2017], dtype=int64),\n",
       "              'xaxis': 'x',\n",
       "              'y': array([ 3,  4,  5, 76], dtype=int64),\n",
       "              'yaxis': 'y'},\n",
       "             {'alignmentgroup': 'True',\n",
       "              'hovertemplate': 'stateProvince=Ceará<br>ano=%{x}<br>Contagem de Coletas=%{y}<extra></extra>',\n",
       "              'legendgroup': 'Ceará',\n",
       "              'marker': {'color': '#FECB52', 'pattern': {'shape': ''}},\n",
       "              'name': 'Ceará',\n",
       "              'offsetgroup': 'Ceará',\n",
       "              'orientation': 'v',\n",
       "              'showlegend': True,\n",
       "              'textposition': 'auto',\n",
       "              'type': 'bar',\n",
       "              'x': array([2016, 2017], dtype=int64),\n",
       "              'xaxis': 'x',\n",
       "              'y': array([ 3, 46], dtype=int64),\n",
       "              'yaxis': 'y'},\n",
       "             {'alignmentgroup': 'True',\n",
       "              'hovertemplate': 'stateProvince=Sergipe<br>ano=%{x}<br>Contagem de Coletas=%{y}<extra></extra>',\n",
       "              'legendgroup': 'Sergipe',\n",
       "              'marker': {'color': '#636efa', 'pattern': {'shape': ''}},\n",
       "              'name': 'Sergipe',\n",
       "              'offsetgroup': 'Sergipe',\n",
       "              'orientation': 'v',\n",
       "              'showlegend': True,\n",
       "              'textposition': 'auto',\n",
       "              'type': 'bar',\n",
       "              'x': array([2017, 2020, 2022], dtype=int64),\n",
       "              'xaxis': 'x',\n",
       "              'y': array([3, 5, 6], dtype=int64),\n",
       "              'yaxis': 'y'},\n",
       "             {'alignmentgroup': 'True',\n",
       "              'hovertemplate': 'stateProvince=São Paulo<br>ano=%{x}<br>Contagem de Coletas=%{y}<extra></extra>',\n",
       "              'legendgroup': 'São Paulo',\n",
       "              'marker': {'color': '#EF553B', 'pattern': {'shape': ''}},\n",
       "              'name': 'São Paulo',\n",
       "              'offsetgroup': 'São Paulo',\n",
       "              'orientation': 'v',\n",
       "              'showlegend': True,\n",
       "              'textposition': 'auto',\n",
       "              'type': 'bar',\n",
       "              'x': array([2023, 2021, 2022, 2014, 2018, 2020, 2016, 2019, 2017, 2013, 2015, 2012],\n",
       "                         dtype=int64),\n",
       "              'xaxis': 'x',\n",
       "              'y': array([  4,   8,   8,  13,  15,  34,  48,  75, 132, 209, 333, 390], dtype=int64),\n",
       "              'yaxis': 'y'},\n",
       "             {'alignmentgroup': 'True',\n",
       "              'hovertemplate': ('stateProvince=Minas Gerais<br>' ... 'de Coletas=%{y}<extra></extra>'),\n",
       "              'legendgroup': 'Minas Gerais',\n",
       "              'marker': {'color': '#00cc96', 'pattern': {'shape': ''}},\n",
       "              'name': 'Minas Gerais',\n",
       "              'offsetgroup': 'Minas Gerais',\n",
       "              'orientation': 'v',\n",
       "              'showlegend': True,\n",
       "              'textposition': 'auto',\n",
       "              'type': 'bar',\n",
       "              'x': array([2012, 2020, 2021, 2013, 2023, 2014, 2018, 2016, 2015, 2022, 2019, 2017],\n",
       "                         dtype=int64),\n",
       "              'xaxis': 'x',\n",
       "              'y': array([  58,  125,  361,  394,  597,  620,  921,  942, 1080, 1099, 1788, 3762],\n",
       "                         dtype=int64),\n",
       "              'yaxis': 'y'}],\n",
       "    'layout': {'barmode': 'stack',\n",
       "               'legend': {'title': {'text': 'stateProvince'}, 'tracegroupgap': 0},\n",
       "               'template': '...',\n",
       "               'title': {'text': 'Contagem de Coletas por País (Empilhado por Ano)'},\n",
       "               'xaxis': {'anchor': 'y', 'domain': [0.0, 1.0], 'title': {'text': 'ano'}},\n",
       "               'yaxis': {'anchor': 'x', 'domain': [0.0, 1.0], 'title': {'text': 'Contagem de Coletas'}}}\n",
       "})"
      ]
     },
     "execution_count": 19,
     "metadata": {},
     "output_type": "execute_result"
    }
   ],
   "source": [
    "df_ano = df.copy()\n",
    "\n",
    "df_ano = df_ano[df_ano['country'] == 'Brasil']\n",
    "df_agrupado = df_ano.groupby(['stateProvince', 'ano']).size().reset_index(name='counts')\n",
    "\n",
    "# Ordene os dados pelo ano\n",
    "df_agrupado = df_agrupado.sort_values(by='counts')\n",
    "\n",
    "# Crie o gráfico de barras empilhadas\n",
    "fig = px.bar(df_agrupado, color='stateProvince', y='counts', x='ano', title='Contagem de Coletas por País (Empilhado por Ano)',\n",
    "             labels={'counts': 'Contagem de Coletas', 'country': 'País', 'year': 'Ano'},\n",
    "             barmode='stack')\n",
    "\n",
    "fig\n"
   ]
  },
  {
   "cell_type": "code",
   "execution_count": 20,
   "metadata": {},
   "outputs": [
    {
     "ename": "ValueError",
     "evalue": "Mime type rendering requires nbformat>=4.2.0 but it is not installed",
     "output_type": "error",
     "traceback": [
      "\u001b[1;31m---------------------------------------------------------------------------\u001b[0m",
      "\u001b[1;31mValueError\u001b[0m                                Traceback (most recent call last)",
      "File \u001b[1;32m~\\AppData\\Local\\Packages\\PythonSoftwareFoundation.Python.3.10_qbz5n2kfra8p0\\LocalCache\\local-packages\\Python310\\site-packages\\IPython\\core\\formatters.py:920\u001b[0m, in \u001b[0;36mIPythonDisplayFormatter.__call__\u001b[1;34m(self, obj)\u001b[0m\n\u001b[0;32m    918\u001b[0m method \u001b[38;5;241m=\u001b[39m get_real_method(obj, \u001b[38;5;28mself\u001b[39m\u001b[38;5;241m.\u001b[39mprint_method)\n\u001b[0;32m    919\u001b[0m \u001b[38;5;28;01mif\u001b[39;00m method \u001b[38;5;129;01mis\u001b[39;00m \u001b[38;5;129;01mnot\u001b[39;00m \u001b[38;5;28;01mNone\u001b[39;00m:\n\u001b[1;32m--> 920\u001b[0m     \u001b[43mmethod\u001b[49m\u001b[43m(\u001b[49m\u001b[43m)\u001b[49m\n\u001b[0;32m    921\u001b[0m     \u001b[38;5;28;01mreturn\u001b[39;00m \u001b[38;5;28;01mTrue\u001b[39;00m\n",
      "File \u001b[1;32m~\\AppData\\Local\\Packages\\PythonSoftwareFoundation.Python.3.10_qbz5n2kfra8p0\\LocalCache\\local-packages\\Python310\\site-packages\\plotly\\basedatatypes.py:832\u001b[0m, in \u001b[0;36mBaseFigure._ipython_display_\u001b[1;34m(self)\u001b[0m\n\u001b[0;32m    829\u001b[0m \u001b[38;5;28;01mimport\u001b[39;00m \u001b[38;5;21;01mplotly\u001b[39;00m\u001b[38;5;21;01m.\u001b[39;00m\u001b[38;5;21;01mio\u001b[39;00m \u001b[38;5;28;01mas\u001b[39;00m \u001b[38;5;21;01mpio\u001b[39;00m\n\u001b[0;32m    831\u001b[0m \u001b[38;5;28;01mif\u001b[39;00m pio\u001b[38;5;241m.\u001b[39mrenderers\u001b[38;5;241m.\u001b[39mrender_on_display \u001b[38;5;129;01mand\u001b[39;00m pio\u001b[38;5;241m.\u001b[39mrenderers\u001b[38;5;241m.\u001b[39mdefault:\n\u001b[1;32m--> 832\u001b[0m     \u001b[43mpio\u001b[49m\u001b[38;5;241;43m.\u001b[39;49m\u001b[43mshow\u001b[49m\u001b[43m(\u001b[49m\u001b[38;5;28;43mself\u001b[39;49m\u001b[43m)\u001b[49m\n\u001b[0;32m    833\u001b[0m \u001b[38;5;28;01melse\u001b[39;00m:\n\u001b[0;32m    834\u001b[0m     \u001b[38;5;28mprint\u001b[39m(\u001b[38;5;28mrepr\u001b[39m(\u001b[38;5;28mself\u001b[39m))\n",
      "File \u001b[1;32m~\\AppData\\Local\\Packages\\PythonSoftwareFoundation.Python.3.10_qbz5n2kfra8p0\\LocalCache\\local-packages\\Python310\\site-packages\\plotly\\io\\_renderers.py:394\u001b[0m, in \u001b[0;36mshow\u001b[1;34m(fig, renderer, validate, **kwargs)\u001b[0m\n\u001b[0;32m    389\u001b[0m         \u001b[38;5;28;01mraise\u001b[39;00m \u001b[38;5;167;01mValueError\u001b[39;00m(\n\u001b[0;32m    390\u001b[0m             \u001b[38;5;124m\"\u001b[39m\u001b[38;5;124mMime type rendering requires ipython but it is not installed\u001b[39m\u001b[38;5;124m\"\u001b[39m\n\u001b[0;32m    391\u001b[0m         )\n\u001b[0;32m    393\u001b[0m     \u001b[38;5;28;01mif\u001b[39;00m \u001b[38;5;129;01mnot\u001b[39;00m nbformat \u001b[38;5;129;01mor\u001b[39;00m Version(nbformat\u001b[38;5;241m.\u001b[39m__version__) \u001b[38;5;241m<\u001b[39m Version(\u001b[38;5;124m\"\u001b[39m\u001b[38;5;124m4.2.0\u001b[39m\u001b[38;5;124m\"\u001b[39m):\n\u001b[1;32m--> 394\u001b[0m         \u001b[38;5;28;01mraise\u001b[39;00m \u001b[38;5;167;01mValueError\u001b[39;00m(\n\u001b[0;32m    395\u001b[0m             \u001b[38;5;124m\"\u001b[39m\u001b[38;5;124mMime type rendering requires nbformat>=4.2.0 but it is not installed\u001b[39m\u001b[38;5;124m\"\u001b[39m\n\u001b[0;32m    396\u001b[0m         )\n\u001b[0;32m    398\u001b[0m     ipython_display\u001b[38;5;241m.\u001b[39mdisplay(bundle, raw\u001b[38;5;241m=\u001b[39m\u001b[38;5;28;01mTrue\u001b[39;00m)\n\u001b[0;32m    400\u001b[0m \u001b[38;5;66;03m# external renderers\u001b[39;00m\n",
      "\u001b[1;31mValueError\u001b[0m: Mime type rendering requires nbformat>=4.2.0 but it is not installed"
     ]
    },
    {
     "data": {
      "application/vnd.plotly.v1+json": {
       "config": {
        "plotlyServerURL": "https://plot.ly"
       },
       "data": [
        {
         "alignmentgroup": "True",
         "hovertemplate": "stateProvince=Bahia<br>ano=%{x}<br>Contagem de Coletas=%{y}<extra></extra>",
         "legendgroup": "Bahia",
         "marker": {
          "color": "#636efa",
          "pattern": {
           "shape": ""
          }
         },
         "name": "Bahia",
         "offsetgroup": "Bahia",
         "orientation": "v",
         "showlegend": true,
         "textposition": "auto",
         "type": "bar",
         "x": [
          2022,
          2021,
          2014,
          2013,
          2023,
          2019,
          2016,
          2017,
          2020
         ],
         "xaxis": "x",
         "y": [
          1,
          5,
          10,
          12,
          12,
          22,
          26,
          83,
          122
         ],
         "yaxis": "y"
        },
        {
         "alignmentgroup": "True",
         "hovertemplate": "stateProvince=Pernambuco<br>ano=%{x}<br>Contagem de Coletas=%{y}<extra></extra>",
         "legendgroup": "Pernambuco",
         "marker": {
          "color": "#EF553B",
          "pattern": {
           "shape": ""
          }
         },
         "name": "Pernambuco",
         "offsetgroup": "Pernambuco",
         "orientation": "v",
         "showlegend": true,
         "textposition": "auto",
         "type": "bar",
         "x": [
          2018,
          2020,
          2012,
          2014,
          2013,
          2017
         ],
         "xaxis": "x",
         "y": [
          1,
          6,
          12,
          15,
          36,
          43
         ],
         "yaxis": "y"
        },
        {
         "alignmentgroup": "True",
         "hovertemplate": "stateProvince=Espírito Santo<br>ano=%{x}<br>Contagem de Coletas=%{y}<extra></extra>",
         "legendgroup": "Espírito Santo",
         "marker": {
          "color": "#00cc96",
          "pattern": {
           "shape": ""
          }
         },
         "name": "Espírito Santo",
         "offsetgroup": "Espírito Santo",
         "orientation": "v",
         "showlegend": true,
         "textposition": "auto",
         "type": "bar",
         "x": [
          2018,
          2021,
          2014,
          2016,
          2023,
          2013,
          2020,
          2017,
          2019,
          2022
         ],
         "xaxis": "x",
         "y": [
          1,
          1,
          4,
          11,
          12,
          15,
          37,
          52,
          105,
          130
         ],
         "yaxis": "y"
        },
        {
         "alignmentgroup": "True",
         "hovertemplate": "stateProvince=Mato Grosso do Sul<br>ano=%{x}<br>Contagem de Coletas=%{y}<extra></extra>",
         "legendgroup": "Mato Grosso do Sul",
         "marker": {
          "color": "#ab63fa",
          "pattern": {
           "shape": ""
          }
         },
         "name": "Mato Grosso do Sul",
         "offsetgroup": "Mato Grosso do Sul",
         "orientation": "v",
         "showlegend": true,
         "textposition": "auto",
         "type": "bar",
         "x": [
          2018,
          2023,
          2014
         ],
         "xaxis": "x",
         "y": [
          1,
          6,
          44
         ],
         "yaxis": "y"
        },
        {
         "alignmentgroup": "True",
         "hovertemplate": "stateProvince=Rio Grande do Norte<br>ano=%{x}<br>Contagem de Coletas=%{y}<extra></extra>",
         "legendgroup": "Rio Grande do Norte",
         "marker": {
          "color": "#FFA15A",
          "pattern": {
           "shape": ""
          }
         },
         "name": "Rio Grande do Norte",
         "offsetgroup": "Rio Grande do Norte",
         "orientation": "v",
         "showlegend": true,
         "textposition": "auto",
         "type": "bar",
         "x": [
          2018,
          2020,
          2019,
          2017
         ],
         "xaxis": "x",
         "y": [
          1,
          3,
          4,
          44
         ],
         "yaxis": "y"
        },
        {
         "alignmentgroup": "True",
         "hovertemplate": "stateProvince=Paraíba<br>ano=%{x}<br>Contagem de Coletas=%{y}<extra></extra>",
         "legendgroup": "Paraíba",
         "marker": {
          "color": "#19d3f3",
          "pattern": {
           "shape": ""
          }
         },
         "name": "Paraíba",
         "offsetgroup": "Paraíba",
         "orientation": "v",
         "showlegend": true,
         "textposition": "auto",
         "type": "bar",
         "x": [
          2013,
          2023,
          2019,
          2022,
          2017
         ],
         "xaxis": "x",
         "y": [
          1,
          1,
          2,
          2,
          35
         ],
         "yaxis": "y"
        },
        {
         "alignmentgroup": "True",
         "hovertemplate": "stateProvince=Rio Grande do Sul<br>ano=%{x}<br>Contagem de Coletas=%{y}<extra></extra>",
         "legendgroup": "Rio Grande do Sul",
         "marker": {
          "color": "#FF6692",
          "pattern": {
           "shape": ""
          }
         },
         "name": "Rio Grande do Sul",
         "offsetgroup": "Rio Grande do Sul",
         "orientation": "v",
         "showlegend": true,
         "textposition": "auto",
         "type": "bar",
         "x": [
          2023,
          2020,
          2013,
          2014,
          2016,
          2012,
          2017
         ],
         "xaxis": "x",
         "y": [
          1,
          5,
          6,
          12,
          19,
          34,
          35
         ],
         "yaxis": "y"
        },
        {
         "alignmentgroup": "True",
         "hovertemplate": "stateProvince=Rio de Janeiro<br>ano=%{x}<br>Contagem de Coletas=%{y}<extra></extra>",
         "legendgroup": "Rio de Janeiro",
         "marker": {
          "color": "#B6E880",
          "pattern": {
           "shape": ""
          }
         },
         "name": "Rio de Janeiro",
         "offsetgroup": "Rio de Janeiro",
         "orientation": "v",
         "showlegend": true,
         "textposition": "auto",
         "type": "bar",
         "x": [
          2012,
          2022,
          2023,
          2015,
          2014,
          2017,
          2019,
          2020,
          2016,
          2013
         ],
         "xaxis": "x",
         "y": [
          1,
          1,
          3,
          12,
          12,
          14,
          15,
          18,
          21,
          27
         ],
         "yaxis": "y"
        },
        {
         "alignmentgroup": "True",
         "hovertemplate": "stateProvince=Paraná<br>ano=%{x}<br>Contagem de Coletas=%{y}<extra></extra>",
         "legendgroup": "Paraná",
         "marker": {
          "color": "#FF97FF",
          "pattern": {
           "shape": ""
          }
         },
         "name": "Paraná",
         "offsetgroup": "Paraná",
         "orientation": "v",
         "showlegend": true,
         "textposition": "auto",
         "type": "bar",
         "x": [
          2019,
          2016,
          2018,
          2014,
          2013
         ],
         "xaxis": "x",
         "y": [
          1,
          1,
          1,
          4,
          42
         ],
         "yaxis": "y"
        },
        {
         "alignmentgroup": "True",
         "hovertemplate": "stateProvince=Maranhão<br>ano=%{x}<br>Contagem de Coletas=%{y}<extra></extra>",
         "legendgroup": "Maranhão",
         "marker": {
          "color": "#FECB52",
          "pattern": {
           "shape": ""
          }
         },
         "name": "Maranhão",
         "offsetgroup": "Maranhão",
         "orientation": "v",
         "showlegend": true,
         "textposition": "auto",
         "type": "bar",
         "x": [
          2013,
          2020,
          2023,
          2017
         ],
         "xaxis": "x",
         "y": [
          1,
          1,
          2,
          7
         ],
         "yaxis": "y"
        },
        {
         "alignmentgroup": "True",
         "hovertemplate": "stateProvince=Amazonas<br>ano=%{x}<br>Contagem de Coletas=%{y}<extra></extra>",
         "legendgroup": "Amazonas",
         "marker": {
          "color": "#636efa",
          "pattern": {
           "shape": ""
          }
         },
         "name": "Amazonas",
         "offsetgroup": "Amazonas",
         "orientation": "v",
         "showlegend": true,
         "textposition": "auto",
         "type": "bar",
         "x": [
          2021,
          2015,
          2022,
          2014,
          2019,
          2012,
          2017,
          2013
         ],
         "xaxis": "x",
         "y": [
          1,
          2,
          3,
          5,
          7,
          18,
          35,
          55
         ],
         "yaxis": "y"
        },
        {
         "alignmentgroup": "True",
         "hovertemplate": "stateProvince=Rondônia<br>ano=%{x}<br>Contagem de Coletas=%{y}<extra></extra>",
         "legendgroup": "Rondônia",
         "marker": {
          "color": "#EF553B",
          "pattern": {
           "shape": ""
          }
         },
         "name": "Rondônia",
         "offsetgroup": "Rondônia",
         "orientation": "v",
         "showlegend": true,
         "textposition": "auto",
         "type": "bar",
         "x": [
          2017,
          2022,
          2019,
          2013,
          2012
         ],
         "xaxis": "x",
         "y": [
          1,
          1,
          2,
          2,
          27
         ],
         "yaxis": "y"
        },
        {
         "alignmentgroup": "True",
         "hovertemplate": "stateProvince=Alagoas<br>ano=%{x}<br>Contagem de Coletas=%{y}<extra></extra>",
         "legendgroup": "Alagoas",
         "marker": {
          "color": "#00cc96",
          "pattern": {
           "shape": ""
          }
         },
         "name": "Alagoas",
         "offsetgroup": "Alagoas",
         "orientation": "v",
         "showlegend": true,
         "textposition": "auto",
         "type": "bar",
         "x": [
          2022,
          2020,
          2019,
          2017
         ],
         "xaxis": "x",
         "y": [
          1,
          1,
          12,
          47
         ],
         "yaxis": "y"
        },
        {
         "alignmentgroup": "True",
         "hovertemplate": "stateProvince=Santa Catarina<br>ano=%{x}<br>Contagem de Coletas=%{y}<extra></extra>",
         "legendgroup": "Santa Catarina",
         "marker": {
          "color": "#ab63fa",
          "pattern": {
           "shape": ""
          }
         },
         "name": "Santa Catarina",
         "offsetgroup": "Santa Catarina",
         "orientation": "v",
         "showlegend": true,
         "textposition": "auto",
         "type": "bar",
         "x": [
          2022,
          2019,
          2020,
          2014,
          2013,
          2016,
          2017
         ],
         "xaxis": "x",
         "y": [
          1,
          2,
          11,
          16,
          24,
          26,
          42
         ],
         "yaxis": "y"
        },
        {
         "alignmentgroup": "True",
         "hovertemplate": "stateProvince=Mato Grosso<br>ano=%{x}<br>Contagem de Coletas=%{y}<extra></extra>",
         "legendgroup": "Mato Grosso",
         "marker": {
          "color": "#FFA15A",
          "pattern": {
           "shape": ""
          }
         },
         "name": "Mato Grosso",
         "offsetgroup": "Mato Grosso",
         "orientation": "v",
         "showlegend": true,
         "textposition": "auto",
         "type": "bar",
         "x": [
          2019,
          2014,
          2016,
          2022
         ],
         "xaxis": "x",
         "y": [
          1,
          2,
          3,
          5
         ],
         "yaxis": "y"
        },
        {
         "alignmentgroup": "True",
         "hovertemplate": "stateProvince=Acre<br>ano=%{x}<br>Contagem de Coletas=%{y}<extra></extra>",
         "legendgroup": "Acre",
         "marker": {
          "color": "#19d3f3",
          "pattern": {
           "shape": ""
          }
         },
         "name": "Acre",
         "offsetgroup": "Acre",
         "orientation": "v",
         "showlegend": true,
         "textposition": "auto",
         "type": "bar",
         "x": [
          2023,
          2018,
          2017,
          2014
         ],
         "xaxis": "x",
         "y": [
          1,
          1,
          2,
          4
         ],
         "yaxis": "y"
        },
        {
         "alignmentgroup": "True",
         "hovertemplate": "stateProvince=Pará<br>ano=%{x}<br>Contagem de Coletas=%{y}<extra></extra>",
         "legendgroup": "Pará",
         "marker": {
          "color": "#FF6692",
          "pattern": {
           "shape": ""
          }
         },
         "name": "Pará",
         "offsetgroup": "Pará",
         "orientation": "v",
         "showlegend": true,
         "textposition": "auto",
         "type": "bar",
         "x": [
          2012,
          2021,
          2018,
          2023,
          2022,
          2016,
          2013,
          2015,
          2014,
          2017
         ],
         "xaxis": "x",
         "y": [
          1,
          4,
          12,
          17,
          19,
          70,
          76,
          84,
          85,
          118
         ],
         "yaxis": "y"
        },
        {
         "alignmentgroup": "True",
         "hovertemplate": "stateProvince=Minas Gerais | São Paulo<br>ano=%{x}<br>Contagem de Coletas=%{y}<extra></extra>",
         "legendgroup": "Minas Gerais | São Paulo",
         "marker": {
          "color": "#B6E880",
          "pattern": {
           "shape": ""
          }
         },
         "name": "Minas Gerais | São Paulo",
         "offsetgroup": "Minas Gerais | São Paulo",
         "orientation": "v",
         "showlegend": true,
         "textposition": "auto",
         "type": "bar",
         "x": [
          2013
         ],
         "xaxis": "x",
         "y": [
          2
         ],
         "yaxis": "y"
        },
        {
         "alignmentgroup": "True",
         "hovertemplate": "stateProvince=Sergipe<br>ano=%{x}<br>Contagem de Coletas=%{y}<extra></extra>",
         "legendgroup": "Sergipe",
         "marker": {
          "color": "#FF97FF",
          "pattern": {
           "shape": ""
          }
         },
         "name": "Sergipe",
         "offsetgroup": "Sergipe",
         "orientation": "v",
         "showlegend": true,
         "textposition": "auto",
         "type": "bar",
         "x": [
          2017,
          2020,
          2022
         ],
         "xaxis": "x",
         "y": [
          3,
          5,
          6
         ],
         "yaxis": "y"
        },
        {
         "alignmentgroup": "True",
         "hovertemplate": "stateProvince=Piauí<br>ano=%{x}<br>Contagem de Coletas=%{y}<extra></extra>",
         "legendgroup": "Piauí",
         "marker": {
          "color": "#FECB52",
          "pattern": {
           "shape": ""
          }
         },
         "name": "Piauí",
         "offsetgroup": "Piauí",
         "orientation": "v",
         "showlegend": true,
         "textposition": "auto",
         "type": "bar",
         "x": [
          2019,
          2020,
          2023,
          2017
         ],
         "xaxis": "x",
         "y": [
          3,
          4,
          5,
          76
         ],
         "yaxis": "y"
        },
        {
         "alignmentgroup": "True",
         "hovertemplate": "stateProvince=Ceará<br>ano=%{x}<br>Contagem de Coletas=%{y}<extra></extra>",
         "legendgroup": "Ceará",
         "marker": {
          "color": "#636efa",
          "pattern": {
           "shape": ""
          }
         },
         "name": "Ceará",
         "offsetgroup": "Ceará",
         "orientation": "v",
         "showlegend": true,
         "textposition": "auto",
         "type": "bar",
         "x": [
          2016,
          2017
         ],
         "xaxis": "x",
         "y": [
          3,
          46
         ],
         "yaxis": "y"
        },
        {
         "alignmentgroup": "True",
         "hovertemplate": "stateProvince=São Paulo<br>ano=%{x}<br>Contagem de Coletas=%{y}<extra></extra>",
         "legendgroup": "São Paulo",
         "marker": {
          "color": "#EF553B",
          "pattern": {
           "shape": ""
          }
         },
         "name": "São Paulo",
         "offsetgroup": "São Paulo",
         "orientation": "v",
         "showlegend": true,
         "textposition": "auto",
         "type": "bar",
         "x": [
          2023,
          2021,
          2022,
          2014,
          2018,
          2020,
          2016,
          2019,
          2017,
          2013,
          2015,
          2012
         ],
         "xaxis": "x",
         "y": [
          4,
          8,
          8,
          13,
          15,
          34,
          48,
          75,
          132,
          209,
          333,
          390
         ],
         "yaxis": "y"
        }
       ],
       "layout": {
        "barmode": "stack",
        "legend": {
         "title": {
          "text": "stateProvince"
         },
         "tracegroupgap": 0
        },
        "template": {
         "data": {
          "bar": [
           {
            "error_x": {
             "color": "#2a3f5f"
            },
            "error_y": {
             "color": "#2a3f5f"
            },
            "marker": {
             "line": {
              "color": "#E5ECF6",
              "width": 0.5
             },
             "pattern": {
              "fillmode": "overlay",
              "size": 10,
              "solidity": 0.2
             }
            },
            "type": "bar"
           }
          ],
          "barpolar": [
           {
            "marker": {
             "line": {
              "color": "#E5ECF6",
              "width": 0.5
             },
             "pattern": {
              "fillmode": "overlay",
              "size": 10,
              "solidity": 0.2
             }
            },
            "type": "barpolar"
           }
          ],
          "carpet": [
           {
            "aaxis": {
             "endlinecolor": "#2a3f5f",
             "gridcolor": "white",
             "linecolor": "white",
             "minorgridcolor": "white",
             "startlinecolor": "#2a3f5f"
            },
            "baxis": {
             "endlinecolor": "#2a3f5f",
             "gridcolor": "white",
             "linecolor": "white",
             "minorgridcolor": "white",
             "startlinecolor": "#2a3f5f"
            },
            "type": "carpet"
           }
          ],
          "choropleth": [
           {
            "colorbar": {
             "outlinewidth": 0,
             "ticks": ""
            },
            "type": "choropleth"
           }
          ],
          "contour": [
           {
            "colorbar": {
             "outlinewidth": 0,
             "ticks": ""
            },
            "colorscale": [
             [
              0,
              "#0d0887"
             ],
             [
              0.1111111111111111,
              "#46039f"
             ],
             [
              0.2222222222222222,
              "#7201a8"
             ],
             [
              0.3333333333333333,
              "#9c179e"
             ],
             [
              0.4444444444444444,
              "#bd3786"
             ],
             [
              0.5555555555555556,
              "#d8576b"
             ],
             [
              0.6666666666666666,
              "#ed7953"
             ],
             [
              0.7777777777777778,
              "#fb9f3a"
             ],
             [
              0.8888888888888888,
              "#fdca26"
             ],
             [
              1,
              "#f0f921"
             ]
            ],
            "type": "contour"
           }
          ],
          "contourcarpet": [
           {
            "colorbar": {
             "outlinewidth": 0,
             "ticks": ""
            },
            "type": "contourcarpet"
           }
          ],
          "heatmap": [
           {
            "colorbar": {
             "outlinewidth": 0,
             "ticks": ""
            },
            "colorscale": [
             [
              0,
              "#0d0887"
             ],
             [
              0.1111111111111111,
              "#46039f"
             ],
             [
              0.2222222222222222,
              "#7201a8"
             ],
             [
              0.3333333333333333,
              "#9c179e"
             ],
             [
              0.4444444444444444,
              "#bd3786"
             ],
             [
              0.5555555555555556,
              "#d8576b"
             ],
             [
              0.6666666666666666,
              "#ed7953"
             ],
             [
              0.7777777777777778,
              "#fb9f3a"
             ],
             [
              0.8888888888888888,
              "#fdca26"
             ],
             [
              1,
              "#f0f921"
             ]
            ],
            "type": "heatmap"
           }
          ],
          "heatmapgl": [
           {
            "colorbar": {
             "outlinewidth": 0,
             "ticks": ""
            },
            "colorscale": [
             [
              0,
              "#0d0887"
             ],
             [
              0.1111111111111111,
              "#46039f"
             ],
             [
              0.2222222222222222,
              "#7201a8"
             ],
             [
              0.3333333333333333,
              "#9c179e"
             ],
             [
              0.4444444444444444,
              "#bd3786"
             ],
             [
              0.5555555555555556,
              "#d8576b"
             ],
             [
              0.6666666666666666,
              "#ed7953"
             ],
             [
              0.7777777777777778,
              "#fb9f3a"
             ],
             [
              0.8888888888888888,
              "#fdca26"
             ],
             [
              1,
              "#f0f921"
             ]
            ],
            "type": "heatmapgl"
           }
          ],
          "histogram": [
           {
            "marker": {
             "pattern": {
              "fillmode": "overlay",
              "size": 10,
              "solidity": 0.2
             }
            },
            "type": "histogram"
           }
          ],
          "histogram2d": [
           {
            "colorbar": {
             "outlinewidth": 0,
             "ticks": ""
            },
            "colorscale": [
             [
              0,
              "#0d0887"
             ],
             [
              0.1111111111111111,
              "#46039f"
             ],
             [
              0.2222222222222222,
              "#7201a8"
             ],
             [
              0.3333333333333333,
              "#9c179e"
             ],
             [
              0.4444444444444444,
              "#bd3786"
             ],
             [
              0.5555555555555556,
              "#d8576b"
             ],
             [
              0.6666666666666666,
              "#ed7953"
             ],
             [
              0.7777777777777778,
              "#fb9f3a"
             ],
             [
              0.8888888888888888,
              "#fdca26"
             ],
             [
              1,
              "#f0f921"
             ]
            ],
            "type": "histogram2d"
           }
          ],
          "histogram2dcontour": [
           {
            "colorbar": {
             "outlinewidth": 0,
             "ticks": ""
            },
            "colorscale": [
             [
              0,
              "#0d0887"
             ],
             [
              0.1111111111111111,
              "#46039f"
             ],
             [
              0.2222222222222222,
              "#7201a8"
             ],
             [
              0.3333333333333333,
              "#9c179e"
             ],
             [
              0.4444444444444444,
              "#bd3786"
             ],
             [
              0.5555555555555556,
              "#d8576b"
             ],
             [
              0.6666666666666666,
              "#ed7953"
             ],
             [
              0.7777777777777778,
              "#fb9f3a"
             ],
             [
              0.8888888888888888,
              "#fdca26"
             ],
             [
              1,
              "#f0f921"
             ]
            ],
            "type": "histogram2dcontour"
           }
          ],
          "mesh3d": [
           {
            "colorbar": {
             "outlinewidth": 0,
             "ticks": ""
            },
            "type": "mesh3d"
           }
          ],
          "parcoords": [
           {
            "line": {
             "colorbar": {
              "outlinewidth": 0,
              "ticks": ""
             }
            },
            "type": "parcoords"
           }
          ],
          "pie": [
           {
            "automargin": true,
            "type": "pie"
           }
          ],
          "scatter": [
           {
            "fillpattern": {
             "fillmode": "overlay",
             "size": 10,
             "solidity": 0.2
            },
            "type": "scatter"
           }
          ],
          "scatter3d": [
           {
            "line": {
             "colorbar": {
              "outlinewidth": 0,
              "ticks": ""
             }
            },
            "marker": {
             "colorbar": {
              "outlinewidth": 0,
              "ticks": ""
             }
            },
            "type": "scatter3d"
           }
          ],
          "scattercarpet": [
           {
            "marker": {
             "colorbar": {
              "outlinewidth": 0,
              "ticks": ""
             }
            },
            "type": "scattercarpet"
           }
          ],
          "scattergeo": [
           {
            "marker": {
             "colorbar": {
              "outlinewidth": 0,
              "ticks": ""
             }
            },
            "type": "scattergeo"
           }
          ],
          "scattergl": [
           {
            "marker": {
             "colorbar": {
              "outlinewidth": 0,
              "ticks": ""
             }
            },
            "type": "scattergl"
           }
          ],
          "scattermapbox": [
           {
            "marker": {
             "colorbar": {
              "outlinewidth": 0,
              "ticks": ""
             }
            },
            "type": "scattermapbox"
           }
          ],
          "scatterpolar": [
           {
            "marker": {
             "colorbar": {
              "outlinewidth": 0,
              "ticks": ""
             }
            },
            "type": "scatterpolar"
           }
          ],
          "scatterpolargl": [
           {
            "marker": {
             "colorbar": {
              "outlinewidth": 0,
              "ticks": ""
             }
            },
            "type": "scatterpolargl"
           }
          ],
          "scatterternary": [
           {
            "marker": {
             "colorbar": {
              "outlinewidth": 0,
              "ticks": ""
             }
            },
            "type": "scatterternary"
           }
          ],
          "surface": [
           {
            "colorbar": {
             "outlinewidth": 0,
             "ticks": ""
            },
            "colorscale": [
             [
              0,
              "#0d0887"
             ],
             [
              0.1111111111111111,
              "#46039f"
             ],
             [
              0.2222222222222222,
              "#7201a8"
             ],
             [
              0.3333333333333333,
              "#9c179e"
             ],
             [
              0.4444444444444444,
              "#bd3786"
             ],
             [
              0.5555555555555556,
              "#d8576b"
             ],
             [
              0.6666666666666666,
              "#ed7953"
             ],
             [
              0.7777777777777778,
              "#fb9f3a"
             ],
             [
              0.8888888888888888,
              "#fdca26"
             ],
             [
              1,
              "#f0f921"
             ]
            ],
            "type": "surface"
           }
          ],
          "table": [
           {
            "cells": {
             "fill": {
              "color": "#EBF0F8"
             },
             "line": {
              "color": "white"
             }
            },
            "header": {
             "fill": {
              "color": "#C8D4E3"
             },
             "line": {
              "color": "white"
             }
            },
            "type": "table"
           }
          ]
         },
         "layout": {
          "annotationdefaults": {
           "arrowcolor": "#2a3f5f",
           "arrowhead": 0,
           "arrowwidth": 1
          },
          "autotypenumbers": "strict",
          "coloraxis": {
           "colorbar": {
            "outlinewidth": 0,
            "ticks": ""
           }
          },
          "colorscale": {
           "diverging": [
            [
             0,
             "#8e0152"
            ],
            [
             0.1,
             "#c51b7d"
            ],
            [
             0.2,
             "#de77ae"
            ],
            [
             0.3,
             "#f1b6da"
            ],
            [
             0.4,
             "#fde0ef"
            ],
            [
             0.5,
             "#f7f7f7"
            ],
            [
             0.6,
             "#e6f5d0"
            ],
            [
             0.7,
             "#b8e186"
            ],
            [
             0.8,
             "#7fbc41"
            ],
            [
             0.9,
             "#4d9221"
            ],
            [
             1,
             "#276419"
            ]
           ],
           "sequential": [
            [
             0,
             "#0d0887"
            ],
            [
             0.1111111111111111,
             "#46039f"
            ],
            [
             0.2222222222222222,
             "#7201a8"
            ],
            [
             0.3333333333333333,
             "#9c179e"
            ],
            [
             0.4444444444444444,
             "#bd3786"
            ],
            [
             0.5555555555555556,
             "#d8576b"
            ],
            [
             0.6666666666666666,
             "#ed7953"
            ],
            [
             0.7777777777777778,
             "#fb9f3a"
            ],
            [
             0.8888888888888888,
             "#fdca26"
            ],
            [
             1,
             "#f0f921"
            ]
           ],
           "sequentialminus": [
            [
             0,
             "#0d0887"
            ],
            [
             0.1111111111111111,
             "#46039f"
            ],
            [
             0.2222222222222222,
             "#7201a8"
            ],
            [
             0.3333333333333333,
             "#9c179e"
            ],
            [
             0.4444444444444444,
             "#bd3786"
            ],
            [
             0.5555555555555556,
             "#d8576b"
            ],
            [
             0.6666666666666666,
             "#ed7953"
            ],
            [
             0.7777777777777778,
             "#fb9f3a"
            ],
            [
             0.8888888888888888,
             "#fdca26"
            ],
            [
             1,
             "#f0f921"
            ]
           ]
          },
          "colorway": [
           "#636efa",
           "#EF553B",
           "#00cc96",
           "#ab63fa",
           "#FFA15A",
           "#19d3f3",
           "#FF6692",
           "#B6E880",
           "#FF97FF",
           "#FECB52"
          ],
          "font": {
           "color": "#2a3f5f"
          },
          "geo": {
           "bgcolor": "white",
           "lakecolor": "white",
           "landcolor": "#E5ECF6",
           "showlakes": true,
           "showland": true,
           "subunitcolor": "white"
          },
          "hoverlabel": {
           "align": "left"
          },
          "hovermode": "closest",
          "mapbox": {
           "style": "light"
          },
          "paper_bgcolor": "white",
          "plot_bgcolor": "#E5ECF6",
          "polar": {
           "angularaxis": {
            "gridcolor": "white",
            "linecolor": "white",
            "ticks": ""
           },
           "bgcolor": "#E5ECF6",
           "radialaxis": {
            "gridcolor": "white",
            "linecolor": "white",
            "ticks": ""
           }
          },
          "scene": {
           "xaxis": {
            "backgroundcolor": "#E5ECF6",
            "gridcolor": "white",
            "gridwidth": 2,
            "linecolor": "white",
            "showbackground": true,
            "ticks": "",
            "zerolinecolor": "white"
           },
           "yaxis": {
            "backgroundcolor": "#E5ECF6",
            "gridcolor": "white",
            "gridwidth": 2,
            "linecolor": "white",
            "showbackground": true,
            "ticks": "",
            "zerolinecolor": "white"
           },
           "zaxis": {
            "backgroundcolor": "#E5ECF6",
            "gridcolor": "white",
            "gridwidth": 2,
            "linecolor": "white",
            "showbackground": true,
            "ticks": "",
            "zerolinecolor": "white"
           }
          },
          "shapedefaults": {
           "line": {
            "color": "#2a3f5f"
           }
          },
          "ternary": {
           "aaxis": {
            "gridcolor": "white",
            "linecolor": "white",
            "ticks": ""
           },
           "baxis": {
            "gridcolor": "white",
            "linecolor": "white",
            "ticks": ""
           },
           "bgcolor": "#E5ECF6",
           "caxis": {
            "gridcolor": "white",
            "linecolor": "white",
            "ticks": ""
           }
          },
          "title": {
           "x": 0.05
          },
          "xaxis": {
           "automargin": true,
           "gridcolor": "white",
           "linecolor": "white",
           "ticks": "",
           "title": {
            "standoff": 15
           },
           "zerolinecolor": "white",
           "zerolinewidth": 2
          },
          "yaxis": {
           "automargin": true,
           "gridcolor": "white",
           "linecolor": "white",
           "ticks": "",
           "title": {
            "standoff": 15
           },
           "zerolinecolor": "white",
           "zerolinewidth": 2
          }
         }
        },
        "title": {
         "text": "Contagem de Coletas por País (Empilhado por Ano)"
        },
        "xaxis": {
         "anchor": "y",
         "domain": [
          0,
          1
         ],
         "title": {
          "text": "ano"
         }
        },
        "yaxis": {
         "anchor": "x",
         "domain": [
          0,
          1
         ],
         "title": {
          "text": "Contagem de Coletas"
         }
        }
       }
      },
      "text/html": [
       "<div>                        <script type=\"text/javascript\">window.PlotlyConfig = {MathJaxConfig: 'local'};</script>\n",
       "        <script charset=\"utf-8\" src=\"https://cdn.plot.ly/plotly-2.32.0.min.js\"></script>                <div id=\"fd3d1d50-7720-421e-8d33-3e85827c871e\" class=\"plotly-graph-div\" style=\"height:100%; width:100%;\"></div>            <script type=\"text/javascript\">                                    window.PLOTLYENV=window.PLOTLYENV || {};                                    if (document.getElementById(\"fd3d1d50-7720-421e-8d33-3e85827c871e\")) {                    Plotly.newPlot(                        \"fd3d1d50-7720-421e-8d33-3e85827c871e\",                        [{\"alignmentgroup\":\"True\",\"hovertemplate\":\"stateProvince=Bahia\\u003cbr\\u003eano=%{x}\\u003cbr\\u003eContagem de Coletas=%{y}\\u003cextra\\u003e\\u003c\\u002fextra\\u003e\",\"legendgroup\":\"Bahia\",\"marker\":{\"color\":\"#636efa\",\"pattern\":{\"shape\":\"\"}},\"name\":\"Bahia\",\"offsetgroup\":\"Bahia\",\"orientation\":\"v\",\"showlegend\":true,\"textposition\":\"auto\",\"x\":[2022,2021,2014,2013,2023,2019,2016,2017,2020],\"xaxis\":\"x\",\"y\":[1,5,10,12,12,22,26,83,122],\"yaxis\":\"y\",\"type\":\"bar\"},{\"alignmentgroup\":\"True\",\"hovertemplate\":\"stateProvince=Pernambuco\\u003cbr\\u003eano=%{x}\\u003cbr\\u003eContagem de Coletas=%{y}\\u003cextra\\u003e\\u003c\\u002fextra\\u003e\",\"legendgroup\":\"Pernambuco\",\"marker\":{\"color\":\"#EF553B\",\"pattern\":{\"shape\":\"\"}},\"name\":\"Pernambuco\",\"offsetgroup\":\"Pernambuco\",\"orientation\":\"v\",\"showlegend\":true,\"textposition\":\"auto\",\"x\":[2018,2020,2012,2014,2013,2017],\"xaxis\":\"x\",\"y\":[1,6,12,15,36,43],\"yaxis\":\"y\",\"type\":\"bar\"},{\"alignmentgroup\":\"True\",\"hovertemplate\":\"stateProvince=Esp\\u00edrito Santo\\u003cbr\\u003eano=%{x}\\u003cbr\\u003eContagem de Coletas=%{y}\\u003cextra\\u003e\\u003c\\u002fextra\\u003e\",\"legendgroup\":\"Esp\\u00edrito Santo\",\"marker\":{\"color\":\"#00cc96\",\"pattern\":{\"shape\":\"\"}},\"name\":\"Esp\\u00edrito Santo\",\"offsetgroup\":\"Esp\\u00edrito Santo\",\"orientation\":\"v\",\"showlegend\":true,\"textposition\":\"auto\",\"x\":[2018,2021,2014,2016,2023,2013,2020,2017,2019,2022],\"xaxis\":\"x\",\"y\":[1,1,4,11,12,15,37,52,105,130],\"yaxis\":\"y\",\"type\":\"bar\"},{\"alignmentgroup\":\"True\",\"hovertemplate\":\"stateProvince=Mato Grosso do Sul\\u003cbr\\u003eano=%{x}\\u003cbr\\u003eContagem de Coletas=%{y}\\u003cextra\\u003e\\u003c\\u002fextra\\u003e\",\"legendgroup\":\"Mato Grosso do Sul\",\"marker\":{\"color\":\"#ab63fa\",\"pattern\":{\"shape\":\"\"}},\"name\":\"Mato Grosso do Sul\",\"offsetgroup\":\"Mato Grosso do Sul\",\"orientation\":\"v\",\"showlegend\":true,\"textposition\":\"auto\",\"x\":[2018,2023,2014],\"xaxis\":\"x\",\"y\":[1,6,44],\"yaxis\":\"y\",\"type\":\"bar\"},{\"alignmentgroup\":\"True\",\"hovertemplate\":\"stateProvince=Rio Grande do Norte\\u003cbr\\u003eano=%{x}\\u003cbr\\u003eContagem de Coletas=%{y}\\u003cextra\\u003e\\u003c\\u002fextra\\u003e\",\"legendgroup\":\"Rio Grande do Norte\",\"marker\":{\"color\":\"#FFA15A\",\"pattern\":{\"shape\":\"\"}},\"name\":\"Rio Grande do Norte\",\"offsetgroup\":\"Rio Grande do Norte\",\"orientation\":\"v\",\"showlegend\":true,\"textposition\":\"auto\",\"x\":[2018,2020,2019,2017],\"xaxis\":\"x\",\"y\":[1,3,4,44],\"yaxis\":\"y\",\"type\":\"bar\"},{\"alignmentgroup\":\"True\",\"hovertemplate\":\"stateProvince=Para\\u00edba\\u003cbr\\u003eano=%{x}\\u003cbr\\u003eContagem de Coletas=%{y}\\u003cextra\\u003e\\u003c\\u002fextra\\u003e\",\"legendgroup\":\"Para\\u00edba\",\"marker\":{\"color\":\"#19d3f3\",\"pattern\":{\"shape\":\"\"}},\"name\":\"Para\\u00edba\",\"offsetgroup\":\"Para\\u00edba\",\"orientation\":\"v\",\"showlegend\":true,\"textposition\":\"auto\",\"x\":[2013,2023,2019,2022,2017],\"xaxis\":\"x\",\"y\":[1,1,2,2,35],\"yaxis\":\"y\",\"type\":\"bar\"},{\"alignmentgroup\":\"True\",\"hovertemplate\":\"stateProvince=Rio Grande do Sul\\u003cbr\\u003eano=%{x}\\u003cbr\\u003eContagem de Coletas=%{y}\\u003cextra\\u003e\\u003c\\u002fextra\\u003e\",\"legendgroup\":\"Rio Grande do Sul\",\"marker\":{\"color\":\"#FF6692\",\"pattern\":{\"shape\":\"\"}},\"name\":\"Rio Grande do Sul\",\"offsetgroup\":\"Rio Grande do Sul\",\"orientation\":\"v\",\"showlegend\":true,\"textposition\":\"auto\",\"x\":[2023,2020,2013,2014,2016,2012,2017],\"xaxis\":\"x\",\"y\":[1,5,6,12,19,34,35],\"yaxis\":\"y\",\"type\":\"bar\"},{\"alignmentgroup\":\"True\",\"hovertemplate\":\"stateProvince=Rio de Janeiro\\u003cbr\\u003eano=%{x}\\u003cbr\\u003eContagem de Coletas=%{y}\\u003cextra\\u003e\\u003c\\u002fextra\\u003e\",\"legendgroup\":\"Rio de Janeiro\",\"marker\":{\"color\":\"#B6E880\",\"pattern\":{\"shape\":\"\"}},\"name\":\"Rio de Janeiro\",\"offsetgroup\":\"Rio de Janeiro\",\"orientation\":\"v\",\"showlegend\":true,\"textposition\":\"auto\",\"x\":[2012,2022,2023,2015,2014,2017,2019,2020,2016,2013],\"xaxis\":\"x\",\"y\":[1,1,3,12,12,14,15,18,21,27],\"yaxis\":\"y\",\"type\":\"bar\"},{\"alignmentgroup\":\"True\",\"hovertemplate\":\"stateProvince=Paran\\u00e1\\u003cbr\\u003eano=%{x}\\u003cbr\\u003eContagem de Coletas=%{y}\\u003cextra\\u003e\\u003c\\u002fextra\\u003e\",\"legendgroup\":\"Paran\\u00e1\",\"marker\":{\"color\":\"#FF97FF\",\"pattern\":{\"shape\":\"\"}},\"name\":\"Paran\\u00e1\",\"offsetgroup\":\"Paran\\u00e1\",\"orientation\":\"v\",\"showlegend\":true,\"textposition\":\"auto\",\"x\":[2019,2016,2018,2014,2013],\"xaxis\":\"x\",\"y\":[1,1,1,4,42],\"yaxis\":\"y\",\"type\":\"bar\"},{\"alignmentgroup\":\"True\",\"hovertemplate\":\"stateProvince=Maranh\\u00e3o\\u003cbr\\u003eano=%{x}\\u003cbr\\u003eContagem de Coletas=%{y}\\u003cextra\\u003e\\u003c\\u002fextra\\u003e\",\"legendgroup\":\"Maranh\\u00e3o\",\"marker\":{\"color\":\"#FECB52\",\"pattern\":{\"shape\":\"\"}},\"name\":\"Maranh\\u00e3o\",\"offsetgroup\":\"Maranh\\u00e3o\",\"orientation\":\"v\",\"showlegend\":true,\"textposition\":\"auto\",\"x\":[2013,2020,2023,2017],\"xaxis\":\"x\",\"y\":[1,1,2,7],\"yaxis\":\"y\",\"type\":\"bar\"},{\"alignmentgroup\":\"True\",\"hovertemplate\":\"stateProvince=Amazonas\\u003cbr\\u003eano=%{x}\\u003cbr\\u003eContagem de Coletas=%{y}\\u003cextra\\u003e\\u003c\\u002fextra\\u003e\",\"legendgroup\":\"Amazonas\",\"marker\":{\"color\":\"#636efa\",\"pattern\":{\"shape\":\"\"}},\"name\":\"Amazonas\",\"offsetgroup\":\"Amazonas\",\"orientation\":\"v\",\"showlegend\":true,\"textposition\":\"auto\",\"x\":[2021,2015,2022,2014,2019,2012,2017,2013],\"xaxis\":\"x\",\"y\":[1,2,3,5,7,18,35,55],\"yaxis\":\"y\",\"type\":\"bar\"},{\"alignmentgroup\":\"True\",\"hovertemplate\":\"stateProvince=Rond\\u00f4nia\\u003cbr\\u003eano=%{x}\\u003cbr\\u003eContagem de Coletas=%{y}\\u003cextra\\u003e\\u003c\\u002fextra\\u003e\",\"legendgroup\":\"Rond\\u00f4nia\",\"marker\":{\"color\":\"#EF553B\",\"pattern\":{\"shape\":\"\"}},\"name\":\"Rond\\u00f4nia\",\"offsetgroup\":\"Rond\\u00f4nia\",\"orientation\":\"v\",\"showlegend\":true,\"textposition\":\"auto\",\"x\":[2017,2022,2019,2013,2012],\"xaxis\":\"x\",\"y\":[1,1,2,2,27],\"yaxis\":\"y\",\"type\":\"bar\"},{\"alignmentgroup\":\"True\",\"hovertemplate\":\"stateProvince=Alagoas\\u003cbr\\u003eano=%{x}\\u003cbr\\u003eContagem de Coletas=%{y}\\u003cextra\\u003e\\u003c\\u002fextra\\u003e\",\"legendgroup\":\"Alagoas\",\"marker\":{\"color\":\"#00cc96\",\"pattern\":{\"shape\":\"\"}},\"name\":\"Alagoas\",\"offsetgroup\":\"Alagoas\",\"orientation\":\"v\",\"showlegend\":true,\"textposition\":\"auto\",\"x\":[2022,2020,2019,2017],\"xaxis\":\"x\",\"y\":[1,1,12,47],\"yaxis\":\"y\",\"type\":\"bar\"},{\"alignmentgroup\":\"True\",\"hovertemplate\":\"stateProvince=Santa Catarina\\u003cbr\\u003eano=%{x}\\u003cbr\\u003eContagem de Coletas=%{y}\\u003cextra\\u003e\\u003c\\u002fextra\\u003e\",\"legendgroup\":\"Santa Catarina\",\"marker\":{\"color\":\"#ab63fa\",\"pattern\":{\"shape\":\"\"}},\"name\":\"Santa Catarina\",\"offsetgroup\":\"Santa Catarina\",\"orientation\":\"v\",\"showlegend\":true,\"textposition\":\"auto\",\"x\":[2022,2019,2020,2014,2013,2016,2017],\"xaxis\":\"x\",\"y\":[1,2,11,16,24,26,42],\"yaxis\":\"y\",\"type\":\"bar\"},{\"alignmentgroup\":\"True\",\"hovertemplate\":\"stateProvince=Mato Grosso\\u003cbr\\u003eano=%{x}\\u003cbr\\u003eContagem de Coletas=%{y}\\u003cextra\\u003e\\u003c\\u002fextra\\u003e\",\"legendgroup\":\"Mato Grosso\",\"marker\":{\"color\":\"#FFA15A\",\"pattern\":{\"shape\":\"\"}},\"name\":\"Mato Grosso\",\"offsetgroup\":\"Mato Grosso\",\"orientation\":\"v\",\"showlegend\":true,\"textposition\":\"auto\",\"x\":[2019,2014,2016,2022],\"xaxis\":\"x\",\"y\":[1,2,3,5],\"yaxis\":\"y\",\"type\":\"bar\"},{\"alignmentgroup\":\"True\",\"hovertemplate\":\"stateProvince=Acre\\u003cbr\\u003eano=%{x}\\u003cbr\\u003eContagem de Coletas=%{y}\\u003cextra\\u003e\\u003c\\u002fextra\\u003e\",\"legendgroup\":\"Acre\",\"marker\":{\"color\":\"#19d3f3\",\"pattern\":{\"shape\":\"\"}},\"name\":\"Acre\",\"offsetgroup\":\"Acre\",\"orientation\":\"v\",\"showlegend\":true,\"textposition\":\"auto\",\"x\":[2023,2018,2017,2014],\"xaxis\":\"x\",\"y\":[1,1,2,4],\"yaxis\":\"y\",\"type\":\"bar\"},{\"alignmentgroup\":\"True\",\"hovertemplate\":\"stateProvince=Par\\u00e1\\u003cbr\\u003eano=%{x}\\u003cbr\\u003eContagem de Coletas=%{y}\\u003cextra\\u003e\\u003c\\u002fextra\\u003e\",\"legendgroup\":\"Par\\u00e1\",\"marker\":{\"color\":\"#FF6692\",\"pattern\":{\"shape\":\"\"}},\"name\":\"Par\\u00e1\",\"offsetgroup\":\"Par\\u00e1\",\"orientation\":\"v\",\"showlegend\":true,\"textposition\":\"auto\",\"x\":[2012,2021,2018,2023,2022,2016,2013,2015,2014,2017],\"xaxis\":\"x\",\"y\":[1,4,12,17,19,70,76,84,85,118],\"yaxis\":\"y\",\"type\":\"bar\"},{\"alignmentgroup\":\"True\",\"hovertemplate\":\"stateProvince=Minas Gerais | S\\u00e3o Paulo\\u003cbr\\u003eano=%{x}\\u003cbr\\u003eContagem de Coletas=%{y}\\u003cextra\\u003e\\u003c\\u002fextra\\u003e\",\"legendgroup\":\"Minas Gerais | S\\u00e3o Paulo\",\"marker\":{\"color\":\"#B6E880\",\"pattern\":{\"shape\":\"\"}},\"name\":\"Minas Gerais | S\\u00e3o Paulo\",\"offsetgroup\":\"Minas Gerais | S\\u00e3o Paulo\",\"orientation\":\"v\",\"showlegend\":true,\"textposition\":\"auto\",\"x\":[2013],\"xaxis\":\"x\",\"y\":[2],\"yaxis\":\"y\",\"type\":\"bar\"},{\"alignmentgroup\":\"True\",\"hovertemplate\":\"stateProvince=Sergipe\\u003cbr\\u003eano=%{x}\\u003cbr\\u003eContagem de Coletas=%{y}\\u003cextra\\u003e\\u003c\\u002fextra\\u003e\",\"legendgroup\":\"Sergipe\",\"marker\":{\"color\":\"#FF97FF\",\"pattern\":{\"shape\":\"\"}},\"name\":\"Sergipe\",\"offsetgroup\":\"Sergipe\",\"orientation\":\"v\",\"showlegend\":true,\"textposition\":\"auto\",\"x\":[2017,2020,2022],\"xaxis\":\"x\",\"y\":[3,5,6],\"yaxis\":\"y\",\"type\":\"bar\"},{\"alignmentgroup\":\"True\",\"hovertemplate\":\"stateProvince=Piau\\u00ed\\u003cbr\\u003eano=%{x}\\u003cbr\\u003eContagem de Coletas=%{y}\\u003cextra\\u003e\\u003c\\u002fextra\\u003e\",\"legendgroup\":\"Piau\\u00ed\",\"marker\":{\"color\":\"#FECB52\",\"pattern\":{\"shape\":\"\"}},\"name\":\"Piau\\u00ed\",\"offsetgroup\":\"Piau\\u00ed\",\"orientation\":\"v\",\"showlegend\":true,\"textposition\":\"auto\",\"x\":[2019,2020,2023,2017],\"xaxis\":\"x\",\"y\":[3,4,5,76],\"yaxis\":\"y\",\"type\":\"bar\"},{\"alignmentgroup\":\"True\",\"hovertemplate\":\"stateProvince=Cear\\u00e1\\u003cbr\\u003eano=%{x}\\u003cbr\\u003eContagem de Coletas=%{y}\\u003cextra\\u003e\\u003c\\u002fextra\\u003e\",\"legendgroup\":\"Cear\\u00e1\",\"marker\":{\"color\":\"#636efa\",\"pattern\":{\"shape\":\"\"}},\"name\":\"Cear\\u00e1\",\"offsetgroup\":\"Cear\\u00e1\",\"orientation\":\"v\",\"showlegend\":true,\"textposition\":\"auto\",\"x\":[2016,2017],\"xaxis\":\"x\",\"y\":[3,46],\"yaxis\":\"y\",\"type\":\"bar\"},{\"alignmentgroup\":\"True\",\"hovertemplate\":\"stateProvince=S\\u00e3o Paulo\\u003cbr\\u003eano=%{x}\\u003cbr\\u003eContagem de Coletas=%{y}\\u003cextra\\u003e\\u003c\\u002fextra\\u003e\",\"legendgroup\":\"S\\u00e3o Paulo\",\"marker\":{\"color\":\"#EF553B\",\"pattern\":{\"shape\":\"\"}},\"name\":\"S\\u00e3o Paulo\",\"offsetgroup\":\"S\\u00e3o Paulo\",\"orientation\":\"v\",\"showlegend\":true,\"textposition\":\"auto\",\"x\":[2023,2021,2022,2014,2018,2020,2016,2019,2017,2013,2015,2012],\"xaxis\":\"x\",\"y\":[4,8,8,13,15,34,48,75,132,209,333,390],\"yaxis\":\"y\",\"type\":\"bar\"}],                        {\"template\":{\"data\":{\"histogram2dcontour\":[{\"type\":\"histogram2dcontour\",\"colorbar\":{\"outlinewidth\":0,\"ticks\":\"\"},\"colorscale\":[[0.0,\"#0d0887\"],[0.1111111111111111,\"#46039f\"],[0.2222222222222222,\"#7201a8\"],[0.3333333333333333,\"#9c179e\"],[0.4444444444444444,\"#bd3786\"],[0.5555555555555556,\"#d8576b\"],[0.6666666666666666,\"#ed7953\"],[0.7777777777777778,\"#fb9f3a\"],[0.8888888888888888,\"#fdca26\"],[1.0,\"#f0f921\"]]}],\"choropleth\":[{\"type\":\"choropleth\",\"colorbar\":{\"outlinewidth\":0,\"ticks\":\"\"}}],\"histogram2d\":[{\"type\":\"histogram2d\",\"colorbar\":{\"outlinewidth\":0,\"ticks\":\"\"},\"colorscale\":[[0.0,\"#0d0887\"],[0.1111111111111111,\"#46039f\"],[0.2222222222222222,\"#7201a8\"],[0.3333333333333333,\"#9c179e\"],[0.4444444444444444,\"#bd3786\"],[0.5555555555555556,\"#d8576b\"],[0.6666666666666666,\"#ed7953\"],[0.7777777777777778,\"#fb9f3a\"],[0.8888888888888888,\"#fdca26\"],[1.0,\"#f0f921\"]]}],\"heatmap\":[{\"type\":\"heatmap\",\"colorbar\":{\"outlinewidth\":0,\"ticks\":\"\"},\"colorscale\":[[0.0,\"#0d0887\"],[0.1111111111111111,\"#46039f\"],[0.2222222222222222,\"#7201a8\"],[0.3333333333333333,\"#9c179e\"],[0.4444444444444444,\"#bd3786\"],[0.5555555555555556,\"#d8576b\"],[0.6666666666666666,\"#ed7953\"],[0.7777777777777778,\"#fb9f3a\"],[0.8888888888888888,\"#fdca26\"],[1.0,\"#f0f921\"]]}],\"heatmapgl\":[{\"type\":\"heatmapgl\",\"colorbar\":{\"outlinewidth\":0,\"ticks\":\"\"},\"colorscale\":[[0.0,\"#0d0887\"],[0.1111111111111111,\"#46039f\"],[0.2222222222222222,\"#7201a8\"],[0.3333333333333333,\"#9c179e\"],[0.4444444444444444,\"#bd3786\"],[0.5555555555555556,\"#d8576b\"],[0.6666666666666666,\"#ed7953\"],[0.7777777777777778,\"#fb9f3a\"],[0.8888888888888888,\"#fdca26\"],[1.0,\"#f0f921\"]]}],\"contourcarpet\":[{\"type\":\"contourcarpet\",\"colorbar\":{\"outlinewidth\":0,\"ticks\":\"\"}}],\"contour\":[{\"type\":\"contour\",\"colorbar\":{\"outlinewidth\":0,\"ticks\":\"\"},\"colorscale\":[[0.0,\"#0d0887\"],[0.1111111111111111,\"#46039f\"],[0.2222222222222222,\"#7201a8\"],[0.3333333333333333,\"#9c179e\"],[0.4444444444444444,\"#bd3786\"],[0.5555555555555556,\"#d8576b\"],[0.6666666666666666,\"#ed7953\"],[0.7777777777777778,\"#fb9f3a\"],[0.8888888888888888,\"#fdca26\"],[1.0,\"#f0f921\"]]}],\"surface\":[{\"type\":\"surface\",\"colorbar\":{\"outlinewidth\":0,\"ticks\":\"\"},\"colorscale\":[[0.0,\"#0d0887\"],[0.1111111111111111,\"#46039f\"],[0.2222222222222222,\"#7201a8\"],[0.3333333333333333,\"#9c179e\"],[0.4444444444444444,\"#bd3786\"],[0.5555555555555556,\"#d8576b\"],[0.6666666666666666,\"#ed7953\"],[0.7777777777777778,\"#fb9f3a\"],[0.8888888888888888,\"#fdca26\"],[1.0,\"#f0f921\"]]}],\"mesh3d\":[{\"type\":\"mesh3d\",\"colorbar\":{\"outlinewidth\":0,\"ticks\":\"\"}}],\"scatter\":[{\"fillpattern\":{\"fillmode\":\"overlay\",\"size\":10,\"solidity\":0.2},\"type\":\"scatter\"}],\"parcoords\":[{\"type\":\"parcoords\",\"line\":{\"colorbar\":{\"outlinewidth\":0,\"ticks\":\"\"}}}],\"scatterpolargl\":[{\"type\":\"scatterpolargl\",\"marker\":{\"colorbar\":{\"outlinewidth\":0,\"ticks\":\"\"}}}],\"bar\":[{\"error_x\":{\"color\":\"#2a3f5f\"},\"error_y\":{\"color\":\"#2a3f5f\"},\"marker\":{\"line\":{\"color\":\"#E5ECF6\",\"width\":0.5},\"pattern\":{\"fillmode\":\"overlay\",\"size\":10,\"solidity\":0.2}},\"type\":\"bar\"}],\"scattergeo\":[{\"type\":\"scattergeo\",\"marker\":{\"colorbar\":{\"outlinewidth\":0,\"ticks\":\"\"}}}],\"scatterpolar\":[{\"type\":\"scatterpolar\",\"marker\":{\"colorbar\":{\"outlinewidth\":0,\"ticks\":\"\"}}}],\"histogram\":[{\"marker\":{\"pattern\":{\"fillmode\":\"overlay\",\"size\":10,\"solidity\":0.2}},\"type\":\"histogram\"}],\"scattergl\":[{\"type\":\"scattergl\",\"marker\":{\"colorbar\":{\"outlinewidth\":0,\"ticks\":\"\"}}}],\"scatter3d\":[{\"type\":\"scatter3d\",\"line\":{\"colorbar\":{\"outlinewidth\":0,\"ticks\":\"\"}},\"marker\":{\"colorbar\":{\"outlinewidth\":0,\"ticks\":\"\"}}}],\"scattermapbox\":[{\"type\":\"scattermapbox\",\"marker\":{\"colorbar\":{\"outlinewidth\":0,\"ticks\":\"\"}}}],\"scatterternary\":[{\"type\":\"scatterternary\",\"marker\":{\"colorbar\":{\"outlinewidth\":0,\"ticks\":\"\"}}}],\"scattercarpet\":[{\"type\":\"scattercarpet\",\"marker\":{\"colorbar\":{\"outlinewidth\":0,\"ticks\":\"\"}}}],\"carpet\":[{\"aaxis\":{\"endlinecolor\":\"#2a3f5f\",\"gridcolor\":\"white\",\"linecolor\":\"white\",\"minorgridcolor\":\"white\",\"startlinecolor\":\"#2a3f5f\"},\"baxis\":{\"endlinecolor\":\"#2a3f5f\",\"gridcolor\":\"white\",\"linecolor\":\"white\",\"minorgridcolor\":\"white\",\"startlinecolor\":\"#2a3f5f\"},\"type\":\"carpet\"}],\"table\":[{\"cells\":{\"fill\":{\"color\":\"#EBF0F8\"},\"line\":{\"color\":\"white\"}},\"header\":{\"fill\":{\"color\":\"#C8D4E3\"},\"line\":{\"color\":\"white\"}},\"type\":\"table\"}],\"barpolar\":[{\"marker\":{\"line\":{\"color\":\"#E5ECF6\",\"width\":0.5},\"pattern\":{\"fillmode\":\"overlay\",\"size\":10,\"solidity\":0.2}},\"type\":\"barpolar\"}],\"pie\":[{\"automargin\":true,\"type\":\"pie\"}]},\"layout\":{\"autotypenumbers\":\"strict\",\"colorway\":[\"#636efa\",\"#EF553B\",\"#00cc96\",\"#ab63fa\",\"#FFA15A\",\"#19d3f3\",\"#FF6692\",\"#B6E880\",\"#FF97FF\",\"#FECB52\"],\"font\":{\"color\":\"#2a3f5f\"},\"hovermode\":\"closest\",\"hoverlabel\":{\"align\":\"left\"},\"paper_bgcolor\":\"white\",\"plot_bgcolor\":\"#E5ECF6\",\"polar\":{\"bgcolor\":\"#E5ECF6\",\"angularaxis\":{\"gridcolor\":\"white\",\"linecolor\":\"white\",\"ticks\":\"\"},\"radialaxis\":{\"gridcolor\":\"white\",\"linecolor\":\"white\",\"ticks\":\"\"}},\"ternary\":{\"bgcolor\":\"#E5ECF6\",\"aaxis\":{\"gridcolor\":\"white\",\"linecolor\":\"white\",\"ticks\":\"\"},\"baxis\":{\"gridcolor\":\"white\",\"linecolor\":\"white\",\"ticks\":\"\"},\"caxis\":{\"gridcolor\":\"white\",\"linecolor\":\"white\",\"ticks\":\"\"}},\"coloraxis\":{\"colorbar\":{\"outlinewidth\":0,\"ticks\":\"\"}},\"colorscale\":{\"sequential\":[[0.0,\"#0d0887\"],[0.1111111111111111,\"#46039f\"],[0.2222222222222222,\"#7201a8\"],[0.3333333333333333,\"#9c179e\"],[0.4444444444444444,\"#bd3786\"],[0.5555555555555556,\"#d8576b\"],[0.6666666666666666,\"#ed7953\"],[0.7777777777777778,\"#fb9f3a\"],[0.8888888888888888,\"#fdca26\"],[1.0,\"#f0f921\"]],\"sequentialminus\":[[0.0,\"#0d0887\"],[0.1111111111111111,\"#46039f\"],[0.2222222222222222,\"#7201a8\"],[0.3333333333333333,\"#9c179e\"],[0.4444444444444444,\"#bd3786\"],[0.5555555555555556,\"#d8576b\"],[0.6666666666666666,\"#ed7953\"],[0.7777777777777778,\"#fb9f3a\"],[0.8888888888888888,\"#fdca26\"],[1.0,\"#f0f921\"]],\"diverging\":[[0,\"#8e0152\"],[0.1,\"#c51b7d\"],[0.2,\"#de77ae\"],[0.3,\"#f1b6da\"],[0.4,\"#fde0ef\"],[0.5,\"#f7f7f7\"],[0.6,\"#e6f5d0\"],[0.7,\"#b8e186\"],[0.8,\"#7fbc41\"],[0.9,\"#4d9221\"],[1,\"#276419\"]]},\"xaxis\":{\"gridcolor\":\"white\",\"linecolor\":\"white\",\"ticks\":\"\",\"title\":{\"standoff\":15},\"zerolinecolor\":\"white\",\"automargin\":true,\"zerolinewidth\":2},\"yaxis\":{\"gridcolor\":\"white\",\"linecolor\":\"white\",\"ticks\":\"\",\"title\":{\"standoff\":15},\"zerolinecolor\":\"white\",\"automargin\":true,\"zerolinewidth\":2},\"scene\":{\"xaxis\":{\"backgroundcolor\":\"#E5ECF6\",\"gridcolor\":\"white\",\"linecolor\":\"white\",\"showbackground\":true,\"ticks\":\"\",\"zerolinecolor\":\"white\",\"gridwidth\":2},\"yaxis\":{\"backgroundcolor\":\"#E5ECF6\",\"gridcolor\":\"white\",\"linecolor\":\"white\",\"showbackground\":true,\"ticks\":\"\",\"zerolinecolor\":\"white\",\"gridwidth\":2},\"zaxis\":{\"backgroundcolor\":\"#E5ECF6\",\"gridcolor\":\"white\",\"linecolor\":\"white\",\"showbackground\":true,\"ticks\":\"\",\"zerolinecolor\":\"white\",\"gridwidth\":2}},\"shapedefaults\":{\"line\":{\"color\":\"#2a3f5f\"}},\"annotationdefaults\":{\"arrowcolor\":\"#2a3f5f\",\"arrowhead\":0,\"arrowwidth\":1},\"geo\":{\"bgcolor\":\"white\",\"landcolor\":\"#E5ECF6\",\"subunitcolor\":\"white\",\"showland\":true,\"showlakes\":true,\"lakecolor\":\"white\"},\"title\":{\"x\":0.05},\"mapbox\":{\"style\":\"light\"}}},\"xaxis\":{\"anchor\":\"y\",\"domain\":[0.0,1.0],\"title\":{\"text\":\"ano\"}},\"yaxis\":{\"anchor\":\"x\",\"domain\":[0.0,1.0],\"title\":{\"text\":\"Contagem de Coletas\"}},\"legend\":{\"title\":{\"text\":\"stateProvince\"},\"tracegroupgap\":0},\"title\":{\"text\":\"Contagem de Coletas por Pa\\u00eds (Empilhado por Ano)\"},\"barmode\":\"stack\"},                        {\"responsive\": true}                    )                };                            </script>        </div>"
      ],
      "text/plain": [
       "Figure({\n",
       "    'data': [{'alignmentgroup': 'True',\n",
       "              'hovertemplate': 'stateProvince=Bahia<br>ano=%{x}<br>Contagem de Coletas=%{y}<extra></extra>',\n",
       "              'legendgroup': 'Bahia',\n",
       "              'marker': {'color': '#636efa', 'pattern': {'shape': ''}},\n",
       "              'name': 'Bahia',\n",
       "              'offsetgroup': 'Bahia',\n",
       "              'orientation': 'v',\n",
       "              'showlegend': True,\n",
       "              'textposition': 'auto',\n",
       "              'type': 'bar',\n",
       "              'x': array([2022, 2021, 2014, 2013, 2023, 2019, 2016, 2017, 2020], dtype=int64),\n",
       "              'xaxis': 'x',\n",
       "              'y': array([  1,   5,  10,  12,  12,  22,  26,  83, 122], dtype=int64),\n",
       "              'yaxis': 'y'},\n",
       "             {'alignmentgroup': 'True',\n",
       "              'hovertemplate': 'stateProvince=Pernambuco<br>ano=%{x}<br>Contagem de Coletas=%{y}<extra></extra>',\n",
       "              'legendgroup': 'Pernambuco',\n",
       "              'marker': {'color': '#EF553B', 'pattern': {'shape': ''}},\n",
       "              'name': 'Pernambuco',\n",
       "              'offsetgroup': 'Pernambuco',\n",
       "              'orientation': 'v',\n",
       "              'showlegend': True,\n",
       "              'textposition': 'auto',\n",
       "              'type': 'bar',\n",
       "              'x': array([2018, 2020, 2012, 2014, 2013, 2017], dtype=int64),\n",
       "              'xaxis': 'x',\n",
       "              'y': array([ 1,  6, 12, 15, 36, 43], dtype=int64),\n",
       "              'yaxis': 'y'},\n",
       "             {'alignmentgroup': 'True',\n",
       "              'hovertemplate': ('stateProvince=Espírito Santo<b' ... 'de Coletas=%{y}<extra></extra>'),\n",
       "              'legendgroup': 'Espírito Santo',\n",
       "              'marker': {'color': '#00cc96', 'pattern': {'shape': ''}},\n",
       "              'name': 'Espírito Santo',\n",
       "              'offsetgroup': 'Espírito Santo',\n",
       "              'orientation': 'v',\n",
       "              'showlegend': True,\n",
       "              'textposition': 'auto',\n",
       "              'type': 'bar',\n",
       "              'x': array([2018, 2021, 2014, 2016, 2023, 2013, 2020, 2017, 2019, 2022], dtype=int64),\n",
       "              'xaxis': 'x',\n",
       "              'y': array([  1,   1,   4,  11,  12,  15,  37,  52, 105, 130], dtype=int64),\n",
       "              'yaxis': 'y'},\n",
       "             {'alignmentgroup': 'True',\n",
       "              'hovertemplate': ('stateProvince=Mato Grosso do S' ... 'de Coletas=%{y}<extra></extra>'),\n",
       "              'legendgroup': 'Mato Grosso do Sul',\n",
       "              'marker': {'color': '#ab63fa', 'pattern': {'shape': ''}},\n",
       "              'name': 'Mato Grosso do Sul',\n",
       "              'offsetgroup': 'Mato Grosso do Sul',\n",
       "              'orientation': 'v',\n",
       "              'showlegend': True,\n",
       "              'textposition': 'auto',\n",
       "              'type': 'bar',\n",
       "              'x': array([2018, 2023, 2014], dtype=int64),\n",
       "              'xaxis': 'x',\n",
       "              'y': array([ 1,  6, 44], dtype=int64),\n",
       "              'yaxis': 'y'},\n",
       "             {'alignmentgroup': 'True',\n",
       "              'hovertemplate': ('stateProvince=Rio Grande do No' ... 'de Coletas=%{y}<extra></extra>'),\n",
       "              'legendgroup': 'Rio Grande do Norte',\n",
       "              'marker': {'color': '#FFA15A', 'pattern': {'shape': ''}},\n",
       "              'name': 'Rio Grande do Norte',\n",
       "              'offsetgroup': 'Rio Grande do Norte',\n",
       "              'orientation': 'v',\n",
       "              'showlegend': True,\n",
       "              'textposition': 'auto',\n",
       "              'type': 'bar',\n",
       "              'x': array([2018, 2020, 2019, 2017], dtype=int64),\n",
       "              'xaxis': 'x',\n",
       "              'y': array([ 1,  3,  4, 44], dtype=int64),\n",
       "              'yaxis': 'y'},\n",
       "             {'alignmentgroup': 'True',\n",
       "              'hovertemplate': 'stateProvince=Paraíba<br>ano=%{x}<br>Contagem de Coletas=%{y}<extra></extra>',\n",
       "              'legendgroup': 'Paraíba',\n",
       "              'marker': {'color': '#19d3f3', 'pattern': {'shape': ''}},\n",
       "              'name': 'Paraíba',\n",
       "              'offsetgroup': 'Paraíba',\n",
       "              'orientation': 'v',\n",
       "              'showlegend': True,\n",
       "              'textposition': 'auto',\n",
       "              'type': 'bar',\n",
       "              'x': array([2013, 2023, 2019, 2022, 2017], dtype=int64),\n",
       "              'xaxis': 'x',\n",
       "              'y': array([ 1,  1,  2,  2, 35], dtype=int64),\n",
       "              'yaxis': 'y'},\n",
       "             {'alignmentgroup': 'True',\n",
       "              'hovertemplate': ('stateProvince=Rio Grande do Su' ... 'de Coletas=%{y}<extra></extra>'),\n",
       "              'legendgroup': 'Rio Grande do Sul',\n",
       "              'marker': {'color': '#FF6692', 'pattern': {'shape': ''}},\n",
       "              'name': 'Rio Grande do Sul',\n",
       "              'offsetgroup': 'Rio Grande do Sul',\n",
       "              'orientation': 'v',\n",
       "              'showlegend': True,\n",
       "              'textposition': 'auto',\n",
       "              'type': 'bar',\n",
       "              'x': array([2023, 2020, 2013, 2014, 2016, 2012, 2017], dtype=int64),\n",
       "              'xaxis': 'x',\n",
       "              'y': array([ 1,  5,  6, 12, 19, 34, 35], dtype=int64),\n",
       "              'yaxis': 'y'},\n",
       "             {'alignmentgroup': 'True',\n",
       "              'hovertemplate': ('stateProvince=Rio de Janeiro<b' ... 'de Coletas=%{y}<extra></extra>'),\n",
       "              'legendgroup': 'Rio de Janeiro',\n",
       "              'marker': {'color': '#B6E880', 'pattern': {'shape': ''}},\n",
       "              'name': 'Rio de Janeiro',\n",
       "              'offsetgroup': 'Rio de Janeiro',\n",
       "              'orientation': 'v',\n",
       "              'showlegend': True,\n",
       "              'textposition': 'auto',\n",
       "              'type': 'bar',\n",
       "              'x': array([2012, 2022, 2023, 2015, 2014, 2017, 2019, 2020, 2016, 2013], dtype=int64),\n",
       "              'xaxis': 'x',\n",
       "              'y': array([ 1,  1,  3, 12, 12, 14, 15, 18, 21, 27], dtype=int64),\n",
       "              'yaxis': 'y'},\n",
       "             {'alignmentgroup': 'True',\n",
       "              'hovertemplate': 'stateProvince=Paraná<br>ano=%{x}<br>Contagem de Coletas=%{y}<extra></extra>',\n",
       "              'legendgroup': 'Paraná',\n",
       "              'marker': {'color': '#FF97FF', 'pattern': {'shape': ''}},\n",
       "              'name': 'Paraná',\n",
       "              'offsetgroup': 'Paraná',\n",
       "              'orientation': 'v',\n",
       "              'showlegend': True,\n",
       "              'textposition': 'auto',\n",
       "              'type': 'bar',\n",
       "              'x': array([2019, 2016, 2018, 2014, 2013], dtype=int64),\n",
       "              'xaxis': 'x',\n",
       "              'y': array([ 1,  1,  1,  4, 42], dtype=int64),\n",
       "              'yaxis': 'y'},\n",
       "             {'alignmentgroup': 'True',\n",
       "              'hovertemplate': 'stateProvince=Maranhão<br>ano=%{x}<br>Contagem de Coletas=%{y}<extra></extra>',\n",
       "              'legendgroup': 'Maranhão',\n",
       "              'marker': {'color': '#FECB52', 'pattern': {'shape': ''}},\n",
       "              'name': 'Maranhão',\n",
       "              'offsetgroup': 'Maranhão',\n",
       "              'orientation': 'v',\n",
       "              'showlegend': True,\n",
       "              'textposition': 'auto',\n",
       "              'type': 'bar',\n",
       "              'x': array([2013, 2020, 2023, 2017], dtype=int64),\n",
       "              'xaxis': 'x',\n",
       "              'y': array([1, 1, 2, 7], dtype=int64),\n",
       "              'yaxis': 'y'},\n",
       "             {'alignmentgroup': 'True',\n",
       "              'hovertemplate': 'stateProvince=Amazonas<br>ano=%{x}<br>Contagem de Coletas=%{y}<extra></extra>',\n",
       "              'legendgroup': 'Amazonas',\n",
       "              'marker': {'color': '#636efa', 'pattern': {'shape': ''}},\n",
       "              'name': 'Amazonas',\n",
       "              'offsetgroup': 'Amazonas',\n",
       "              'orientation': 'v',\n",
       "              'showlegend': True,\n",
       "              'textposition': 'auto',\n",
       "              'type': 'bar',\n",
       "              'x': array([2021, 2015, 2022, 2014, 2019, 2012, 2017, 2013], dtype=int64),\n",
       "              'xaxis': 'x',\n",
       "              'y': array([ 1,  2,  3,  5,  7, 18, 35, 55], dtype=int64),\n",
       "              'yaxis': 'y'},\n",
       "             {'alignmentgroup': 'True',\n",
       "              'hovertemplate': 'stateProvince=Rondônia<br>ano=%{x}<br>Contagem de Coletas=%{y}<extra></extra>',\n",
       "              'legendgroup': 'Rondônia',\n",
       "              'marker': {'color': '#EF553B', 'pattern': {'shape': ''}},\n",
       "              'name': 'Rondônia',\n",
       "              'offsetgroup': 'Rondônia',\n",
       "              'orientation': 'v',\n",
       "              'showlegend': True,\n",
       "              'textposition': 'auto',\n",
       "              'type': 'bar',\n",
       "              'x': array([2017, 2022, 2019, 2013, 2012], dtype=int64),\n",
       "              'xaxis': 'x',\n",
       "              'y': array([ 1,  1,  2,  2, 27], dtype=int64),\n",
       "              'yaxis': 'y'},\n",
       "             {'alignmentgroup': 'True',\n",
       "              'hovertemplate': 'stateProvince=Alagoas<br>ano=%{x}<br>Contagem de Coletas=%{y}<extra></extra>',\n",
       "              'legendgroup': 'Alagoas',\n",
       "              'marker': {'color': '#00cc96', 'pattern': {'shape': ''}},\n",
       "              'name': 'Alagoas',\n",
       "              'offsetgroup': 'Alagoas',\n",
       "              'orientation': 'v',\n",
       "              'showlegend': True,\n",
       "              'textposition': 'auto',\n",
       "              'type': 'bar',\n",
       "              'x': array([2022, 2020, 2019, 2017], dtype=int64),\n",
       "              'xaxis': 'x',\n",
       "              'y': array([ 1,  1, 12, 47], dtype=int64),\n",
       "              'yaxis': 'y'},\n",
       "             {'alignmentgroup': 'True',\n",
       "              'hovertemplate': ('stateProvince=Santa Catarina<b' ... 'de Coletas=%{y}<extra></extra>'),\n",
       "              'legendgroup': 'Santa Catarina',\n",
       "              'marker': {'color': '#ab63fa', 'pattern': {'shape': ''}},\n",
       "              'name': 'Santa Catarina',\n",
       "              'offsetgroup': 'Santa Catarina',\n",
       "              'orientation': 'v',\n",
       "              'showlegend': True,\n",
       "              'textposition': 'auto',\n",
       "              'type': 'bar',\n",
       "              'x': array([2022, 2019, 2020, 2014, 2013, 2016, 2017], dtype=int64),\n",
       "              'xaxis': 'x',\n",
       "              'y': array([ 1,  2, 11, 16, 24, 26, 42], dtype=int64),\n",
       "              'yaxis': 'y'},\n",
       "             {'alignmentgroup': 'True',\n",
       "              'hovertemplate': 'stateProvince=Mato Grosso<br>ano=%{x}<br>Contagem de Coletas=%{y}<extra></extra>',\n",
       "              'legendgroup': 'Mato Grosso',\n",
       "              'marker': {'color': '#FFA15A', 'pattern': {'shape': ''}},\n",
       "              'name': 'Mato Grosso',\n",
       "              'offsetgroup': 'Mato Grosso',\n",
       "              'orientation': 'v',\n",
       "              'showlegend': True,\n",
       "              'textposition': 'auto',\n",
       "              'type': 'bar',\n",
       "              'x': array([2019, 2014, 2016, 2022], dtype=int64),\n",
       "              'xaxis': 'x',\n",
       "              'y': array([1, 2, 3, 5], dtype=int64),\n",
       "              'yaxis': 'y'},\n",
       "             {'alignmentgroup': 'True',\n",
       "              'hovertemplate': 'stateProvince=Acre<br>ano=%{x}<br>Contagem de Coletas=%{y}<extra></extra>',\n",
       "              'legendgroup': 'Acre',\n",
       "              'marker': {'color': '#19d3f3', 'pattern': {'shape': ''}},\n",
       "              'name': 'Acre',\n",
       "              'offsetgroup': 'Acre',\n",
       "              'orientation': 'v',\n",
       "              'showlegend': True,\n",
       "              'textposition': 'auto',\n",
       "              'type': 'bar',\n",
       "              'x': array([2023, 2018, 2017, 2014], dtype=int64),\n",
       "              'xaxis': 'x',\n",
       "              'y': array([1, 1, 2, 4], dtype=int64),\n",
       "              'yaxis': 'y'},\n",
       "             {'alignmentgroup': 'True',\n",
       "              'hovertemplate': 'stateProvince=Pará<br>ano=%{x}<br>Contagem de Coletas=%{y}<extra></extra>',\n",
       "              'legendgroup': 'Pará',\n",
       "              'marker': {'color': '#FF6692', 'pattern': {'shape': ''}},\n",
       "              'name': 'Pará',\n",
       "              'offsetgroup': 'Pará',\n",
       "              'orientation': 'v',\n",
       "              'showlegend': True,\n",
       "              'textposition': 'auto',\n",
       "              'type': 'bar',\n",
       "              'x': array([2012, 2021, 2018, 2023, 2022, 2016, 2013, 2015, 2014, 2017], dtype=int64),\n",
       "              'xaxis': 'x',\n",
       "              'y': array([  1,   4,  12,  17,  19,  70,  76,  84,  85, 118], dtype=int64),\n",
       "              'yaxis': 'y'},\n",
       "             {'alignmentgroup': 'True',\n",
       "              'hovertemplate': ('stateProvince=Minas Gerais | S' ... 'de Coletas=%{y}<extra></extra>'),\n",
       "              'legendgroup': 'Minas Gerais | São Paulo',\n",
       "              'marker': {'color': '#B6E880', 'pattern': {'shape': ''}},\n",
       "              'name': 'Minas Gerais | São Paulo',\n",
       "              'offsetgroup': 'Minas Gerais | São Paulo',\n",
       "              'orientation': 'v',\n",
       "              'showlegend': True,\n",
       "              'textposition': 'auto',\n",
       "              'type': 'bar',\n",
       "              'x': array([2013], dtype=int64),\n",
       "              'xaxis': 'x',\n",
       "              'y': array([2], dtype=int64),\n",
       "              'yaxis': 'y'},\n",
       "             {'alignmentgroup': 'True',\n",
       "              'hovertemplate': 'stateProvince=Sergipe<br>ano=%{x}<br>Contagem de Coletas=%{y}<extra></extra>',\n",
       "              'legendgroup': 'Sergipe',\n",
       "              'marker': {'color': '#FF97FF', 'pattern': {'shape': ''}},\n",
       "              'name': 'Sergipe',\n",
       "              'offsetgroup': 'Sergipe',\n",
       "              'orientation': 'v',\n",
       "              'showlegend': True,\n",
       "              'textposition': 'auto',\n",
       "              'type': 'bar',\n",
       "              'x': array([2017, 2020, 2022], dtype=int64),\n",
       "              'xaxis': 'x',\n",
       "              'y': array([3, 5, 6], dtype=int64),\n",
       "              'yaxis': 'y'},\n",
       "             {'alignmentgroup': 'True',\n",
       "              'hovertemplate': 'stateProvince=Piauí<br>ano=%{x}<br>Contagem de Coletas=%{y}<extra></extra>',\n",
       "              'legendgroup': 'Piauí',\n",
       "              'marker': {'color': '#FECB52', 'pattern': {'shape': ''}},\n",
       "              'name': 'Piauí',\n",
       "              'offsetgroup': 'Piauí',\n",
       "              'orientation': 'v',\n",
       "              'showlegend': True,\n",
       "              'textposition': 'auto',\n",
       "              'type': 'bar',\n",
       "              'x': array([2019, 2020, 2023, 2017], dtype=int64),\n",
       "              'xaxis': 'x',\n",
       "              'y': array([ 3,  4,  5, 76], dtype=int64),\n",
       "              'yaxis': 'y'},\n",
       "             {'alignmentgroup': 'True',\n",
       "              'hovertemplate': 'stateProvince=Ceará<br>ano=%{x}<br>Contagem de Coletas=%{y}<extra></extra>',\n",
       "              'legendgroup': 'Ceará',\n",
       "              'marker': {'color': '#636efa', 'pattern': {'shape': ''}},\n",
       "              'name': 'Ceará',\n",
       "              'offsetgroup': 'Ceará',\n",
       "              'orientation': 'v',\n",
       "              'showlegend': True,\n",
       "              'textposition': 'auto',\n",
       "              'type': 'bar',\n",
       "              'x': array([2016, 2017], dtype=int64),\n",
       "              'xaxis': 'x',\n",
       "              'y': array([ 3, 46], dtype=int64),\n",
       "              'yaxis': 'y'},\n",
       "             {'alignmentgroup': 'True',\n",
       "              'hovertemplate': 'stateProvince=São Paulo<br>ano=%{x}<br>Contagem de Coletas=%{y}<extra></extra>',\n",
       "              'legendgroup': 'São Paulo',\n",
       "              'marker': {'color': '#EF553B', 'pattern': {'shape': ''}},\n",
       "              'name': 'São Paulo',\n",
       "              'offsetgroup': 'São Paulo',\n",
       "              'orientation': 'v',\n",
       "              'showlegend': True,\n",
       "              'textposition': 'auto',\n",
       "              'type': 'bar',\n",
       "              'x': array([2023, 2021, 2022, 2014, 2018, 2020, 2016, 2019, 2017, 2013, 2015, 2012],\n",
       "                         dtype=int64),\n",
       "              'xaxis': 'x',\n",
       "              'y': array([  4,   8,   8,  13,  15,  34,  48,  75, 132, 209, 333, 390], dtype=int64),\n",
       "              'yaxis': 'y'}],\n",
       "    'layout': {'barmode': 'stack',\n",
       "               'legend': {'title': {'text': 'stateProvince'}, 'tracegroupgap': 0},\n",
       "               'template': '...',\n",
       "               'title': {'text': 'Contagem de Coletas por País (Empilhado por Ano)'},\n",
       "               'xaxis': {'anchor': 'y', 'domain': [0.0, 1.0], 'title': {'text': 'ano'}},\n",
       "               'yaxis': {'anchor': 'x', 'domain': [0.0, 1.0], 'title': {'text': 'Contagem de Coletas'}}}\n",
       "})"
      ]
     },
     "execution_count": 20,
     "metadata": {},
     "output_type": "execute_result"
    }
   ],
   "source": [
    "df_ano = df.copy()\n",
    "\n",
    "df_ano = df_ano[df_ano['country'] == 'Brasil']\n",
    "df_ano = df_ano[df_ano['stateProvince'] != 'Minas Gerais']\n",
    "df_agrupado = df_ano.groupby(['stateProvince', 'ano']).size().reset_index(name='counts')\n",
    "\n",
    "# Ordene os dados pelo ano\n",
    "df_agrupado = df_agrupado.sort_values(by='counts')\n",
    "\n",
    "# Crie o gráfico de barras empilhadas\n",
    "fig = px.bar(df_agrupado, color='stateProvince', y='counts', x='ano', title='Contagem de Coletas por País (Empilhado por Ano)',\n",
    "             labels={'counts': 'Contagem de Coletas', 'country': 'País', 'year': 'Ano'},\n",
    "             barmode='stack')\n",
    "\n",
    "fig"
   ]
  },
  {
   "cell_type": "code",
   "execution_count": null,
   "metadata": {},
   "outputs": [],
   "source": [
    "from folium import Marker, Map, LayerControl, Icon, FeatureGroup\n",
    "from folium.plugins import HeatMap\n",
    "from random import randint\n",
    "from datetime import date\n",
    "\n",
    "# Verificar a coluna decimal para ser inteiro\n",
    "df_mapa = df.copy()\n",
    "\n",
    "def fazer_mapa(df_mapa):\n",
    "    family = 'family'  # Certifique-se de definir a família correta aqui\n",
    "    zoom_level = 4\n",
    "    genero_cores = {}\n",
    "    cores = ['red','blue','green','purple','orange','darkred','lightred','beige','darkblue','darkgreen','cadetblue','darkpurple','white','pink','lightblue','lightgreen','gray','black','lightgray']\n",
    "\n",
    "    # Lista com o maior e menor valor de latitude e longitude\n",
    "    latitude_values = [df_mapa['decimalLatitude'].max(), df_mapa['decimalLatitude'].min()]\n",
    "    longitude_values = [df_mapa['decimalLongitude'].max(), df_mapa['decimalLongitude'].min()]\n",
    "\n",
    "    if all(value is None for value in latitude_values) and all(value is None for value in longitude_values):\n",
    "        latitude_values = [-19.8688655, -19.8688655]\n",
    "        longitude_values = [-43.9695513, -43.9695513]\n",
    "        zoom_level = 16\n",
    "\n",
    "    # Média para determinar o meio do mapa\n",
    "    latitude_media = sum(latitude_values) / 2\n",
    "    longitude_media = sum(longitude_values) / 2\n",
    "\n",
    "    # Inicializa o mapa com o meio calculado e o nível de zoom\n",
    "    mapa_family = Map(location=[latitude_media, longitude_media], zoom_start=zoom_level, name='Map')\n",
    "\n",
    "    # Prepara dados para o HeatMap\n",
    "    heat_data = [[float(row['decimalLatitude']), float(row['decimalLongitude'])] for index, row in df_mapa.iterrows() if not pd.isnull(row['decimalLatitude']) and not pd.isnull(row['decimalLongitude'])]\n",
    "\n",
    "    for index, colecao in df_mapa.iterrows():\n",
    "        if not pd.isnull(colecao['decimalLatitude']) and not pd.isnull(colecao['decimalLongitude']):\n",
    "            latitude = colecao['decimalLatitude']\n",
    "            longitude = colecao['decimalLongitude']\n",
    "\n",
    "            # Associa uma cor a um gênero e cria uma camada de mapa para cada gênero\n",
    "            if colecao['genus'] not in genero_cores and len(cores) > 0:\n",
    "                cor = cores.pop(0)\n",
    "                genero_cores[colecao['genus']] = {'camada': FeatureGroup(name='<span style=\"color: '+cor+';\">\\u25A0 </span>'+colecao['genus']), 'cor': cor}\n",
    "            elif len(cores) <= 0:\n",
    "                cor = \"#{:06x}\".format(randint(0, 0xFFFFFF))\n",
    "                genero_cores[colecao['genus']] = {'camada': FeatureGroup(name='<span style=\"color: '+cor+';\">\\u25A0 </span>'+colecao['genus']), 'cor': cor}\n",
    "            else:\n",
    "                cor = genero_cores[colecao['genus']]['cor']\n",
    "\n",
    "            # Prepara informações para o popup do marcador no mapa\n",
    "            texto_popup = f\"UFMG-AC{colecao['catalogNumber']}\\n{colecao['country']} ({colecao['countryCode']}), {colecao['stateProvince']},{colecao['county']},\\n {latitude};{longitude},\\n{colecao['eventDate']}, Col.: , Cod.: {colecao['associatedSequences']}\"\n",
    "\n",
    "            # Adiciona marcadores para cada coleção ao mapa\n",
    "            Marker([latitude, longitude], popup=texto_popup, tooltip=colecao['catalogNumber'], icon=Icon(color=cor), name='marker').add_to(genero_cores[colecao['genus']]['camada'])\n",
    "\n",
    "        # Adiciona as camadas de mapa para cada gênero ao mapa principal\n",
    "        for genero in sorted(genero_cores.keys()):\n",
    "            camada = genero_cores[genero]['camada']\n",
    "            mapa_family.add_child(camada)\n",
    "\n",
    "    # Adiciona um HeatMap ao mapa\n",
    "    HeatMap(heat_data, name='HeatMap', show=False).add_to(mapa_family)\n",
    "\n",
    "    # Adiciona um controle de camadas ao mapa\n",
    "    LayerControl().add_to(mapa_family)\n",
    "\n",
    "    # Retorna a representação HTML do mapa\n",
    "    mapa_html = mapa_family._repr_html_()\n",
    "    return mapa_html\n",
    "\n",
    "a = fazer_mapa(df_mapa)\n",
    "a\n"
   ]
  },
  {
   "cell_type": "code",
   "execution_count": 34,
   "metadata": {},
   "outputs": [],
   "source": [
    "# análise de parte todo para verificar as especies de cada coletor\n"
   ]
  },
  {
   "cell_type": "code",
   "execution_count": 23,
   "metadata": {},
   "outputs": [],
   "source": [
    "''' \n",
    "análise multivariável (catalogNumber, recordedBy, individualcount, sex, lifeStage, preparations, yea, mounth, samplingProtocol, continent,\n",
    "                       country, StateProvince, country, order, superfamily, family, genus, specie, identifiedBy,dataIdentified\n",
    ")\n",
    "'''\n",
    "df_cp = df[['order', 'superfamily', 'family', 'genus', 'specie',]]#'recordedBy', 'individualCount', 'sex', 'lifeStage', 'preparations', 'samplingProtocol', 'country', 'stateProvince', 'country','identifiedBy','dateIdentified']]\n",
    "# fig = px.parallel_categories(df)\n",
    "# fig\n"
   ]
  },
  {
   "cell_type": "code",
   "execution_count": 24,
   "metadata": {},
   "outputs": [],
   "source": [
    "# sazonalidade com o mês e dia da semana\n"
   ]
  },
  {
   "cell_type": "code",
   "execution_count": 37,
   "metadata": {},
   "outputs": [
    {
     "data": {
      "text/html": [
       "\n",
       "        <iframe\n",
       "            width=\"100%\"\n",
       "            height=\"650\"\n",
       "            src=\"http://127.0.0.1:8051/\"\n",
       "            frameborder=\"0\"\n",
       "            allowfullscreen\n",
       "            \n",
       "        ></iframe>\n",
       "        "
      ],
      "text/plain": [
       "<IPython.lib.display.IFrame at 0x1b13ecae5f0>"
      ]
     },
     "metadata": {},
     "output_type": "display_data"
    }
   ],
   "source": [
    "# from dash_extensions import Plotly\n",
    "# Inicializar o aplicativo JupyterDash\n",
    "app = Dash(__name__)\n",
    "\n",
    "# Layout do aplicativo\n",
    "app.layout = html.Div([\n",
    "    dcc.Graph(id='treemap_brasil', figure=treemap_class_taxon),\n",
    "    dcc.Dropdown(\n",
    "        id='tax-selector',\n",
    "        options=[{'label': tax.capitalize(), 'value': tax} for tax in tax_levels],\n",
    "        value='order'\n",
    "    ),\n",
    "    dcc.Dropdown(\n",
    "        id='time-selector',\n",
    "        options=[{'label': 'Identificação', 'value': 'ano'}, {'label': 'Coleta', 'value': 'year'}],\n",
    "        value='ano',\n",
    "    ),\n",
    "    dcc.Graph(id='graph'),\n",
    "    dcc.Graph(id='graph1'),\n",
    "    dcc.Dropdown(id='line-tax-dropdown'),\n",
    "    dcc.Graph(id='line-graph'),\n",
    "    dcc.Graph(id='unique_tax', figure=grafico_unicos_taxon),\n",
    "    dcc.Graph(id='percent_null', figure=grafico_valores_null),\n",
    "    dcc.Graph(id='percent_null_denpendent', figure=grafico_valores_null_dependente),\n",
    "    dcc.Graph(id='coletores'),\n",
    "    dcc.Graph(id='equipe'),\n",
    "\n",
    "    dcc.Graph(id='treemap_paises',figure=treemap_paises),\n",
    "    html.Div(id='output'),\n",
    "    dcc.Graph(id='barras-country',clear_on_unhover=True),\n",
    "    dcc.Graph(\n",
    "        id='mapa',\n",
    "        # figure=Plotly(),\n",
    "        config={'displayModeBar': False}\n",
    "    )\n",
    "])\n",
    "\n",
    "line_dropdown_value = 'all'\n",
    "# @app.callback(\n",
    "#     Output('mapa', 'figure'),\n",
    "#     [Input('tax-selector', 'value'),]\n",
    "# )\n",
    "# def update_map(tax_selector):\n",
    "#     # Chame sua função fazer_mapa() aqui para obter o HTML do mapa e renderizá-lo no Dash\n",
    "#     mapa_html = fazer_mapa()\n",
    "#     return {'data': [], 'layout': {'template': mapa_html}}\n",
    "@app.callback(\n",
    "    [Output('line-tax-dropdown', 'options'),\n",
    "     Output('line-tax-dropdown', 'value')],\n",
    "    [Input('tax-selector', 'value')]\n",
    ")\n",
    "def update_line_tax_dropdown(selected_tax):\n",
    "    global line_dropdown_value\n",
    "    # Obter as opções de itens disponíveis no gráfico de linha para o nível taxonômico selecionado\n",
    "    line_tax_dropdown_options = [{'label': f'Mostrar todas as {selected_tax}', 'value': nome} if nome =='all' else {'label': nome, 'value': nome} for nome in linha_tax_dict[selected_tax]]\n",
    "\n",
    "    # Definir o valor inicial do dropdown para a seleção armazenada\n",
    "    initial_value = 'all'\n",
    "    \n",
    "    return line_tax_dropdown_options, initial_value\n",
    "\n",
    "@app.callback(\n",
    "    [Output('graph', 'figure'),\n",
    "     Output('graph1', 'figure'),\n",
    "     Output('line-graph', 'figure'),\n",
    "     Output('coletores', 'figure'),\n",
    "     Output('equipe', 'figure'),\n",
    "     Output('barras-country', 'figure'),\n",
    "     Output('output', 'children')],\n",
    "    [Input('tax-selector', 'value'),\n",
    "     Input('time-selector', 'value'),\n",
    "     Input('line-tax-dropdown', 'value'),\n",
    "     Input('barras-country', 'hoverData'),\n",
    "     Input('barras-country', 'clickData')]  \n",
    ")\n",
    "def update_figure(tax_selection, time_selection, line_tax_selection, hoverData, clickData):\n",
    "    global current_tax_selection, current_time_selection, line_dropdown_value\n",
    "    current_tax_selection = tax_selection\n",
    "    current_time_selection = time_selection\n",
    "\n",
    "    # Atualize o gráfico de linha apenas se a seleção mudou\n",
    "    if line_tax_selection != line_dropdown_value:\n",
    "        line_dropdown_value = line_tax_selection\n",
    "\n",
    "    # Access the appropriate area_empilhada_dict entry and retrieve the figure\n",
    "    output_text = f'Selecionado: {line_tax_selection} - {clickData} {hoverData}'\n",
    "    figure_to_return = area_empilhada_dict[tax_selection][time_selection]\n",
    "    histograma_return = histograma_tax_dict[tax_selection]\n",
    "    line_figure = linha_tax_dict[tax_selection][line_tax_selection] if line_tax_selection in linha_tax_dict[tax_selection] else linha_tax_dict[tax_selection]\n",
    "    barras_coletores_return = barras_coletores_dict[time_selection]\n",
    "    barras_equipe_return = barras_equipe_dict[time_selection]\n",
    "    barras_paises_return = barras_paises_dict[time_selection]\n",
    "\n",
    "    if hoverData and 'points' in hoverData:\n",
    "        hovered_country = hoverData['points'][0]['curveNumber']\n",
    "        for trace in barras_paises_return.data:\n",
    "            trace['marker']['opacity'] = 0.5\n",
    "        barras_paises_return.data[hovered_country]['marker']['opacity'] = 1.0\n",
    "    else:\n",
    "        for trace in barras_paises_return.data:\n",
    "            trace['marker']['opacity'] = 1.0\n",
    "\n",
    "    return figure_to_return, histograma_return, line_figure, barras_coletores_return, barras_equipe_return, barras_paises_return, output_text\n",
    "\n",
    "app.run_server(debug=True, port=8051)\n"
   ]
  }
 ],
 "metadata": {
  "kernelspec": {
   "display_name": "Python 3",
   "language": "python",
   "name": "python3"
  },
  "language_info": {
   "codemirror_mode": {
    "name": "ipython",
    "version": 3
   },
   "file_extension": ".py",
   "mimetype": "text/x-python",
   "name": "python",
   "nbconvert_exporter": "python",
   "pygments_lexer": "ipython3",
   "version": "3.10.11"
  }
 },
 "nbformat": 4,
 "nbformat_minor": 2
}
